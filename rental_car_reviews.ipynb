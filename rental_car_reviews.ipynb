{
 "cells": [
  {
   "cell_type": "markdown",
   "id": "26a73316",
   "metadata": {},
   "source": [
    "## Topic Model and LDA in Rental Cars Reviews"
   ]
  },
  {
   "cell_type": "code",
   "execution_count": 23,
   "id": "0416a264",
   "metadata": {},
   "outputs": [
    {
     "name": "stderr",
     "output_type": "stream",
     "text": [
      "/usr/local/lib/python3.8/dist-packages/ipykernel/ipkernel.py:283: DeprecationWarning: `should_run_async` will not call `transform_cell` automatically in the future. Please pass the result to `transformed_cell` argument and any exception that happen during thetransform in `preprocessing_exc_tuple` in IPython 7.17 and above.\n",
      "  and should_run_async(code)\n"
     ]
    }
   ],
   "source": [
    "import warnings\n",
    "warnings.filterwarnings(\"ignore\")"
   ]
  },
  {
   "cell_type": "code",
   "execution_count": 88,
   "id": "0fe6f72b",
   "metadata": {},
   "outputs": [],
   "source": [
    "import pandas as pd\n",
    "import numpy as np\n",
    "import matplotlib.pyplot as plt\n",
    "%matplotlib inline\n",
    "import seaborn as sns\n",
    "import re\n",
    "import gensim\n",
    "import gensim.corpora as corpora\n",
    "from gensim.models import CoherenceModel\n",
    "from gensim.utils import simple_preprocess\n",
    "import nltk\n",
    "#nltk.download('stopwords')\n",
    "from nltk.corpus import stopwords\n",
    "import pyLDAvis\n",
    "import pyLDAvis.gensim_models as gensimvis\n",
    "from sklearn.decomposition import LatentDirichletAllocation, NMF"
   ]
  },
  {
   "cell_type": "code",
   "execution_count": 110,
   "id": "8e51bafb",
   "metadata": {},
   "outputs": [],
   "source": [
    "reviews = pd.read_csv('rental_car_reviews.csv')"
   ]
  },
  {
   "cell_type": "code",
   "execution_count": 111,
   "id": "5ecf31dc",
   "metadata": {},
   "outputs": [
    {
     "data": {
      "text/html": [
       "<div>\n",
       "<style scoped>\n",
       "    .dataframe tbody tr th:only-of-type {\n",
       "        vertical-align: middle;\n",
       "    }\n",
       "\n",
       "    .dataframe tbody tr th {\n",
       "        vertical-align: top;\n",
       "    }\n",
       "\n",
       "    .dataframe thead th {\n",
       "        text-align: right;\n",
       "    }\n",
       "</style>\n",
       "<table border=\"1\" class=\"dataframe\">\n",
       "  <thead>\n",
       "    <tr style=\"text-align: right;\">\n",
       "      <th></th>\n",
       "      <th>review_id</th>\n",
       "      <th>user_id</th>\n",
       "      <th>business_id</th>\n",
       "      <th>stars</th>\n",
       "      <th>useful</th>\n",
       "      <th>funny</th>\n",
       "      <th>cool</th>\n",
       "      <th>text</th>\n",
       "      <th>date</th>\n",
       "    </tr>\n",
       "  </thead>\n",
       "  <tbody>\n",
       "    <tr>\n",
       "      <th>0</th>\n",
       "      <td>kms_G9eUBjP41WNcilV-BQ</td>\n",
       "      <td>Bbar1EB4JEviStEAqUEFOg</td>\n",
       "      <td>2NsEac9xCBI05bo5l4yI7Q</td>\n",
       "      <td>3</td>\n",
       "      <td>16</td>\n",
       "      <td>10</td>\n",
       "      <td>15</td>\n",
       "      <td>Review #189 - 2016\\n\\nWe arrived at Hertz at a...</td>\n",
       "      <td>9/18/16 16:36</td>\n",
       "    </tr>\n",
       "    <tr>\n",
       "      <th>1</th>\n",
       "      <td>fInMTob45HEXMD5w6EU1OA</td>\n",
       "      <td>wkL-vtKiksfYNRiRPRFvFg</td>\n",
       "      <td>LHXisknIbUy_XtdEQc7x9w</td>\n",
       "      <td>1</td>\n",
       "      <td>7</td>\n",
       "      <td>4</td>\n",
       "      <td>1</td>\n",
       "      <td>RUN RUN RUN!!! This is a sham up one side and ...</td>\n",
       "      <td>4/15/15 5:56</td>\n",
       "    </tr>\n",
       "    <tr>\n",
       "      <th>2</th>\n",
       "      <td>q657lC-g6BNC5sb355g1tQ</td>\n",
       "      <td>a0WsTTJAEqsZ4oNNIVn_lA</td>\n",
       "      <td>LHXisknIbUy_XtdEQc7x9w</td>\n",
       "      <td>1</td>\n",
       "      <td>2</td>\n",
       "      <td>1</td>\n",
       "      <td>2</td>\n",
       "      <td>I will never rented from them.\\nMy friend lost...</td>\n",
       "      <td>11/14/13 0:47</td>\n",
       "    </tr>\n",
       "    <tr>\n",
       "      <th>3</th>\n",
       "      <td>LdJ3Ktxs0SaPuLxMpxsCuQ</td>\n",
       "      <td>6-nJnTCI8zCMwxHrRHeAVA</td>\n",
       "      <td>2NsEac9xCBI05bo5l4yI7Q</td>\n",
       "      <td>1</td>\n",
       "      <td>2</td>\n",
       "      <td>0</td>\n",
       "      <td>0</td>\n",
       "      <td>My wife and I flew out to Vegas for the 3-Day ...</td>\n",
       "      <td>2/21/13 21:01</td>\n",
       "    </tr>\n",
       "    <tr>\n",
       "      <th>4</th>\n",
       "      <td>89VEv6_a1xGLMwyFmyI17A</td>\n",
       "      <td>_-OfDLQDrShVuMNq9H1mJQ</td>\n",
       "      <td>y-mHecGBw8oFGKueVwTOJA</td>\n",
       "      <td>5</td>\n",
       "      <td>0</td>\n",
       "      <td>0</td>\n",
       "      <td>0</td>\n",
       "      <td>Check in and check out was quick and efficient...</td>\n",
       "      <td>2/1/18 16:01</td>\n",
       "    </tr>\n",
       "  </tbody>\n",
       "</table>\n",
       "</div>"
      ],
      "text/plain": [
       "                review_id                 user_id             business_id  \\\n",
       "0  kms_G9eUBjP41WNcilV-BQ  Bbar1EB4JEviStEAqUEFOg  2NsEac9xCBI05bo5l4yI7Q   \n",
       "1  fInMTob45HEXMD5w6EU1OA  wkL-vtKiksfYNRiRPRFvFg  LHXisknIbUy_XtdEQc7x9w   \n",
       "2  q657lC-g6BNC5sb355g1tQ  a0WsTTJAEqsZ4oNNIVn_lA  LHXisknIbUy_XtdEQc7x9w   \n",
       "3  LdJ3Ktxs0SaPuLxMpxsCuQ  6-nJnTCI8zCMwxHrRHeAVA  2NsEac9xCBI05bo5l4yI7Q   \n",
       "4  89VEv6_a1xGLMwyFmyI17A  _-OfDLQDrShVuMNq9H1mJQ  y-mHecGBw8oFGKueVwTOJA   \n",
       "\n",
       "   stars  useful  funny  cool  \\\n",
       "0      3      16     10    15   \n",
       "1      1       7      4     1   \n",
       "2      1       2      1     2   \n",
       "3      1       2      0     0   \n",
       "4      5       0      0     0   \n",
       "\n",
       "                                                text           date  \n",
       "0  Review #189 - 2016\\n\\nWe arrived at Hertz at a...  9/18/16 16:36  \n",
       "1  RUN RUN RUN!!! This is a sham up one side and ...   4/15/15 5:56  \n",
       "2  I will never rented from them.\\nMy friend lost...  11/14/13 0:47  \n",
       "3  My wife and I flew out to Vegas for the 3-Day ...  2/21/13 21:01  \n",
       "4  Check in and check out was quick and efficient...   2/1/18 16:01  "
      ]
     },
     "execution_count": 111,
     "metadata": {},
     "output_type": "execute_result"
    }
   ],
   "source": [
    "reviews.head(5)"
   ]
  },
  {
   "cell_type": "code",
   "execution_count": 112,
   "id": "107da321",
   "metadata": {},
   "outputs": [
    {
     "data": {
      "text/plain": [
       "(7789, 9)"
      ]
     },
     "execution_count": 112,
     "metadata": {},
     "output_type": "execute_result"
    }
   ],
   "source": [
    "reviews.shape"
   ]
  },
  {
   "cell_type": "markdown",
   "id": "3d5eb3b5",
   "metadata": {},
   "source": [
    "**Data Cleaning**"
   ]
  },
  {
   "cell_type": "code",
   "execution_count": 113,
   "id": "6c706aa2",
   "metadata": {},
   "outputs": [
    {
     "data": {
      "text/plain": [
       "0"
      ]
     },
     "execution_count": 113,
     "metadata": {},
     "output_type": "execute_result"
    }
   ],
   "source": [
    "#check empty review\n",
    "reviews['text'].isnull().sum()"
   ]
  },
  {
   "cell_type": "markdown",
   "id": "249503b3",
   "metadata": {},
   "source": [
    "**Check and Remove short reviews**\n",
    "\n",
    "Remove reviews where length of words < 5"
   ]
  },
  {
   "cell_type": "code",
   "execution_count": 114,
   "id": "bc7fd355",
   "metadata": {},
   "outputs": [],
   "source": [
    "reviews['lenText'] = reviews['text'].str.split().str.len()"
   ]
  },
  {
   "cell_type": "code",
   "execution_count": 115,
   "id": "4540963c",
   "metadata": {},
   "outputs": [],
   "source": [
    "reviews = reviews.query(\"lenText >= 5\").reset_index(drop = True)"
   ]
  },
  {
   "cell_type": "code",
   "execution_count": 116,
   "id": "f45ecd10",
   "metadata": {},
   "outputs": [],
   "source": [
    "#use for join later if needed\n",
    "reviews['Document_No'] = np.arange(0, len(reviews))"
   ]
  },
  {
   "cell_type": "code",
   "execution_count": 118,
   "id": "b830a5f4",
   "metadata": {},
   "outputs": [
    {
     "data": {
      "text/plain": [
       "(7786, 11)"
      ]
     },
     "execution_count": 118,
     "metadata": {},
     "output_type": "execute_result"
    }
   ],
   "source": [
    "#remove 3 rows\n",
    "reviews.shape"
   ]
  },
  {
   "cell_type": "code",
   "execution_count": 119,
   "id": "3cba9447",
   "metadata": {},
   "outputs": [
    {
     "data": {
      "text/plain": [
       "'RUN RUN RUN!!! This is a sham up one side and down the other!! We rented an economy car, like we have 40 times (we are locals). We prepaid through carrentals.com. It CLEARLY STATES on the agreement...UNLIMITED MILES.....I drop my husband off to get our PREPAID RENTAL CAR from EZ SLEEZY CAR RENTALS OF LAS VEGAS! When hubby gets to the counter...GUESS WHAT...she said YOU ARE LOCALS... you need to bring a bill from home to PROVE WHERE YOU LIVE...and you only get 150 miles per day and you need to pay a big fat deposit and and and..IT CLEARLY SAYS ON CONTRACT....unlimited miles...paid in full...The rude B$TCH at the counter was a horrible wench with a horrible attitude...she was just a nasty person.So my husband walked over to HERTZ...rented a car....paid and because it was in person they did a 200.00 hold (which is fine) it was 20.00 more for 1 day less than EZ SHIT HOLE NASTY CAR SCAM NOT RENT AL. Then on the contract it says NO REFUNDS NO MATTER WHAT....   SERIOUSLY!?  They broke the contract but changing ALLLLL the terms As a local...THEY ARE VERY PREJUDICE TOWARDS US...and we are a \"disabled vet marine\" and a \"business owner\" with a \"5 year old child \" with us. STAY AWAY FROM THIS PLACE..what glitter here is NOT GOLD...it is lie steal and cheat the customers...GO TO ANYWHERE other than this rip off place...what a freaking NIGHTMARE!!! If you are LOCAL....DO NOT COME HERE AT ALL!!!  If you purchase online...DOES NOT MATTER you are screwed...plan on getting a car somewhere else and plan an additional chunk of money you wont have for your vacation!!  RUN RUN RUN..unless you like the run around , getting ripped off and having nightmares. We have used all the other companies there....this is the ONLY ONE we had a problem with...it was the WORST EXPERIENCE EVER!!  This rental was April 2015'"
      ]
     },
     "execution_count": 119,
     "metadata": {},
     "output_type": "execute_result"
    }
   ],
   "source": [
    "reviews['text'][1]"
   ]
  },
  {
   "cell_type": "code",
   "execution_count": 120,
   "id": "7286e7df",
   "metadata": {},
   "outputs": [],
   "source": [
    "# Remove punctuation\n",
    "reviews['reviewText_clean'] = reviews['text'].map(lambda x: re.sub('[\"#$;:(),\\!\\'?-]', '', x))\n",
    "#replace rn with space\n",
    "reviews['reviewText_clean'] = reviews['reviewText_clean'].map(lambda x: re.sub(r'\\r\\n|\\r|\\n|\\.', ' ', x))\n",
    "#removed one space with one space\n",
    "reviews['reviewText_clean'] = reviews['reviewText_clean'].map(lambda x: re.sub(r'\\s+', ' ', x))\n",
    "\n",
    "#lower case\n",
    "reviews['reviewText_clean'] = reviews['reviewText_clean'].map(lambda x: x.lower())"
   ]
  },
  {
   "cell_type": "code",
   "execution_count": 121,
   "id": "c9999014",
   "metadata": {},
   "outputs": [
    {
     "data": {
      "text/plain": [
       "'review 189 2016 we arrived at hertz at around 215 pm on aug 24th and was able to get our rental in about 2025 minutes the pick up process is pretty simple you can either go to a customer service rep or use their selfserve kiosk which is what i ended up doing the lady who was assisting me on the kiosk phone was pretty friendly but she was doing a lot of upsell so it was kind of bothersome i didnt need a bigger car than an economy size since there was only 2 of us i understand that they probably work off of commission but sometimes its unnecessary to try and convince you to get something that you dont need the return process was pretty quick and easy as well i ended up getting charged for an extra day because i brought the car back 1 5 hours after the pick up time since my flight didnt leave until 8 pm too bad they dont have a grace period for regular customers other than that the car was fine i didnt get anything fancy just a kia so nothing much to write aboutother than the fact that it was clean and didnt smell bad like some other rentals that ive encountered elsewhere '"
      ]
     },
     "execution_count": 121,
     "metadata": {},
     "output_type": "execute_result"
    }
   ],
   "source": [
    "reviews['reviewText_clean'][0]"
   ]
  },
  {
   "cell_type": "code",
   "execution_count": 122,
   "id": "8e5275e0",
   "metadata": {},
   "outputs": [],
   "source": [
    "#get list of stopwords\n",
    "stop_words = stopwords.words('english')\n",
    "#throw car and rental out because reviews are clearly about these\n",
    "stop_words.extend(['from', 'subject', 're', 'edu', 'use', \"would\", \"wa\", \"car\", \"rental\"])"
   ]
  },
  {
   "cell_type": "markdown",
   "id": "c490ab68",
   "metadata": {},
   "source": [
    "**Lemmatize, sent to words, and remove stopwords**"
   ]
  },
  {
   "cell_type": "code",
   "execution_count": 123,
   "id": "978af8da",
   "metadata": {},
   "outputs": [],
   "source": [
    "w_tokenizer = nltk.tokenize.WhitespaceTokenizer()\n",
    "lemmatizer = nltk.stem.WordNetLemmatizer()\n",
    "\n",
    "def lemmatize_text(text):\n",
    "    return [lemmatizer.lemmatize(w) for w in w_tokenizer.tokenize(text)]\n",
    "\n",
    "def sent_to_words(sentences):\n",
    "    for sentence in sentences:\n",
    "        # deacc=True removes punctuations\n",
    "        yield(gensim.utils.simple_preprocess(str(sentence), deacc=True))\n",
    "        \n",
    "def remove_stopwords(texts):\n",
    "    return [[word for word in simple_preprocess(str(doc)) \n",
    "             if word not in stop_words] for doc in texts]"
   ]
  },
  {
   "cell_type": "code",
   "execution_count": 124,
   "id": "f3c72077",
   "metadata": {},
   "outputs": [],
   "source": [
    "reviews['lemmatext'] = reviews['reviewText_clean'].apply(lemmatize_text)"
   ]
  },
  {
   "cell_type": "code",
   "execution_count": 125,
   "id": "0f5b253f",
   "metadata": {},
   "outputs": [],
   "source": [
    "data = reviews['lemmatext'].values.tolist()\n",
    "data_words = list(sent_to_words(data))"
   ]
  },
  {
   "cell_type": "code",
   "execution_count": 126,
   "id": "b85f518b",
   "metadata": {},
   "outputs": [],
   "source": [
    "# remove stop words\n",
    "data_words = remove_stopwords(data_words)"
   ]
  },
  {
   "cell_type": "markdown",
   "id": "83b732c4",
   "metadata": {},
   "source": [
    "**Bigrams**"
   ]
  },
  {
   "cell_type": "code",
   "execution_count": 127,
   "id": "2f9245bf",
   "metadata": {},
   "outputs": [],
   "source": [
    "def make_bigrams(texts):\n",
    "    return [bigram_mod[doc] for doc in texts]"
   ]
  },
  {
   "cell_type": "code",
   "execution_count": 128,
   "id": "2a6148da",
   "metadata": {},
   "outputs": [],
   "source": [
    "bigram = gensim.models.Phrases(data_words, min_count=5, threshold=100)\n",
    "bigram_mod = gensim.models.phrases.Phraser(bigram)\n",
    "\n",
    "# See trigram example\n",
    "data_words = bigram_mod[data_words]"
   ]
  },
  {
   "cell_type": "markdown",
   "id": "04f14da0",
   "metadata": {},
   "source": [
    "**Word Frequency Analysis** - check if we can remove unnecessary words for this context"
   ]
  },
  {
   "cell_type": "code",
   "execution_count": 129,
   "id": "4af30541",
   "metadata": {},
   "outputs": [],
   "source": [
    "def flatten(t):\n",
    "    return [item for sublist in t for item in sublist]"
   ]
  },
  {
   "cell_type": "code",
   "execution_count": 130,
   "id": "61046ad5",
   "metadata": {},
   "outputs": [],
   "source": [
    "wordcount = pd.DataFrame(flatten(data_words))\n",
    "wordcount.columns = [\"word\"]"
   ]
  },
  {
   "cell_type": "code",
   "execution_count": 131,
   "id": "04116800",
   "metadata": {},
   "outputs": [
    {
     "data": {
      "text/plain": [
       "get          5406\n",
       "time         4187\n",
       "service      4012\n",
       "customer     3698\n",
       "line         3691\n",
       "company      3535\n",
       "day          3390\n",
       "rent         3263\n",
       "one          3233\n",
       "got          2994\n",
       "back         2953\n",
       "told         2935\n",
       "insurance    2869\n",
       "said         2844\n",
       "vega         2739\n",
       "Name: word, dtype: int64"
      ]
     },
     "execution_count": 131,
     "metadata": {},
     "output_type": "execute_result"
    }
   ],
   "source": [
    "wordcount[\"word\"].value_counts().head(15)"
   ]
  },
  {
   "cell_type": "code",
   "execution_count": 132,
   "id": "a58c60d8",
   "metadata": {},
   "outputs": [
    {
     "data": {
      "text/plain": [
       "awy              1\n",
       "pulp             1\n",
       "disagree         1\n",
       "undersupplies    1\n",
       "vying            1\n",
       "effed            1\n",
       "blanket          1\n",
       "elsewherelike    1\n",
       "oatman           1\n",
       "depositing       1\n",
       "whattttt         1\n",
       "sd               1\n",
       "cliche           1\n",
       "dident           1\n",
       "midweek          1\n",
       "Name: word, dtype: int64"
      ]
     },
     "execution_count": 132,
     "metadata": {},
     "output_type": "execute_result"
    }
   ],
   "source": [
    "wordcount[\"word\"].value_counts().tail(15)"
   ]
  },
  {
   "cell_type": "code",
   "execution_count": 133,
   "id": "a9f31304",
   "metadata": {},
   "outputs": [],
   "source": [
    "# make dictionary and corpus \n",
    "id2word = corpora.Dictionary(data_words)\n",
    "# Create Corpus\n",
    "texts = data_words\n",
    "# Term Document Frequency\n",
    "corpus = [id2word.doc2bow(text) for text in texts]"
   ]
  },
  {
   "cell_type": "code",
   "execution_count": 134,
   "id": "cc6ddb98",
   "metadata": {},
   "outputs": [],
   "source": [
    "# run LDA model\n",
    "num_topics = 15\n",
    "lda_model = gensim.models.LdaMulticore(corpus=corpus,\n",
    "                                       id2word=id2word,\n",
    "                                       num_topics=num_topics,\n",
    "                                       chunksize=100,\n",
    "                                       passes=10,\n",
    "                                       per_word_topics=True,\n",
    "                                       workers = 4)"
   ]
  },
  {
   "cell_type": "code",
   "execution_count": 135,
   "id": "16a3e59f",
   "metadata": {},
   "outputs": [
    {
     "data": {
      "text/plain": [
       "[(10,\n",
       "  '0.049*\"cash\" + 0.038*\"wallet\" + 0.030*\"visa\" + 0.027*\"dad\" + 0.027*\"jump\" + 0.025*\"unhappy\" + 0.024*\"coupon\" + 0.020*\"voucher\" + 0.016*\"pre_paid\" + 0.014*\"furthermore\"'),\n",
       " (0,\n",
       "  '0.027*\"machine\" + 0.026*\"lax\" + 0.016*\"manner\" + 0.016*\"single\" + 0.016*\"count\" + 0.016*\"nissan\" + 0.013*\"clue\" + 0.012*\"regard\" + 0.012*\"prefer\" + 0.011*\"pleased\"'),\n",
       " (2,\n",
       "  '0.043*\"dirty\" + 0.041*\"smell\" + 0.036*\"filthy\" + 0.032*\"smelled\" + 0.029*\"inside\" + 0.027*\"smoke\" + 0.021*\"son\" + 0.017*\"seat\" + 0.015*\"yaris\" + 0.014*\"window\"'),\n",
       " (12,\n",
       "  '0.017*\"wednesday\" + 0.015*\"pain\" + 0.013*\"sat\" + 0.013*\"ugh\" + 0.012*\"coffee\" + 0.011*\"lowest\" + 0.011*\"faster\" + 0.010*\"rode\" + 0.009*\"canceling\" + 0.008*\"lined\"'),\n",
       " (7,\n",
       "  '0.014*\"get\" + 0.011*\"like\" + 0.009*\"time\" + 0.009*\"dont\" + 0.008*\"one\" + 0.008*\"didnt\" + 0.007*\"insurance\" + 0.007*\"back\" + 0.007*\"go\" + 0.007*\"im\"'),\n",
       " (3,\n",
       "  '0.060*\"shuttle\" + 0.043*\"airport\" + 0.028*\"get\" + 0.025*\"take\" + 0.016*\"center\" + 0.015*\"minute\" + 0.014*\"bus\" + 0.014*\"location\" + 0.012*\"vega\" + 0.011*\"one\"'),\n",
       " (1,\n",
       "  '0.442*\"fox\" + 0.013*\"garbage\" + 0.012*\"watched\" + 0.008*\"fair\" + 0.008*\"cuz\" + 0.007*\"apply\" + 0.007*\"needle\" + 0.006*\"hot\" + 0.006*\"thank_goodness\" + 0.005*\"blew\"'),\n",
       " (4,\n",
       "  '0.026*\"great\" + 0.025*\"service\" + 0.021*\"experience\" + 0.020*\"vega\" + 0.014*\"rent\" + 0.013*\"time\" + 0.013*\"friendly\" + 0.012*\"price\" + 0.012*\"la\" + 0.011*\"good\"'),\n",
       " (13,\n",
       "  '0.111*\"sixt\" + 0.072*\"tire\" + 0.012*\"flat\" + 0.010*\"ghetto\" + 0.009*\"inefficient\" + 0.009*\"air\" + 0.008*\"stink\" + 0.008*\"replacement\" + 0.007*\"blow\" + 0.007*\"degree_heat\"'),\n",
       " (8,\n",
       "  '0.019*\"insurance\" + 0.017*\"day\" + 0.016*\"charge\" + 0.014*\"told\" + 0.013*\"company\" + 0.011*\"said\" + 0.010*\"charged\" + 0.009*\"fee\" + 0.009*\"customer\" + 0.009*\"service\"')]"
      ]
     },
     "execution_count": 135,
     "metadata": {},
     "output_type": "execute_result"
    }
   ],
   "source": [
    "lda_model.show_topics()"
   ]
  },
  {
   "cell_type": "code",
   "execution_count": 136,
   "id": "25aa5aba",
   "metadata": {},
   "outputs": [],
   "source": [
    "pyLDAvis.enable_notebook()"
   ]
  },
  {
   "cell_type": "code",
   "execution_count": 137,
   "id": "757d9b3c",
   "metadata": {},
   "outputs": [
    {
     "data": {
      "text/html": [
       "\n",
       "<link rel=\"stylesheet\" type=\"text/css\" href=\"https://cdn.jsdelivr.net/gh/bmabey/pyLDAvis@3.3.1/pyLDAvis/js/ldavis.v1.0.0.css\">\n",
       "\n",
       "\n",
       "<div id=\"ldavis_el1511403074911995683561196321\"></div>\n",
       "<script type=\"text/javascript\">\n",
       "\n",
       "var ldavis_el1511403074911995683561196321_data = {\"mdsDat\": {\"x\": [0.23882580430772157, 0.2454534778397669, 0.26246924890160844, 0.22992540436874465, 0.2582208152230489, 0.21290674048723626, 0.1843925664603349, -0.07213279104540309, -0.13063145042091887, -0.2164594598711991, -0.21735897621021996, -0.24638378084333282, -0.2381234415446862, -0.254294890599581, -0.25680926705312074], \"y\": [-0.05134778381705115, -0.006083712211963431, -0.020934880730784696, 0.026189108454487735, -0.004422974098664614, -0.04813612774723458, -0.03480239852434101, 0.20476359342137715, 0.29439571346852567, -0.11089319495853502, -0.048518808267394506, -0.058174404984294624, -0.052722595569039445, -0.04316684611761205, -0.046144688317475924], \"topics\": [1, 2, 3, 4, 5, 6, 7, 8, 9, 10, 11, 12, 13, 14, 15], \"cluster\": [1, 1, 1, 1, 1, 1, 1, 1, 1, 1, 1, 1, 1, 1, 1], \"Freq\": [23.717668481185434, 21.687573614393962, 12.868836921778385, 10.664892583198347, 10.35810792342943, 8.294263779335397, 6.499240043894227, 1.7289907334180277, 1.0657844436544137, 0.7880434901935492, 0.7017974610086349, 0.5414934826570468, 0.44463818315864273, 0.35547176547549225, 0.28319709321902675]}, \"tinfo\": {\"Term\": [\"dollar\", \"line\", \"fox\", \"shuttle\", \"vehicle\", \"airport\", \"hour\", \"great\", \"wait\", \"service\", \"hertz\", \"location\", \"said\", \"take\", \"get\", \"minute\", \"insurance\", \"told\", \"got\", \"gas\", \"dirty\", \"sixt\", \"customer\", \"inside\", \"people\", \"place\", \"charge\", \"reservation\", \"vega\", \"long\", \"initial\", \"ding\", \"package\", \"youve\", \"stain\", \"tiny\", \"hanging\", \"letting\", \"slip\", \"party\", \"repeatedly\", \"rear\", \"liable\", \"tone\", \"floor\", \"assume\", \"blue\", \"flying\", \"reply\", \"hey\", \"slowest\", \"ridiculously\", \"assumed\", \"requires\", \"fyi\", \"dent\", \"registration\", \"youd\", \"dodge_charger\", \"sketchy\", \"happens\", \"pressured\", \"carefully\", \"safe\", \"cleaning\", \"yeah\", \"dark\", \"assisted\", \"hard\", \"mom\", \"look\", \"im\", \"feeling\", \"like\", \"thats\", \"driving\", \"know\", \"something\", \"thing\", \"sound\", \"let\", \"think\", \"maybe\", \"ok\", \"want\", \"going\", \"right\", \"side\", \"damage\", \"tell\", \"see\", \"say\", \"sure\", \"mark\", \"dont\", \"didnt\", \"guy\", \"really\", \"get\", \"well\", \"review\", \"one\", \"make\", \"insurance\", \"time\", \"back\", \"go\", \"way\", \"good\", \"need\", \"day\", \"take\", \"said\", \"got\", \"even\", \"first\", \"message\", \"dispute\", \"gallon\", \"extend\", \"optional\", \"statement\", \"emailed\", \"advised\", \"estimated\", \"remove\", \"mandatory\", \"consumer\", \"reported\", \"business_practice\", \"fraud\", \"corporate_office\", \"transferred\", \"stolen\", \"billed\", \"regarding\", \"law\", \"business_bureau\", \"billing\", \"bbb\", \"voicemail\", \"advertised\", \"american_express\", \"essentially\", \"credited\", \"placed\", \"quote\", \"hung\", \"charged\", \"email\", \"charge\", \"fee\", \"bank\", \"bill\", \"contract\", \"declined\", \"added\", \"contact\", \"roadside_assistance\", \"credit_card\", \"agreement\", \"quoted\", \"call\", \"additional\", \"tax\", \"insurance\", \"payless\", \"refunded\", \"number\", \"phone\", \"account\", \"called\", \"amount\", \"returned\", \"coverage\", \"day\", \"total\", \"told\", \"extra\", \"refund\", \"full\", \"tank\", \"gas\", \"company\", \"receipt\", \"said\", \"asked\", \"never\", \"cost\", \"customer\", \"agent\", \"service\", \"manager\", \"back\", \"return\", \"time\", \"rent\", \"even\", \"get\", \"rented\", \"primary\", \"till\", \"served\", \"staffed\", \"understaffed\", \"yelling\", \"maria\", \"dealership\", \"oil_change\", \"fool\", \"pace\", \"shorter\", \"kia_soul\", \"government\", \"riding\", \"computer_system\", \"sigh\", \"repeated\", \"disorganized\", \"comparable\", \"precious\", \"adjusted\", \"quicker\", \"scare_buying\", \"style\", \"honda\", \"prepare\", \"waited\", \"fucked\", \"nissan_sentra\", \"line\", \"slow\", \"disappeared\", \"waiting\", \"hour\", \"wait\", \"stood\", \"standing\", \"long\", \"accurate\", \"average\", \"people\", \"working\", \"minute\", \"behind\", \"half\", \"regret\", \"min\", \"stand\", \"counter\", \"finally\", \"worst\", \"ever\", \"moving\", \"two\", \"customer\", \"another\", \"time\", \"pm\", \"least\", \"get\", \"took\", \"front\", \"service\", \"one\", \"never\", \"budget\", \"employee\", \"reservation\", \"place\", \"rent\", \"got\", \"company\", \"go\", \"experience\", \"excellent\", \"amazing\", \"highly_recommend\", \"fantastic\", \"suffer\", \"outstanding\", \"competitive\", \"top_notch\", \"recommended\", \"beautiful\", \"enjoyed\", \"picking_dropping\", \"knowledgeable\", \"improve\", \"incredible\", \"typical\", \"exceptional\", \"whenever\", \"representing\", \"sneak\", \"leather\", \"pleasantly_surprised\", \"highly_recommended\", \"memorial\", \"robert\", \"personable\", \"describe\", \"shoot\", \"dot\", \"journey\", \"wonderful\", \"friendly\", \"great\", \"awesome\", \"helpful\", \"fast\", \"breeze\", \"professional\", \"best\", \"thank\", \"smooth\", \"quick\", \"courteous\", \"always\", \"easy\", \"definitely\", \"efficient\", \"alamo\", \"reasonable\", \"staff\", \"super\", \"enterprise\", \"clean\", \"experience\", \"thanks\", \"vega\", \"service\", \"good\", \"price\", \"la\", \"trip\", \"process\", \"nice\", \"rented\", \"rent\", \"time\", \"renting\", \"customer\", \"ive\", \"company\", \"location\", \"got\", \"rate\", \"utility_bill\", \"cancellation\", \"properly\", \"honeymoon\", \"argued\", \"itinerary\", \"everybody\", \"fat\", \"release\", \"obnoxious\", \"shaking\", \"dumb\", \"stinky\", \"bos\", \"term_condition\", \"hide\", \"applied\", \"disrespectful\", \"dear\", \"interrupting\", \"degree_weather\", \"resident\", \"cruise_control\", \"plague\", \"snotty\", \"challenger\", \"strongly_recommend\", \"stealing\", \"financial\", \"bitch\", \"cancel\", \"unlimited_mile\", \"manger\", \"van\", \"local\", \"debit_card\", \"attitude\", \"rude\", \"mid_size\", \"give\", \"boyfriend\", \"reservation\", \"horrible\", \"place\", \"dont\", \"booked\", \"deposit\", \"smaller\", \"terrible\", \"rent\", \"worst\", \"cancelled\", \"minivan\", \"manager\", \"ever\", \"credit\", \"reserved\", \"unprofessional\", \"said\", \"star\", \"never\", \"service\", \"bad\", \"even\", \"told\", \"go\", \"customer\", \"could\", \"didnt\", \"get\", \"company\", \"say\", \"pay\", \"price\", \"like\", \"day\", \"shuttle\", \"bus\", \"terminal\", \"offsite\", \"hub\", \"mccarran_rentacar\", \"central\", \"hopped\", \"honolulu\", \"hop\", \"bathroom\", \"located\", \"catching\", \"consolidated_facility\", \"staffer\", \"rac\", \"organized\", \"escalator\", \"restroom\", \"slot_machine\", \"west\", \"speedy\", \"tv\", \"kill\", \"hint\", \"henderson\", \"temperature\", \"efficiently\", \"gillespie\", \"curb\", \"pro\", \"center\", \"main\", \"ride\", \"airport\", \"building\", \"facility\", \"across_street\", \"blvd\", \"cab\", \"strip\", \"mccarran\", \"take\", \"taxi\", \"site\", \"drop\", \"mccarren\", \"arrive\", \"driver\", \"location\", \"walk\", \"get\", \"minute\", \"return\", \"pick\", \"min\", \"lot\", \"easy\", \"vega\", \"wait\", \"la\", \"place\", \"one\", \"go\", \"another\", \"time\", \"line\", \"took\", \"check\", \"company\", \"back\", \"invoice\", \"worth_saving\", \"ford_focus\", \"bonus\", \"girlfriend\", \"mike\", \"toyota_corolla\", \"loaded\", \"houston\", \"tall\", \"dented\", \"gauge\", \"chevy\", \"hood\", \"oh_yeah\", \"renter_beware\", \"glitch\", \"po\", \"grateful\", \"corolla\", \"avoided\", \"wound\", \"soda\", \"csr\", \"sized\", \"toyota\", \"unexpected\", \"flawless\", \"suburban\", \"versa\", \"full_size\", \"compact\", \"crappy\", \"black\", \"trunk\", \"fit\", \"midsize\", \"brand_new\", \"suv\", \"drove\", \"intermediate\", \"upgrade\", \"attendant\", \"garage\", \"key\", \"gas\", \"luggage\", \"went\", \"bag\", \"checked\", \"got\", \"mile\", \"full\", \"picked\", \"back\", \"tank\", \"said\", \"asked\", \"gave\", \"free\", \"receipt\", \"told\", \"didnt\", \"took\", \"saw\", \"found\", \"guy\", \"one\", \"returned\", \"could\", \"lot\", \"gold\", \"national\", \"gold_member\", \"mph\", \"executive\", \"loyal\", \"dump\", \"adult\", \"ability\", \"perk\", \"avis_preferred\", \"san_francisco\", \"emerald\", \"versus\", \"sincere\", \"chevy_spark\", \"stellar\", \"zion_national\", \"maintain\", \"unreal\", \"hill\", \"welcomed\", \"usa\", \"audi\", \"planet\", \"rudeness\", \"ft\", \"burn\", \"wondered\", \"exclusively\", \"yelled\", \"member\", \"premium\", \"hertz\", \"truck\", \"chrysler\", \"luxury\", \"ferrari\", \"vehicle\", \"team\", \"upstairs\", \"status\", \"select\", \"minivan\", \"available\", \"brake\", \"location\", \"similar\", \"suv\", \"choice\", \"selection\", \"kiosk\", \"given\", \"sedan\", \"area\", \"due\", \"reserved\", \"customer\", \"service\", \"express\", \"express_member\", \"transfer\", \"thrifty\", \"aisle\", \"encounter\", \"provider\", \"security_deposit\", \"chris\", \"gm\", \"deceptive\", \"supplemental\", \"steer_clear\", \"advertising\", \"pen\", \"allstate\", \"joining\", \"gear\", \"jeep_cherokee\", \"calmly\", \"max\", \"requirement\", \"recognize\", \"cdw\", \"jessica\", \"temp\", \"adamant\", \"ken\", \"beer\", \"seattle\", \"dollar\", \"los_angeles\", \"firefly\", \"stall\", \"grand\", \"recall\", \"jason\", \"ticket\", \"thank_goodness\", \"lv\", \"hertz\", \"gambling\", \"year\", \"direct\", \"discount\", \"reserve\", \"management\", \"rate\", \"honor\", \"name\", \"reservation\", \"rent\", \"smoke\", \"son\", \"yaris\", \"absolute_worst\", \"smell\", \"smelled\", \"nasty\", \"pointing\", \"stained\", \"scam_artist\", \"blown\", \"portion\", \"chain\", \"nerve\", \"justify\", \"tournament\", \"alignment\", \"complex\", \"dog\", \"initialing\", \"profit\", \"mechanic\", \"trusted\", \"unfortunate\", \"die\", \"seven\", \"inconsistent\", \"profile\", \"usb\", \"cigarette\", \"filthy\", \"cigarette_smoke\", \"resolve_issue\", \"exterior\", \"dirty\", \"interior\", \"inside\", \"remote\", \"seat\", \"window\", \"wash\", \"washed\", \"clean\", \"like\", \"sixt\", \"ghetto\", \"inefficient\", \"blow\", \"degree_heat\", \"well_maintained\", \"mountain\", \"tire\", \"pathetic\", \"fare\", \"flag\", \"horribly\", \"temporary\", \"fluid\", \"insanely\", \"portable\", \"september\", \"operating\", \"crack\", \"washer_fluid\", \"slower\", \"expedite\", \"nail\", \"operator\", \"pickup_dropoff\", \"soooo\", \"death\", \"tahoe\", \"waiving\", \"frankly\", \"flat\", \"stink\", \"attentive\", \"crew\", \"support\", \"air\", \"replacement\", \"lesson\", \"establishment\", \"whatsoever\", \"fox\", \"garbage\", \"watched\", \"cuz\", \"apply\", \"needle\", \"blew\", \"aspect\", \"smoked\", \"de\", \"cleanest\", \"kia_rio\", \"rated\", \"abusive\", \"coolant\", \"servicing\", \"pebble\", \"pure\", \"elite\", \"guilt\", \"mysteriously\", \"porter\", \"ash\", \"remotely\", \"que\", \"mitsubishi\", \"host\", \"shabby\", \"blazing\", \"toyota_runner\", \"centre\", \"http_www\", \"thank_goodness\", \"fair\", \"hot\", \"biggest\", \"smoking\", \"october\", \"extreme\", \"ignore\", \"yelp\", \"wednesday\", \"sat\", \"ugh\", \"coffee\", \"canceling\", \"lined\", \"hesitate\", \"junk\", \"terry\", \"kept_repeating\", \"summer\", \"horror_story\", \"kicking\", \"dam\", \"remembered\", \"rav\", \"supply\", \"relief\", \"blank\", \"caring\", \"endless\", \"roller\", \"soul\", \"inquiry\", \"citibank\", \"disclosed\", \"coaster\", \"resulted\", \"preexisting_damage\", \"james\", \"tho\", \"pain\", \"rode\", \"faster\", \"red_rock\", \"lowest\", \"minus\", \"camera\", \"branch\", \"water\", \"difficult\", \"avoiding\", \"lax\", \"manner\", \"nissan\", \"count\", \"clue\", \"regard\", \"boarding\", \"ashamed\", \"painful\", \"jack\", \"crumb\", \"hit_miss\", \"yep\", \"alfred\", \"bf\", \"appointed\", \"vomit\", \"increased\", \"jeff\", \"basis\", \"keyless\", \"floor_mat\", \"create\", \"struggling\", \"intentionally\", \"environment\", \"terrific\", \"brian\", \"timely_manner\", \"concierge\", \"machine\", \"prefer\", \"answering\", \"delivered\", \"horrendous\", \"single\", \"vendor\", \"pleased\", \"appropriate\", \"behavior\", \"feedback\", \"automated\", \"false\", \"wallet\", \"visa\", \"dad\", \"jump\", \"unhappy\", \"coupon\", \"voucher\", \"pre_paid\", \"furthermore\", \"embarrassing\", \"nonsense\", \"firm\", \"ipad\", \"overly\", \"usd\", \"cash\", \"popular\", \"lit\", \"pain_butt\", \"hesitation\", \"pam\", \"blaming\", \"puke\", \"crystal\", \"july_th\", \"bottled_water\", \"belong\", \"scum\", \"engage\", \"hot_wire\", \"kindly\", \"utilize\", \"mastercard\", \"file\"], \"Freq\": [1820.0, 3903.0, 1187.0, 2475.0, 1916.0, 2417.0, 2365.0, 1549.0, 1870.0, 4105.0, 735.0, 1770.0, 3035.0, 2266.0, 5726.0, 2338.0, 2932.0, 2984.0, 3159.0, 1260.0, 464.0, 386.0, 3716.0, 528.0, 2345.0, 2496.0, 1985.0, 2074.0, 2836.0, 1427.0, 181.5503074687717, 116.50422708143304, 110.04752342190925, 67.93369170218456, 64.66700720559487, 63.02845751357701, 65.28058289574263, 57.79341399691, 54.601965607793204, 53.21162600256774, 51.76561837944707, 50.02098454497993, 49.81914566749254, 52.59762975064854, 48.1803600505785, 47.50258543505758, 46.333512609640046, 45.501607233681796, 44.6367886251052, 44.58443723256214, 43.665636272377554, 43.59464339383457, 42.21454771598545, 39.641605505426504, 39.076685051114936, 120.4747405081657, 38.577098697039325, 38.40112607809731, 37.595736608949295, 36.205079017994194, 92.85793290991096, 43.62469817408756, 66.90802702163286, 54.74362312154535, 69.88122778577261, 86.86684925781508, 74.32373461133153, 68.10805045806862, 203.78287127833218, 68.01915806022821, 444.04254892863867, 802.9814486974986, 66.47927284363472, 1309.2533535819298, 388.9663264106964, 314.0820957916571, 755.5280758281045, 357.3274711822991, 551.8325172765686, 84.47556237891493, 442.8021447237401, 383.4677582041934, 198.5799682547685, 264.72874109166213, 720.1215068460536, 627.5545342979639, 489.2657818808305, 145.9953451462226, 317.0698760305407, 517.1260366183358, 502.82824936209244, 633.2680471808974, 496.15768833218146, 139.38043503819986, 1008.4310302105295, 906.5017918807516, 601.5555833848907, 523.2665940785704, 1598.172041866755, 544.3799712110514, 568.566581263654, 965.590789154656, 552.5242901025965, 869.8689605107677, 1037.2204871188599, 853.5524220443027, 814.4196894439378, 562.1124967123981, 526.0693544916236, 497.42968595796026, 653.8143292469802, 575.8468542861376, 620.3662788233949, 616.3536134818773, 506.8226971985829, 498.22288597413876, 136.2174272169742, 106.22513995348035, 100.02050735689375, 93.4354626792694, 93.24410607291927, 71.90311088697527, 68.42338711026339, 66.02253140491986, 63.21947165157139, 63.21822728961257, 63.34191311647375, 58.84638353148222, 58.691951334010504, 57.279150289342475, 60.6273468829301, 57.06699595497715, 56.10722395329524, 55.257781209911535, 54.474846174035186, 52.707620828735635, 48.798542151630976, 47.382920970061306, 46.51247414718181, 45.389134205204925, 45.00613647758441, 46.20230598606546, 39.51328517451555, 38.12655320023095, 37.56603379507377, 55.32046828849006, 168.04738071755682, 73.6886202240717, 1090.8225504044278, 395.8805131839983, 1712.7991292911126, 994.3596113570363, 111.82236758728565, 318.6921030649944, 605.112185227193, 292.3961461020988, 226.8569899139647, 165.65040191881866, 122.22204449464806, 808.4534854726161, 259.32690813973846, 196.72262027645974, 864.5738846552944, 612.6673007213041, 254.54005403565515, 2000.4329833683955, 439.95696433108094, 117.4423564147095, 533.8381337023125, 587.937689063874, 140.96696296844337, 830.5806172689234, 274.6439158176799, 646.2915866480479, 500.2590199905962, 1860.4363350863705, 404.63071640458605, 1460.0930521781959, 878.5665660491471, 268.57828282904563, 552.9685417541834, 430.1386858468681, 663.8242089324989, 1353.8431000224414, 421.3009395739013, 1152.5226936227361, 742.598048742387, 881.260791029163, 415.44498470186505, 969.1852309689197, 555.8690181656043, 961.8642306091707, 547.4050056893938, 739.1524042253512, 588.7778522437056, 690.5751646570592, 648.8444421046221, 595.1277250172641, 607.4505351931379, 550.6209872615884, 54.91096864383384, 47.8877549045833, 36.8189802269144, 37.09228165630395, 68.34031030240178, 33.064797838686935, 31.17298187981537, 27.08958217334853, 25.495732598818687, 25.451170566629806, 27.60894690737338, 25.091867383444256, 24.418032687465093, 23.717371722316436, 23.400612107913375, 23.290064132306757, 21.718610596602232, 20.39150059018583, 19.79876990591363, 19.16190574188534, 18.98551838408259, 18.76370446840403, 22.637983574106393, 18.618703474488512, 17.188705635300963, 16.459387313315435, 16.319291482310305, 746.3952941690114, 14.960636491950373, 14.772854462969265, 3459.8345893159076, 331.81006416817064, 33.48786257409145, 934.3305037443645, 1796.8768498364216, 1428.0049182482378, 94.4392128259226, 165.68999152309127, 1041.7325260324103, 33.71949980202814, 50.7456504905172, 1399.3195849148892, 367.5630471189957, 1237.8317076877638, 237.84836635428636, 265.7553445781882, 41.274029508082904, 334.16169276975717, 124.02249522554644, 849.6670653950159, 441.7510462718873, 467.5882090056772, 641.7285866294786, 94.53485979226438, 468.052069706437, 1108.0657638891892, 650.0077892233558, 1185.0110137384956, 217.73351769432824, 254.71411227894882, 1329.1541161813655, 478.6642597986769, 303.6198480350955, 886.4306454801641, 768.5973230410335, 639.4941476386043, 391.1807015544615, 376.24745624170566, 497.71905897085526, 512.0278866921872, 579.3976648747183, 522.4749189845277, 537.4437842397492, 482.2830084869105, 467.34278760208844, 217.42407133521343, 171.94214819549728, 98.46732770568073, 78.15119180729072, 62.386651586234414, 53.40865406597671, 45.37746067121469, 44.75496620155055, 44.20252849686546, 42.72794475378326, 34.2034604688194, 27.834973664203318, 27.051083881215416, 26.803891093614986, 25.925895300206214, 25.50679853078728, 25.188829438068, 25.716978050598005, 22.82492329429088, 22.222608235598734, 21.997956426608628, 21.87921385379421, 21.10477187883853, 20.19870172014605, 20.098362770138095, 19.889688442201013, 21.65007414380393, 19.276857027619464, 18.812137108396104, 18.48642834673717, 73.47934682779001, 691.2012789422687, 1382.878512162311, 210.5227343074957, 465.61646623755036, 302.9613303777347, 92.44771024534317, 217.14479136231884, 490.0605608685713, 272.59137375160077, 121.62160666165535, 344.6597761642288, 106.80005146842964, 500.3135527669786, 531.2167808854414, 338.16433357434784, 169.02234040700307, 357.69390755136754, 95.52071243454212, 575.1947790341522, 284.65871378713825, 480.6156678964026, 396.9218829918841, 1131.0476303198798, 231.1501666400436, 1061.4257627812285, 1323.2308239427673, 607.3746804577574, 658.9577135910804, 607.710318258354, 381.6351112737402, 346.80233300376005, 394.2475798391239, 567.9511622968552, 714.8082962441558, 712.0082642143178, 367.76496034297236, 582.6546760076591, 302.9594116040286, 398.3278521252247, 342.633280534256, 362.83772166325224, 304.8978896401481, 57.169232334803816, 45.471654261305055, 42.94125802911837, 38.85482148605481, 34.035959745608785, 31.6538105903161, 31.01548416403652, 28.261210625191673, 26.343501681607847, 26.284924390240196, 25.702726321968346, 24.653722730742444, 23.713151637035203, 22.028549791022755, 20.988024884929555, 20.23112080671223, 34.47629886925111, 19.338486090273378, 18.287530818619786, 16.072430276766678, 15.905731084306504, 15.817863654002979, 15.757808043107083, 25.39130860720533, 15.129670075555998, 14.001615214122285, 13.644716028458992, 12.463280392787214, 11.868346377791731, 11.821935357491121, 193.41858450700235, 78.577688307062, 33.098224337542085, 414.1462164298348, 239.9302918067532, 160.57505521190015, 201.01322858880314, 454.30423183036294, 48.67556988405583, 727.8627031267531, 54.997213607808675, 891.5745911063668, 363.1416720959416, 971.8992230392238, 923.485554631995, 334.20806201922244, 192.12308681358817, 70.1686006658501, 195.15367171153036, 958.650135181564, 381.84000700593185, 75.90882878540462, 114.32366355530061, 424.44048102549687, 474.92496748187415, 137.38801658943848, 322.5328140368604, 91.81879622577338, 679.2538368117141, 347.6180388256208, 564.3456307824252, 739.5482007911777, 308.3256317727015, 505.42754345920406, 590.2602674891332, 547.7732089491734, 634.7587962688166, 426.7202110092711, 466.35814464025054, 731.9766722510913, 553.3047401623973, 338.0045060279182, 352.2780364671063, 330.53774405157077, 342.02854554087344, 317.9610735644631, 2474.329315991311, 584.0325580027627, 208.77443494725713, 109.60713124955826, 59.8058100121387, 38.60918073672108, 37.329534877150024, 35.03891012635457, 30.5826304032575, 30.433937483315454, 27.424805260244593, 209.08987620225554, 25.99793004550633, 25.84956236218091, 22.006592805999855, 21.937451327617744, 21.88833103272398, 21.46829750813095, 20.512412743185145, 20.26827483349115, 19.604826811531552, 19.08875402292751, 17.76741450311667, 16.47670940285739, 23.381793661825537, 16.214929798157, 15.008933292132363, 13.927178369382718, 13.742350704754946, 13.317136113030108, 45.696648602800856, 665.4645750747427, 210.3582798755415, 401.9898179969203, 1778.177403454322, 152.33221245850888, 251.7337917437916, 90.56850671161436, 39.079338963406286, 95.46766065728549, 145.45364933247023, 204.84915422116623, 1008.8966116153567, 98.2793599053885, 193.7469536021941, 224.95677412327137, 50.55264651918022, 119.87958629903086, 275.4555748508339, 563.3056110563339, 193.57082840850686, 1142.8311930783825, 609.7420533896793, 420.20157626600013, 345.1254862087023, 216.40505992033528, 328.812841938814, 244.49574649854992, 496.74027451984256, 373.4621281953509, 342.2946266975667, 408.64748806557105, 451.6590357732916, 421.4718739642888, 319.1834849040275, 393.606021545993, 369.8038667315121, 273.27438504719686, 251.29160386613648, 285.6961854092254, 266.5540399693652, 76.21933139046213, 65.81771482387074, 57.80603025625831, 51.71460838355745, 43.18570629923067, 41.504998597948834, 41.23297275113291, 33.557356267091436, 33.01009646515773, 32.838282777084366, 30.333790205071132, 28.979934771572523, 50.7147579569157, 21.972774124821974, 20.80983111760504, 20.60634860342095, 19.77958049179203, 19.632740202865268, 19.09299472002647, 54.96492804500868, 17.343147787491308, 16.36420440776774, 16.307579047565742, 15.235330686202822, 42.70459124428254, 25.86892608879285, 14.702595444694216, 14.601557835188242, 14.302431718359705, 14.187477627367857, 220.77946483725182, 319.55747923959, 69.1942188292654, 58.408285129712574, 103.66131740629088, 102.1680779122143, 119.78162687952519, 78.01615687155326, 342.12972925152764, 275.29080159760315, 57.52110076822355, 448.4322567377733, 253.5739771740821, 235.24699888861298, 255.03267703485258, 496.86359863735413, 163.68314234360997, 549.1169068703202, 101.34218490956725, 238.91914356606895, 815.0288488208955, 276.802150413309, 323.8103215020045, 194.7953916462784, 657.5075530732345, 237.86895282317641, 532.5177347639712, 356.7930028827835, 268.24909382196637, 194.5118638317307, 208.26025693286346, 431.62686623048745, 377.5788162877104, 279.81915140381074, 135.28480275271832, 180.9536935635063, 227.1777370221202, 305.5703968843342, 202.45807825457055, 223.8551712114457, 202.41871146765138, 65.65949743174782, 353.6196916637103, 55.08875640141877, 45.153410397895264, 44.92820674387994, 41.68572318539178, 27.86943175264359, 23.29236659035215, 22.952267955544638, 22.368889632759384, 21.52325228484752, 20.63618462721283, 20.458610774325653, 20.244906788028075, 19.595529505277185, 18.445734221525136, 16.862708348611992, 16.75564398948229, 16.10359667810749, 16.056588022547945, 15.891827914199384, 14.919532703604057, 14.731962694263084, 13.81362240114767, 14.996569709460376, 13.193615433259724, 12.683601082181992, 12.647850814681119, 12.472881186874464, 12.313777192186624, 33.3501111726602, 254.5741443543817, 120.32694764368507, 578.9327151562231, 109.42454479042883, 86.20776254286166, 138.83330487508618, 36.573134828728136, 738.3888186225608, 55.70476530553455, 65.61669322380105, 23.636678645982894, 39.376146431667735, 73.65257408451998, 141.92487498599084, 38.03469134865117, 157.95517648700434, 51.142170940646906, 80.13124001370578, 61.0381225561989, 48.19321904276607, 59.06295143375642, 65.24947355888621, 32.99759959671467, 44.957000779226604, 39.319746812848834, 43.53700817015993, 46.70727931894976, 43.93593317870441, 211.8811477804609, 68.99837733156092, 43.68809939745726, 193.4994470556989, 29.192260725489923, 27.07523124959261, 29.71549393091467, 26.286573471923433, 24.377654816385224, 23.617599831166324, 21.520387038547195, 21.203288147668918, 18.33704865594629, 18.24554061600019, 17.7709997621064, 17.455084562209194, 16.019499715348353, 14.666955154364427, 14.052142617117255, 14.03024740689307, 13.178429943479804, 12.509875623185316, 11.532488582155574, 11.486177133459869, 18.104462596942152, 10.834607488115013, 10.770117840126348, 10.43408726857256, 10.34719107552261, 10.224086598905664, 1274.1016669606533, 24.453086538219715, 89.92812346644644, 56.95876259134924, 22.461034179863194, 14.646898782881351, 20.64036995053598, 48.117360423314786, 21.204195275336655, 35.43867301201017, 73.93406634675465, 18.12586368071318, 47.28281280235645, 24.42840479896739, 30.388122950692296, 26.085530380682897, 25.496988899862014, 35.01848360962331, 22.882676461522774, 27.360450380050157, 24.47767240219008, 21.608257963630365, 104.57765039232996, 81.16723172466565, 58.765510824896666, 49.67435067239703, 159.575248893736, 126.71669507268649, 42.978617324829585, 33.628441806186466, 47.58550124286131, 27.62010727682528, 24.247427143272688, 23.71114485801967, 21.697399269281707, 21.496185031787412, 20.35856669879745, 20.248495710862212, 18.939704313156515, 17.569071033665125, 17.512127860697625, 16.784410578559537, 16.77492944119565, 16.62154077984807, 16.59062529206337, 15.243443104155604, 14.777361406625362, 14.565606311084064, 14.384266835080712, 14.123932725617143, 13.827792599212904, 52.10452831784355, 140.52130378261495, 25.91601643418107, 23.830855123455038, 31.464364932068335, 167.72412650015812, 44.22841518090473, 112.11412214147792, 28.690343370152803, 65.13219999150445, 53.73964279554386, 34.90398923892894, 26.13337005408601, 42.31877669749255, 21.801046495820472, 385.6914434204455, 33.35887971354368, 31.454338296239307, 25.355746863362853, 24.935768980005324, 24.712688256580073, 24.39641670986412, 249.10567360847116, 23.973576845656172, 21.348395772792244, 20.1231231713448, 19.277579419394645, 17.837133773511944, 17.0320187386089, 16.6752877182643, 16.38710340556174, 15.756771548465622, 15.567649328592497, 15.493101850015773, 15.33386531479225, 13.590073980276527, 12.44481462569848, 12.520554326501639, 12.34438305560691, 11.737020699233117, 11.45345553944723, 11.353534690485922, 11.256855423341907, 11.239872934030945, 11.196825051250809, 42.299264347981776, 28.951260852078633, 16.875030671372503, 21.83455048824599, 24.368091517035676, 30.03145465841443, 27.236956985419976, 15.39692763831595, 17.485417694725378, 16.285917489838777, 1186.56282617368, 35.32162467125373, 31.36790110623871, 21.047476632465766, 19.206805647771187, 18.30474067322402, 13.704492078890043, 13.377418834820658, 11.608749527704946, 11.304190937304211, 10.644112900831232, 10.521827330983074, 9.476379759231868, 8.932528345256184, 8.319132680812086, 8.236742987336061, 7.482367196359822, 7.207574386992285, 7.184981670200685, 5.779304635790943, 5.379831904468137, 5.333854598565736, 5.310376333707395, 5.233166909070309, 4.985848571951152, 4.719214920194313, 4.451802510722929, 4.380946175283978, 4.274052779766545, 4.227066586063142, 11.654646896969448, 8.130040690343607, 15.716677112279788, 21.76452326255246, 16.20814879526123, 11.658266527854376, 8.812599657216124, 6.8864289442272035, 6.766424066579145, 7.6149883236865135, 11.085249482134731, 36.56855976227695, 28.90495420623096, 27.715615348148955, 25.70774041591947, 19.069098219991872, 18.359399171924437, 17.574020853649255, 15.886639784884052, 15.501346251406686, 14.369226829076952, 13.595962937413695, 12.830103901840694, 11.663631895751529, 11.402105096125092, 10.921125848152919, 10.879935566948372, 10.658494473732965, 10.452108211895515, 10.264148965206765, 9.85948178470102, 9.63649305605068, 9.560393288474929, 9.314638216958736, 9.00521881832307, 8.907095244697162, 8.667044578939139, 8.648938577634796, 8.310595113700325, 8.031699721568563, 7.763633675067963, 16.543293602779176, 33.061822987392794, 21.239502564179094, 24.282697399019952, 18.07816642978856, 24.670999027083568, 16.069728441327285, 16.648308205223703, 17.239700831604267, 13.824279675397673, 12.55818363800115, 10.378707832301696, 46.565319722575396, 28.615931479521635, 27.676633897618494, 27.768866396783217, 22.649918416818824, 21.477158346319854, 19.21887239964605, 17.23665096304237, 15.753666379804542, 12.943484273649073, 11.526149997493965, 11.32695082298582, 11.269931938976738, 10.512383740962088, 8.819447396326439, 8.754861360845275, 8.684160273280597, 8.059646845392319, 7.247673207956968, 7.196300374986646, 7.068249970858626, 6.816746110779875, 6.806997530497366, 6.338572897867154, 5.830846469645745, 5.818189180960678, 5.647337101941584, 5.478776322607041, 4.784066885202279, 4.538979812144928, 47.713722896159254, 20.83477614261285, 14.058847471534708, 14.369995227588937, 16.758842209857605, 28.131896163515446, 12.819413818946286, 19.293717423015245, 9.530781772863053, 10.79602688155084, 9.006174586758108, 8.99753004477413, 8.819244053216126, 53.20234220569542, 42.18908619736167, 38.34838846337701, 37.86226775247661, 34.507803083746744, 34.161179448926845, 28.14703898736463, 22.680160908619435, 20.212750851491187, 18.688720211548755, 17.645810513736972, 18.59844610069906, 14.316014158022693, 11.196074833148346, 9.593280524672915, 68.71512359183492, 8.199841571780665, 6.1872034010127575, 5.044455427934962, 4.733123471626164, 4.71673769951941, 4.569786695893594, 4.347505690384665, 4.090828248473204, 3.656726623814711, 3.6226620246913845, 3.5077793707297378, 3.366217456776059, 3.027705545052963, 2.7347257253582575, 15.27411330207784, 4.367528281491373, 6.00791851257711, 4.838982503196187], \"Total\": [1820.0, 3903.0, 1187.0, 2475.0, 1916.0, 2417.0, 2365.0, 1549.0, 1870.0, 4105.0, 735.0, 1770.0, 3035.0, 2266.0, 5726.0, 2338.0, 2932.0, 2984.0, 3159.0, 1260.0, 464.0, 386.0, 3716.0, 528.0, 2345.0, 2496.0, 1985.0, 2074.0, 2836.0, 1427.0, 182.4688499271773, 117.40521440478109, 110.97200667044002, 68.87071534696845, 65.5642927668229, 63.93585564539, 66.2717741575771, 58.69060598807453, 55.499149604570206, 54.108804569181174, 52.66279713523888, 50.91816339000835, 50.72956776705587, 53.56312739051926, 49.077538526831496, 48.39976415111183, 47.23162050149104, 46.39878554891466, 45.5339669698355, 45.481615163474146, 44.562818104659485, 44.49192820280299, 43.11172720695272, 40.53878432562513, 39.973867045788175, 123.27019726398501, 39.47427672154056, 39.298304290319706, 38.49291690509973, 37.102284427272195, 95.20713881801397, 44.77096140532388, 69.67899572991972, 56.70178813804816, 73.91583999663585, 94.51049104944252, 80.12014302717567, 73.31470683423733, 248.27630382074054, 73.28127866414732, 632.1439073316557, 1270.057317215671, 71.99550378135733, 2366.115894345505, 577.8510152598645, 450.2298256040662, 1292.2428313835615, 530.5544248575678, 900.9072756158401, 95.58424729808635, 713.0168195069878, 599.0363107667223, 270.05640852045127, 385.6895922515886, 1348.092487353721, 1197.6331974310644, 888.1120937289445, 191.34387367706202, 521.8519623987174, 989.9135974275204, 957.6593944134182, 1323.3987161313771, 964.9539812641315, 182.881116584418, 2662.7757050616883, 2317.113398183447, 1341.6031156288884, 1136.951972116613, 5726.066872732276, 1236.9703546814808, 1388.540027782186, 3301.665954177281, 1385.1327431257482, 2932.764924435941, 4231.60507883177, 3015.8841222089764, 2838.40350790784, 1491.9542231000435, 1510.661692540376, 1328.5250265841134, 3483.4302303543727, 2266.3182351077085, 3035.1283990081106, 3159.789132082176, 2289.4209323442624, 1404.4206061395853, 137.30748410214568, 107.12035176149668, 100.91568507780484, 94.33078620412304, 94.13955607463355, 72.79831161046503, 69.31858565574827, 66.95398434876039, 64.11464783989408, 64.11342551673407, 64.24154572032332, 59.74156181719161, 59.58712832848085, 58.174361642980585, 61.575203971584045, 57.96220262336659, 57.00258360619718, 56.15296037226335, 55.37002355536101, 53.60279762147913, 49.69372007753733, 48.27809702623028, 47.40955081072318, 46.28481848148494, 45.90131228404803, 47.12450041837694, 40.41310274564131, 39.02630031266458, 38.461214448499994, 56.64554438158922, 174.70895327892453, 76.14408691087884, 1195.3886529557108, 429.1939466210188, 1985.9415692507805, 1140.4627325439194, 117.60934396431175, 357.0671264110051, 709.2487541643354, 328.3751321106688, 254.18336544894345, 181.3826186374628, 131.55323084944752, 1019.7454628451285, 299.0136113946989, 221.93782206265703, 1128.0236865645768, 773.5211028288869, 295.08601670192087, 2932.764924435941, 547.575260060262, 127.42494901555469, 707.4732237156819, 816.6514559395821, 158.562982504336, 1225.325001708944, 344.3484854181757, 965.5189687797074, 713.2126154053245, 3483.4302303543727, 562.4882103070898, 2984.833759386408, 1611.4721425537575, 356.6548771809625, 924.6921027785967, 668.8574251875581, 1260.8339836791024, 3478.6753886763922, 664.6623795348347, 3035.1283990081106, 1611.3745699067465, 2541.2181637412405, 698.4217050168857, 3716.003301906684, 1252.0877166810926, 4105.820804802569, 1270.0466224040185, 3015.8841222089764, 1684.3519763026138, 4231.60507883177, 3428.007636148389, 2289.4209323442624, 5726.066872732276, 1839.8536327456413, 55.81568235133508, 48.79246681490854, 37.72369148743403, 38.00866745898686, 70.0813785014666, 33.96964716003285, 32.07769581549482, 27.994297719175204, 26.400452135512385, 26.35589879355601, 28.593212531945923, 25.99687950984675, 25.323516728919383, 24.622083992829374, 24.305325817288704, 24.195503582474384, 22.62332199023944, 21.2962130127, 20.70350317794069, 20.066617912564194, 19.89023407518213, 19.668416911981996, 23.73195998400039, 19.523415892224463, 18.093418080112173, 17.364099837742895, 17.224002137352205, 788.5254591925458, 15.865348896096366, 15.677567833344517, 3903.742911463093, 368.93081055769994, 35.863167242458324, 1154.0194948361698, 2365.3208847157857, 1870.82558737023, 107.2759904732217, 196.61246406163292, 1427.6547635278914, 37.051001641529524, 58.47991508001148, 2345.70803910988, 558.8393761698612, 2338.7894762604014, 358.68510924290064, 446.1186494526594, 47.6442616738561, 618.7207672241427, 183.54021647894058, 2027.6060468738174, 898.8164446766863, 1001.8018163979277, 1497.7175768434788, 137.40574019383365, 1146.4573267392395, 3716.003301906684, 1856.3854092991414, 4231.60507883177, 433.2537017807886, 541.8501173207028, 5726.066872732276, 1473.2354811524528, 753.3053795297544, 4105.820804802569, 3301.665954177281, 2541.2181637412405, 1164.0397016866207, 1143.9445143985417, 2074.5134589473128, 2496.22965898834, 3428.007636148389, 3159.789132082176, 3478.6753886763922, 2838.40350790784, 2513.351672107227, 218.31756426046405, 172.8354320557891, 99.36774286175948, 79.04442608446348, 63.27988154111202, 54.301913253722134, 46.27129058929351, 45.648185398200816, 45.09574663336439, 43.621162550456546, 35.100953396596076, 28.728193373456506, 27.944301289761338, 27.70097024046264, 26.819113365098076, 26.403175432504305, 26.089121530247912, 26.689825700194067, 23.718154156130478, 23.115830514079192, 22.89117478341962, 22.772440002689407, 21.99799104510759, 21.091920492732406, 20.99158503887552, 20.782908498923657, 22.64481960713903, 20.17008287304816, 19.705361714700725, 19.380101464999345, 77.83730985045759, 759.7620756539105, 1549.9937291108472, 230.07069553532054, 537.7066349335468, 371.0902438302506, 105.95433694781323, 262.868428221239, 647.8887347303303, 348.28173904876587, 145.7287846294265, 460.730634650037, 127.52922221872062, 707.7865870627088, 776.5337798374318, 472.90296591150593, 219.96372561323435, 521.1462431856395, 117.31884928328896, 939.0043862587457, 438.7300372132151, 851.2645716363019, 677.7037901019945, 2513.351672107227, 357.8612852741067, 2836.4547372805064, 4105.820804802569, 1510.661692540376, 1814.152498314022, 1617.3202697311106, 865.3799659485983, 751.9750357824415, 945.809153744539, 1839.8536327456413, 3428.007636148389, 4231.60507883177, 979.1151527570199, 3716.003301906684, 935.564880651445, 3478.6753886763922, 1770.8359435374164, 3159.789132082176, 1030.6019058765921, 58.063979278106125, 46.371580382926865, 43.83600125312179, 39.74956782955223, 34.93070620385631, 32.54856208155215, 31.91705271177242, 29.155951569336917, 27.238243891197527, 27.179666949069052, 26.597472015561465, 25.54846362446427, 24.607896321473078, 22.92329980668993, 21.886516276788473, 21.12586191298606, 36.057614189322265, 20.233228111588996, 19.182272331245894, 16.967170743079624, 16.800474276443648, 16.712604636206667, 16.65255058640348, 26.848655560197944, 16.024414291757335, 14.896358367303828, 14.539460773487946, 13.358021486735181, 12.763088210816973, 12.719261288485159, 208.43696172526091, 87.65828790101808, 37.19761514065508, 579.8782590989603, 325.15194450511046, 212.23408696737113, 290.97875516106217, 733.5267268097539, 60.967171618153486, 1506.718905106966, 72.19624558423416, 2074.5134589473128, 726.8394263704505, 2496.22965898834, 2662.7757050616883, 742.7842840245235, 371.35371316593313, 100.61899280260512, 395.7806821698217, 3428.007636148389, 1001.8018163979277, 113.45072441757007, 198.84207893926575, 1270.0466224040185, 1497.7175768434788, 261.6541082840644, 930.5971486187659, 151.20439660212378, 3035.1283990081106, 1153.6898728262752, 2541.2181637412405, 4105.820804802569, 1031.7114500692526, 2289.4209323442624, 2984.833759386408, 2838.40350790784, 3716.003301906684, 1874.404000630979, 2317.113398183447, 5726.066872732276, 3478.6753886763922, 1323.3987161313771, 1525.9041933694834, 1814.152498314022, 2366.115894345505, 3483.4302303543727, 2475.2902305025764, 584.9248813902199, 209.67068994124855, 110.49940547413581, 60.69808316254159, 39.5014743936671, 38.221816607519024, 35.931183755850356, 31.474908898657723, 31.326210630944125, 28.317171847989062, 215.97589873061162, 26.89020671751603, 26.741837219048627, 22.89886813535679, 22.82981483792902, 22.780604274735698, 22.360578781257065, 21.404761760479655, 21.160688069779408, 20.497160013794378, 19.98102807777508, 18.65968921496929, 17.36898388233878, 24.658353405567492, 17.107211933166067, 15.901209670101988, 14.819454556459362, 14.63462544029316, 14.209410219679466, 49.454030943966885, 808.7720643336269, 243.8386123244955, 479.09211027940535, 2417.7785466252158, 193.25187472562342, 348.41819658702997, 115.0365496105885, 44.74144442155954, 126.16080400936272, 208.93904392042808, 317.7022421025396, 2266.3182351077085, 137.89575587555726, 318.744958909818, 415.82267778724633, 65.24850185371506, 210.90392575912853, 660.1695223084953, 1770.8359435374164, 432.5452190725105, 5726.066872732276, 2338.7894762604014, 1684.3519763026138, 1293.0340003927554, 618.7207672241427, 1240.4984975445368, 776.5337798374318, 2836.4547372805064, 1870.82558737023, 1617.3202697311106, 2496.22965898834, 3301.665954177281, 2838.40350790784, 1856.3854092991414, 4231.60507883177, 3903.742911463093, 1473.2354811524528, 1340.5977164886988, 3478.6753886763922, 3015.8841222089764, 77.11410585249628, 66.71249208218035, 58.70250299234226, 52.609384248682126, 44.08048327543554, 42.399774445504825, 42.127747833036004, 34.45218914333135, 33.90487280195091, 33.733057074678825, 31.23543777743105, 29.874708549639674, 52.473980250745065, 22.867549711902694, 21.70460734748549, 21.501124051717934, 20.674360558279528, 20.52751501293212, 19.98776984686272, 57.78287482968291, 18.237926372069754, 17.25897880891968, 17.202355855479887, 16.13011570085078, 45.22931076880416, 27.42354832149696, 15.597372231830821, 15.496332181660138, 15.197208472882526, 15.082306470591632, 243.04707040606573, 382.9893759454678, 78.18742418439614, 66.63411946048645, 125.12014417865338, 124.54698017225753, 152.96548860857513, 100.46656106289954, 539.225554303109, 446.14075865239914, 72.01970546210622, 890.4073640813521, 463.8507870668241, 423.91504256909775, 495.3582567926506, 1260.8339836791024, 299.58547885062086, 1586.972292846985, 157.2580617086259, 520.2981543178731, 3159.789132082176, 726.4545594508662, 924.6921027785967, 452.947396093015, 3015.8841222089764, 668.8574251875581, 3035.1283990081106, 1611.3745699067465, 983.5769285401954, 577.5550822398238, 664.6623795348347, 2984.833759386408, 2317.113398183447, 1473.2354811524528, 304.5264920241931, 678.8552824389346, 1341.6031156288884, 3301.665954177281, 965.5189687797074, 1874.404000630979, 1240.4984975445368, 66.54596744733463, 359.1434265060123, 55.983696276474646, 46.037987782253545, 45.81277120065589, 42.570288436109415, 28.753997610809144, 24.176931921077873, 23.836833196338585, 23.254016052796974, 22.40845477990316, 21.520749885621054, 21.34329355680937, 21.1294729535683, 20.48009535725915, 19.330301161031745, 17.747274195696747, 17.644381130147014, 16.988163153055616, 16.941154080718626, 16.829996485751742, 15.804098278406464, 15.616528583956589, 14.698188153175124, 15.969612384815894, 14.078184108496934, 13.568171697417165, 13.532416428064145, 13.3574469203169, 13.1987627900729, 35.96430856368556, 283.832231656051, 136.2102413446279, 735.8590136862244, 133.87680145056288, 104.56954840379245, 188.77771032369213, 45.281388120967, 1916.1317708227484, 97.86178755858177, 123.66370617808165, 29.972183837804117, 68.43541723400038, 198.84207893926575, 698.8575817294428, 71.86959231005748, 1770.8359435374164, 173.89570253153087, 539.225554303109, 287.51786443212256, 166.17456617393304, 278.0461190192194, 472.5706011942907, 72.50950823403254, 412.55297065115, 334.5063123139163, 930.5971486187659, 3716.003301906684, 4105.820804802569, 212.7931787331672, 69.91040964737171, 44.65008250010139, 197.99917624454355, 30.105979569809104, 27.987262827574263, 30.731720012808623, 27.198605407129918, 25.289685580164896, 24.529630828134916, 22.43241867305311, 22.11969552973496, 19.24907960330776, 19.157853607129045, 18.68303188721451, 18.36711841870437, 16.931530793174257, 15.578987191418703, 14.964174438952762, 14.942280988814614, 14.090472010168183, 13.42190733421863, 12.44452156800237, 12.398207796816713, 19.61592446459292, 11.746639506346273, 11.682148425095502, 11.346346819317118, 11.259223235357634, 11.136117483945512, 1820.428216520222, 30.30781701092749, 160.6106442028109, 95.02880237000434, 31.300850994821356, 17.771830923570615, 29.737034133907567, 108.95160798309271, 37.77823491411844, 111.44619921040494, 735.8590136862244, 27.67706487922031, 455.17448032924847, 91.13031723944268, 284.8342998671944, 155.8991781846046, 155.12514468433048, 1030.6019058765921, 100.41715382910931, 632.3226137025716, 2074.5134589473128, 3428.007636148389, 105.47836452155937, 82.06820995499008, 59.667765186344454, 50.57828790421579, 162.52377314609404, 129.19274653311444, 44.002068783946086, 34.529077311734014, 49.090101810528445, 28.520740993416446, 25.148062838746085, 24.611779941114648, 22.599938351657876, 22.396819171885152, 21.259201212188533, 21.14913064370949, 19.84033811335476, 18.469705079798867, 18.412761321457317, 17.685048818511124, 17.67556415121599, 17.5221870166227, 17.491259969162403, 16.14407745317485, 15.677994588575741, 15.46624048023847, 15.284903446647622, 15.024574849317053, 14.728428499347153, 55.577029217758266, 168.61704514329676, 29.29041628730864, 29.648995474694622, 44.421300308895894, 464.3452586523906, 95.73176603639394, 528.1672140754714, 47.75359634766379, 333.9524049404688, 246.44946313781398, 118.83592506453189, 77.64253189994085, 677.7037901019945, 2366.115894345505, 386.5928722073491, 34.259848736921, 32.355306504133964, 26.256715773987843, 25.837151882478157, 25.61365624243525, 25.297387349032242, 258.43920400849424, 24.874545551725184, 22.24936480780562, 21.024092633533268, 20.178547960486117, 18.738101953666632, 17.93298991679617, 17.5762559851896, 17.288076287961825, 16.65774009842913, 16.468617577429278, 16.394070127803275, 16.234834000970668, 14.49104156461771, 13.345782176993605, 13.427513273141994, 13.24535187980314, 12.637992818891135, 12.354423579809158, 12.25450313890732, 12.157823836079471, 12.140841249139234, 12.097797953950279, 70.65455875716269, 44.32191194602142, 21.534276985858305, 31.796448654031693, 43.03640259521411, 78.71700131751014, 69.04314899679555, 29.827871473210266, 50.33171211032976, 46.62389961110318, 1187.4747651265704, 36.231978357545486, 32.27825535437139, 21.957830437930923, 20.117220622072438, 19.215095222182253, 14.614846202059304, 14.287772585288181, 12.51910372524287, 12.21454442438153, 11.55446881563471, 11.432181601393122, 10.386733706723833, 9.84288221656611, 9.229485949669575, 9.14709686045417, 8.39272086540325, 8.117928232576373, 8.095335702027501, 6.6896586688080735, 6.290187169369147, 6.244283437318, 6.220730360629518, 6.143523221176936, 5.896201372813024, 5.6295685761317795, 5.362159520297538, 5.291300172828152, 5.184407686214071, 5.137420942676835, 20.43814475467041, 13.728222168325287, 37.77823491411844, 63.62660066007925, 89.96784863387867, 49.196015397892936, 36.67391423391113, 16.86182729276263, 17.54467320904666, 29.54597783539125, 267.19161040825145, 37.47661405470764, 29.813008097442847, 28.623750655809552, 26.615794445136217, 19.97715176954387, 19.267453656972673, 18.482074749366102, 16.794695738518204, 16.409400099102072, 15.292194094206335, 14.504017296662997, 13.738158134901008, 12.571816995592082, 12.310158717828491, 11.829180223313195, 11.788707488168159, 11.566580326436318, 11.360162135396164, 11.17220297219798, 10.767535649254054, 10.544547079013437, 10.468449507323554, 10.222693520948448, 9.913288815966627, 9.815154383742726, 9.575098366345763, 9.55699586954853, 9.218661528230554, 8.93975485007367, 8.671686763660361, 19.06805239258289, 63.914812939629165, 39.57220097967302, 72.6928454735422, 45.61383948594695, 92.20845434462692, 42.19040241377873, 63.97207971864815, 109.76586128653643, 55.181674120257846, 62.08691387046385, 18.0724948772954, 47.4725744754201, 29.52808194366472, 28.583163982164, 28.68735056880647, 23.55726229768396, 22.433145518535, 20.125403640827006, 18.143199495261847, 16.66023717651783, 13.85002675570691, 12.432679554987743, 12.233479566433498, 12.180005496649859, 11.418913391258787, 9.725976563816397, 9.661391573344936, 9.591045620109893, 8.966176146207744, 8.154202152834925, 8.102829682462987, 7.97477878755177, 7.723275565016274, 7.713526697454836, 7.245102694314001, 6.737375695521391, 6.724994505475418, 6.553865787181146, 6.385305244034299, 5.690595717015208, 5.445508280715625, 60.32360580400689, 27.10938136032519, 19.885836720668376, 24.67377588103405, 31.919002853413904, 76.36247610560402, 25.45465987337156, 55.03516113254055, 16.87830956697891, 24.26604401364195, 20.5201563170691, 30.325444215747385, 27.62015024266447, 54.117482036475245, 43.1042233600946, 39.263525648949376, 38.777404948228664, 35.423758667013004, 35.076317264238945, 29.062176018499006, 23.59529840918429, 21.127888477864545, 19.60385797291056, 18.561002346057634, 19.66875397043083, 15.231158062285875, 12.11121308123811, 10.508417381110723, 75.57584931462827, 9.114979055271542, 7.102340510756421, 5.9595925424633736, 5.648261062438712, 5.631874585579143, 5.484929379849261, 5.2626429066585745, 5.005966840157051, 4.571863681421021, 4.537799523680339, 4.4229166918385365, 4.281354783892297, 3.9428431792099525, 3.649862399392105, 26.67930293908296, 7.229814985431016, 12.956527096068907, 55.836683482458206], \"Category\": [\"Default\", \"Default\", \"Default\", \"Default\", \"Default\", \"Default\", \"Default\", \"Default\", \"Default\", \"Default\", \"Default\", \"Default\", \"Default\", \"Default\", \"Default\", \"Default\", \"Default\", \"Default\", \"Default\", \"Default\", \"Default\", \"Default\", \"Default\", \"Default\", \"Default\", \"Default\", \"Default\", \"Default\", \"Default\", \"Default\", \"Topic1\", \"Topic1\", \"Topic1\", \"Topic1\", \"Topic1\", \"Topic1\", \"Topic1\", \"Topic1\", \"Topic1\", \"Topic1\", \"Topic1\", \"Topic1\", \"Topic1\", \"Topic1\", \"Topic1\", \"Topic1\", \"Topic1\", \"Topic1\", \"Topic1\", \"Topic1\", \"Topic1\", \"Topic1\", \"Topic1\", \"Topic1\", \"Topic1\", \"Topic1\", \"Topic1\", \"Topic1\", \"Topic1\", \"Topic1\", \"Topic1\", \"Topic1\", \"Topic1\", \"Topic1\", \"Topic1\", \"Topic1\", \"Topic1\", \"Topic1\", \"Topic1\", \"Topic1\", \"Topic1\", \"Topic1\", \"Topic1\", \"Topic1\", \"Topic1\", \"Topic1\", \"Topic1\", \"Topic1\", \"Topic1\", \"Topic1\", \"Topic1\", \"Topic1\", \"Topic1\", \"Topic1\", \"Topic1\", \"Topic1\", \"Topic1\", \"Topic1\", \"Topic1\", \"Topic1\", \"Topic1\", \"Topic1\", \"Topic1\", \"Topic1\", \"Topic1\", \"Topic1\", \"Topic1\", \"Topic1\", \"Topic1\", \"Topic1\", \"Topic1\", \"Topic1\", \"Topic1\", \"Topic1\", \"Topic1\", \"Topic1\", \"Topic1\", \"Topic1\", \"Topic1\", \"Topic1\", \"Topic1\", \"Topic1\", \"Topic1\", \"Topic1\", \"Topic1\", \"Topic1\", \"Topic2\", \"Topic2\", \"Topic2\", \"Topic2\", \"Topic2\", \"Topic2\", \"Topic2\", \"Topic2\", \"Topic2\", \"Topic2\", \"Topic2\", \"Topic2\", \"Topic2\", \"Topic2\", \"Topic2\", \"Topic2\", \"Topic2\", \"Topic2\", \"Topic2\", \"Topic2\", \"Topic2\", \"Topic2\", \"Topic2\", \"Topic2\", \"Topic2\", \"Topic2\", \"Topic2\", \"Topic2\", \"Topic2\", \"Topic2\", \"Topic2\", \"Topic2\", \"Topic2\", \"Topic2\", \"Topic2\", \"Topic2\", \"Topic2\", \"Topic2\", \"Topic2\", \"Topic2\", \"Topic2\", \"Topic2\", \"Topic2\", \"Topic2\", \"Topic2\", \"Topic2\", \"Topic2\", \"Topic2\", \"Topic2\", \"Topic2\", \"Topic2\", \"Topic2\", \"Topic2\", \"Topic2\", \"Topic2\", \"Topic2\", \"Topic2\", \"Topic2\", \"Topic2\", \"Topic2\", \"Topic2\", \"Topic2\", \"Topic2\", \"Topic2\", \"Topic2\", \"Topic2\", \"Topic2\", \"Topic2\", \"Topic2\", \"Topic2\", \"Topic2\", \"Topic2\", \"Topic2\", \"Topic2\", \"Topic2\", \"Topic2\", \"Topic2\", \"Topic2\", \"Topic2\", \"Topic2\", \"Topic2\", \"Topic2\", \"Topic2\", \"Topic2\", \"Topic3\", \"Topic3\", \"Topic3\", \"Topic3\", \"Topic3\", \"Topic3\", \"Topic3\", \"Topic3\", \"Topic3\", \"Topic3\", \"Topic3\", \"Topic3\", \"Topic3\", \"Topic3\", \"Topic3\", \"Topic3\", \"Topic3\", \"Topic3\", \"Topic3\", \"Topic3\", \"Topic3\", \"Topic3\", \"Topic3\", \"Topic3\", \"Topic3\", \"Topic3\", \"Topic3\", \"Topic3\", \"Topic3\", \"Topic3\", \"Topic3\", \"Topic3\", \"Topic3\", \"Topic3\", \"Topic3\", \"Topic3\", \"Topic3\", \"Topic3\", \"Topic3\", \"Topic3\", \"Topic3\", \"Topic3\", \"Topic3\", \"Topic3\", \"Topic3\", \"Topic3\", \"Topic3\", \"Topic3\", \"Topic3\", \"Topic3\", \"Topic3\", \"Topic3\", \"Topic3\", \"Topic3\", \"Topic3\", \"Topic3\", \"Topic3\", \"Topic3\", \"Topic3\", \"Topic3\", \"Topic3\", \"Topic3\", \"Topic3\", \"Topic3\", \"Topic3\", \"Topic3\", \"Topic3\", \"Topic3\", \"Topic3\", \"Topic3\", \"Topic3\", \"Topic3\", \"Topic3\", \"Topic3\", \"Topic3\", \"Topic4\", \"Topic4\", \"Topic4\", \"Topic4\", \"Topic4\", \"Topic4\", \"Topic4\", \"Topic4\", \"Topic4\", \"Topic4\", \"Topic4\", \"Topic4\", \"Topic4\", \"Topic4\", \"Topic4\", \"Topic4\", \"Topic4\", \"Topic4\", \"Topic4\", \"Topic4\", \"Topic4\", \"Topic4\", \"Topic4\", \"Topic4\", \"Topic4\", \"Topic4\", \"Topic4\", \"Topic4\", \"Topic4\", \"Topic4\", \"Topic4\", \"Topic4\", \"Topic4\", \"Topic4\", \"Topic4\", \"Topic4\", \"Topic4\", \"Topic4\", \"Topic4\", \"Topic4\", \"Topic4\", \"Topic4\", \"Topic4\", \"Topic4\", \"Topic4\", \"Topic4\", \"Topic4\", \"Topic4\", \"Topic4\", \"Topic4\", \"Topic4\", \"Topic4\", \"Topic4\", \"Topic4\", \"Topic4\", \"Topic4\", \"Topic4\", \"Topic4\", \"Topic4\", \"Topic4\", \"Topic4\", \"Topic4\", \"Topic4\", \"Topic4\", \"Topic4\", \"Topic4\", \"Topic4\", \"Topic4\", \"Topic4\", \"Topic4\", \"Topic4\", \"Topic4\", \"Topic4\", \"Topic5\", \"Topic5\", \"Topic5\", \"Topic5\", \"Topic5\", \"Topic5\", \"Topic5\", \"Topic5\", \"Topic5\", \"Topic5\", \"Topic5\", \"Topic5\", \"Topic5\", \"Topic5\", \"Topic5\", \"Topic5\", \"Topic5\", \"Topic5\", \"Topic5\", \"Topic5\", \"Topic5\", \"Topic5\", \"Topic5\", \"Topic5\", \"Topic5\", \"Topic5\", \"Topic5\", \"Topic5\", \"Topic5\", \"Topic5\", \"Topic5\", \"Topic5\", \"Topic5\", \"Topic5\", \"Topic5\", \"Topic5\", \"Topic5\", \"Topic5\", \"Topic5\", \"Topic5\", \"Topic5\", \"Topic5\", \"Topic5\", \"Topic5\", \"Topic5\", \"Topic5\", \"Topic5\", \"Topic5\", \"Topic5\", \"Topic5\", \"Topic5\", \"Topic5\", \"Topic5\", \"Topic5\", \"Topic5\", \"Topic5\", \"Topic5\", \"Topic5\", \"Topic5\", \"Topic5\", \"Topic5\", \"Topic5\", \"Topic5\", \"Topic5\", \"Topic5\", \"Topic5\", \"Topic5\", \"Topic5\", \"Topic5\", \"Topic5\", \"Topic5\", \"Topic5\", \"Topic5\", \"Topic5\", \"Topic5\", \"Topic5\", \"Topic6\", \"Topic6\", \"Topic6\", \"Topic6\", \"Topic6\", \"Topic6\", \"Topic6\", \"Topic6\", \"Topic6\", \"Topic6\", \"Topic6\", \"Topic6\", \"Topic6\", \"Topic6\", \"Topic6\", \"Topic6\", \"Topic6\", \"Topic6\", \"Topic6\", \"Topic6\", \"Topic6\", \"Topic6\", \"Topic6\", \"Topic6\", \"Topic6\", \"Topic6\", \"Topic6\", \"Topic6\", \"Topic6\", \"Topic6\", \"Topic6\", \"Topic6\", \"Topic6\", \"Topic6\", \"Topic6\", \"Topic6\", \"Topic6\", \"Topic6\", \"Topic6\", \"Topic6\", \"Topic6\", \"Topic6\", \"Topic6\", \"Topic6\", \"Topic6\", \"Topic6\", \"Topic6\", \"Topic6\", \"Topic6\", \"Topic6\", \"Topic6\", \"Topic6\", \"Topic6\", \"Topic6\", \"Topic6\", \"Topic6\", \"Topic6\", \"Topic6\", \"Topic6\", \"Topic6\", \"Topic6\", \"Topic6\", \"Topic6\", \"Topic6\", \"Topic6\", \"Topic6\", \"Topic6\", \"Topic6\", \"Topic6\", \"Topic6\", \"Topic6\", \"Topic7\", \"Topic7\", \"Topic7\", \"Topic7\", \"Topic7\", \"Topic7\", \"Topic7\", \"Topic7\", \"Topic7\", \"Topic7\", \"Topic7\", \"Topic7\", \"Topic7\", \"Topic7\", \"Topic7\", \"Topic7\", \"Topic7\", \"Topic7\", \"Topic7\", \"Topic7\", \"Topic7\", \"Topic7\", \"Topic7\", \"Topic7\", \"Topic7\", \"Topic7\", \"Topic7\", \"Topic7\", \"Topic7\", \"Topic7\", \"Topic7\", \"Topic7\", \"Topic7\", \"Topic7\", \"Topic7\", \"Topic7\", \"Topic7\", \"Topic7\", \"Topic7\", \"Topic7\", \"Topic7\", \"Topic7\", \"Topic7\", \"Topic7\", \"Topic7\", \"Topic7\", \"Topic7\", \"Topic7\", \"Topic7\", \"Topic7\", \"Topic7\", \"Topic7\", \"Topic7\", \"Topic7\", \"Topic7\", \"Topic7\", \"Topic7\", \"Topic7\", \"Topic7\", \"Topic7\", \"Topic7\", \"Topic7\", \"Topic7\", \"Topic7\", \"Topic7\", \"Topic7\", \"Topic7\", \"Topic7\", \"Topic7\", \"Topic7\", \"Topic7\", \"Topic8\", \"Topic8\", \"Topic8\", \"Topic8\", \"Topic8\", \"Topic8\", \"Topic8\", \"Topic8\", \"Topic8\", \"Topic8\", \"Topic8\", \"Topic8\", \"Topic8\", \"Topic8\", \"Topic8\", \"Topic8\", \"Topic8\", \"Topic8\", \"Topic8\", \"Topic8\", \"Topic8\", \"Topic8\", \"Topic8\", \"Topic8\", \"Topic8\", \"Topic8\", \"Topic8\", \"Topic8\", \"Topic8\", \"Topic8\", \"Topic8\", \"Topic8\", \"Topic8\", \"Topic8\", \"Topic8\", \"Topic8\", \"Topic8\", \"Topic8\", \"Topic8\", \"Topic8\", \"Topic8\", \"Topic8\", \"Topic8\", \"Topic8\", \"Topic8\", \"Topic8\", \"Topic8\", \"Topic8\", \"Topic8\", \"Topic8\", \"Topic8\", \"Topic8\", \"Topic8\", \"Topic8\", \"Topic8\", \"Topic8\", \"Topic8\", \"Topic8\", \"Topic8\", \"Topic9\", \"Topic9\", \"Topic9\", \"Topic9\", \"Topic9\", \"Topic9\", \"Topic9\", \"Topic9\", \"Topic9\", \"Topic9\", \"Topic9\", \"Topic9\", \"Topic9\", \"Topic9\", \"Topic9\", \"Topic9\", \"Topic9\", \"Topic9\", \"Topic9\", \"Topic9\", \"Topic9\", \"Topic9\", \"Topic9\", \"Topic9\", \"Topic9\", \"Topic9\", \"Topic9\", \"Topic9\", \"Topic9\", \"Topic9\", \"Topic9\", \"Topic9\", \"Topic9\", \"Topic9\", \"Topic9\", \"Topic9\", \"Topic9\", \"Topic9\", \"Topic9\", \"Topic9\", \"Topic9\", \"Topic9\", \"Topic9\", \"Topic9\", \"Topic9\", \"Topic9\", \"Topic9\", \"Topic9\", \"Topic9\", \"Topic9\", \"Topic9\", \"Topic9\", \"Topic10\", \"Topic10\", \"Topic10\", \"Topic10\", \"Topic10\", \"Topic10\", \"Topic10\", \"Topic10\", \"Topic10\", \"Topic10\", \"Topic10\", \"Topic10\", \"Topic10\", \"Topic10\", \"Topic10\", \"Topic10\", \"Topic10\", \"Topic10\", \"Topic10\", \"Topic10\", \"Topic10\", \"Topic10\", \"Topic10\", \"Topic10\", \"Topic10\", \"Topic10\", \"Topic10\", \"Topic10\", \"Topic10\", \"Topic10\", \"Topic10\", \"Topic10\", \"Topic10\", \"Topic10\", \"Topic10\", \"Topic10\", \"Topic10\", \"Topic10\", \"Topic10\", \"Topic10\", \"Topic10\", \"Topic10\", \"Topic10\", \"Topic10\", \"Topic11\", \"Topic11\", \"Topic11\", \"Topic11\", \"Topic11\", \"Topic11\", \"Topic11\", \"Topic11\", \"Topic11\", \"Topic11\", \"Topic11\", \"Topic11\", \"Topic11\", \"Topic11\", \"Topic11\", \"Topic11\", \"Topic11\", \"Topic11\", \"Topic11\", \"Topic11\", \"Topic11\", \"Topic11\", \"Topic11\", \"Topic11\", \"Topic11\", \"Topic11\", \"Topic11\", \"Topic11\", \"Topic11\", \"Topic11\", \"Topic11\", \"Topic11\", \"Topic11\", \"Topic11\", \"Topic11\", \"Topic11\", \"Topic11\", \"Topic11\", \"Topic11\", \"Topic11\", \"Topic12\", \"Topic12\", \"Topic12\", \"Topic12\", \"Topic12\", \"Topic12\", \"Topic12\", \"Topic12\", \"Topic12\", \"Topic12\", \"Topic12\", \"Topic12\", \"Topic12\", \"Topic12\", \"Topic12\", \"Topic12\", \"Topic12\", \"Topic12\", \"Topic12\", \"Topic12\", \"Topic12\", \"Topic12\", \"Topic12\", \"Topic12\", \"Topic12\", \"Topic12\", \"Topic12\", \"Topic12\", \"Topic12\", \"Topic12\", \"Topic12\", \"Topic12\", \"Topic12\", \"Topic12\", \"Topic12\", \"Topic12\", \"Topic12\", \"Topic12\", \"Topic12\", \"Topic12\", \"Topic12\", \"Topic13\", \"Topic13\", \"Topic13\", \"Topic13\", \"Topic13\", \"Topic13\", \"Topic13\", \"Topic13\", \"Topic13\", \"Topic13\", \"Topic13\", \"Topic13\", \"Topic13\", \"Topic13\", \"Topic13\", \"Topic13\", \"Topic13\", \"Topic13\", \"Topic13\", \"Topic13\", \"Topic13\", \"Topic13\", \"Topic13\", \"Topic13\", \"Topic13\", \"Topic13\", \"Topic13\", \"Topic13\", \"Topic13\", \"Topic13\", \"Topic13\", \"Topic13\", \"Topic13\", \"Topic13\", \"Topic13\", \"Topic13\", \"Topic13\", \"Topic13\", \"Topic13\", \"Topic13\", \"Topic13\", \"Topic13\", \"Topic14\", \"Topic14\", \"Topic14\", \"Topic14\", \"Topic14\", \"Topic14\", \"Topic14\", \"Topic14\", \"Topic14\", \"Topic14\", \"Topic14\", \"Topic14\", \"Topic14\", \"Topic14\", \"Topic14\", \"Topic14\", \"Topic14\", \"Topic14\", \"Topic14\", \"Topic14\", \"Topic14\", \"Topic14\", \"Topic14\", \"Topic14\", \"Topic14\", \"Topic14\", \"Topic14\", \"Topic14\", \"Topic14\", \"Topic14\", \"Topic14\", \"Topic14\", \"Topic14\", \"Topic14\", \"Topic14\", \"Topic14\", \"Topic14\", \"Topic14\", \"Topic14\", \"Topic14\", \"Topic14\", \"Topic14\", \"Topic14\", \"Topic15\", \"Topic15\", \"Topic15\", \"Topic15\", \"Topic15\", \"Topic15\", \"Topic15\", \"Topic15\", \"Topic15\", \"Topic15\", \"Topic15\", \"Topic15\", \"Topic15\", \"Topic15\", \"Topic15\", \"Topic15\", \"Topic15\", \"Topic15\", \"Topic15\", \"Topic15\", \"Topic15\", \"Topic15\", \"Topic15\", \"Topic15\", \"Topic15\", \"Topic15\", \"Topic15\", \"Topic15\", \"Topic15\", \"Topic15\", \"Topic15\", \"Topic15\", \"Topic15\", \"Topic15\"], \"logprob\": [30.0, 29.0, 28.0, 27.0, 26.0, 25.0, 24.0, 23.0, 22.0, 21.0, 20.0, 19.0, 18.0, 17.0, 16.0, 15.0, 14.0, 13.0, 12.0, 11.0, 10.0, 9.0, 8.0, 7.0, 6.0, 5.0, 4.0, 3.0, 2.0, 1.0, -6.4725, -6.9161, -6.9731, -7.4555, -7.5048, -7.5305, -7.4954, -7.6172, -7.674, -7.6998, -7.7273, -7.7616, -7.7656, -7.7114, -7.7991, -7.8133, -7.8382, -7.8563, -7.8755, -7.8767, -7.8975, -7.8991, -7.9313, -7.9942, -8.0085, -6.8826, -8.0214, -8.026, -8.0472, -8.0848, -7.143, -7.8984, -7.4707, -7.6714, -7.4273, -7.2097, -7.3656, -7.453, -6.357, -7.4543, -5.5781, -4.9857, -7.4772, -4.4968, -5.7106, -5.9244, -5.0466, -5.7954, -5.3608, -7.2376, -5.5809, -5.7248, -6.3829, -6.0953, -5.0946, -5.2322, -5.4811, -6.6905, -5.9149, -5.4258, -5.4538, -5.2232, -5.4672, -6.7368, -4.7579, -4.8645, -5.2745, -5.414, -4.2974, -5.3744, -5.3309, -4.8013, -5.3596, -4.9057, -4.7297, -4.9246, -4.9716, -5.3423, -5.4086, -5.4646, -5.1912, -5.3182, -5.2437, -5.2502, -5.4459, -5.463, -6.6703, -6.919, -6.9792, -7.0473, -7.0493, -7.3092, -7.3589, -7.3946, -7.438, -7.438, -7.436, -7.5096, -7.5123, -7.5366, -7.4798, -7.5403, -7.5573, -7.5726, -7.5868, -7.6198, -7.6969, -7.7263, -7.7448, -7.7693, -7.7778, -7.7515, -7.9079, -7.9437, -7.9585, -7.5714, -6.4603, -7.2847, -4.5899, -5.6035, -4.1387, -4.6825, -6.8677, -5.8203, -5.1792, -5.9065, -6.1602, -6.4747, -6.7787, -4.8894, -6.0265, -6.3028, -4.8223, -5.1667, -6.0451, -3.9834, -5.4979, -6.8186, -5.3045, -5.2079, -6.636, -4.8624, -5.9691, -5.1133, -5.3694, -4.056, -5.5816, -4.2983, -4.8063, -5.9914, -5.2693, -5.5205, -5.0865, -4.3739, -5.5412, -4.5349, -4.9744, -4.8032, -5.5552, -4.7081, -5.264, -4.7157, -5.2794, -4.9791, -5.2065, -5.047, -5.1094, -5.1958, -5.1753, -5.2735, -7.0569, -7.1938, -7.4566, -7.4492, -6.8381, -7.5642, -7.6231, -7.7635, -7.8241, -7.8259, -7.7445, -7.8401, -7.8673, -7.8964, -7.9099, -7.9146, -7.9845, -8.0475, -8.077, -8.1097, -8.119, -8.1307, -7.943, -8.1385, -8.2184, -8.2617, -8.2703, -4.4474, -8.3572, -8.3698, -2.9137, -5.2581, -7.5515, -4.2228, -3.5688, -3.7986, -6.5147, -5.9525, -4.114, -7.5446, -7.1358, -3.8189, -5.1557, -3.9415, -5.591, -5.4801, -7.3424, -5.251, -6.2422, -4.3178, -4.9719, -4.915, -4.5985, -6.5137, -4.9141, -4.0523, -4.5857, -3.9851, -5.6794, -5.5225, -3.8703, -4.8916, -5.3469, -4.2754, -4.4181, -4.602, -5.0935, -5.1324, -4.8526, -4.8243, -4.7006, -4.8041, -4.7758, -4.8841, -4.9156, -5.4929, -5.7276, -6.2851, -6.5161, -6.7414, -6.8968, -7.0598, -7.0736, -7.086, -7.1199, -7.3425, -7.5485, -7.5771, -7.5862, -7.6195, -7.6358, -7.6484, -7.6276, -7.7469, -7.7737, -7.7838, -7.7892, -7.8253, -7.8692, -7.8741, -7.8846, -7.7998, -7.9159, -7.9403, -7.9577, -6.5778, -4.3364, -3.6429, -5.5252, -4.7314, -5.1612, -6.3481, -5.4942, -4.6803, -5.2668, -6.0739, -5.0322, -6.2038, -4.6595, -4.5996, -5.0513, -5.7448, -4.9951, -6.3154, -4.5201, -5.2235, -4.6997, -4.891, -3.8439, -5.4317, -3.9074, -3.687, -4.4656, -4.3841, -4.4651, -4.9303, -5.026, -4.8978, -4.5327, -4.3028, -4.3067, -4.9673, -4.5072, -5.1612, -4.8875, -5.0381, -4.9808, -5.1548, -6.7996, -7.0285, -7.0858, -7.1858, -7.3182, -7.3907, -7.4111, -7.5041, -7.5744, -7.5766, -7.599, -7.6407, -7.6796, -7.7533, -7.8016, -7.8384, -7.3053, -7.8835, -7.9394, -8.0685, -8.0789, -8.0845, -8.0883, -7.6112, -8.1289, -8.2064, -8.2322, -8.3228, -8.3717, -8.3756, -5.5807, -6.4815, -7.3461, -4.8194, -5.3652, -5.7668, -5.5422, -4.7268, -6.9604, -4.2555, -6.8383, -4.0526, -4.9508, -3.9663, -4.0174, -5.0338, -5.5875, -6.5947, -5.5718, -3.9801, -4.9006, -6.5161, -6.1066, -4.7948, -4.6824, -5.9228, -5.0694, -6.3258, -4.3246, -4.9945, -4.5099, -4.2396, -5.1144, -4.6202, -4.465, -4.5397, -4.3924, -4.7895, -4.7006, -4.2498, -4.5297, -5.0225, -4.9812, -5.0449, -5.0107, -5.0837, -2.8097, -4.2534, -5.2821, -5.9265, -6.5323, -6.9699, -7.0036, -7.0669, -7.203, -7.2078, -7.3119, -5.2806, -7.3654, -7.3711, -7.532, -7.5352, -7.5374, -7.5568, -7.6024, -7.6143, -7.6476, -7.6743, -7.746, -7.8214, -7.4714, -7.8375, -7.9147, -7.9895, -8.0029, -8.0343, -6.8014, -4.1229, -5.2746, -4.627, -3.14, -5.5973, -5.095, -6.1173, -6.9578, -6.0646, -5.6435, -5.3011, -3.7068, -6.0356, -5.3568, -5.2075, -6.7004, -5.8369, -5.005, -4.2896, -5.3577, -3.5821, -4.2104, -4.5827, -4.7795, -5.2462, -4.8279, -5.1242, -4.4153, -4.7006, -4.7877, -4.6105, -4.5105, -4.5796, -4.8576, -4.648, -4.7104, -5.0129, -5.0968, -4.9685, -5.0378, -6.0459, -6.1926, -6.3224, -6.4338, -6.614, -6.6537, -6.6603, -6.8663, -6.8827, -6.8879, -6.9673, -7.0129, -6.4533, -7.2897, -7.3441, -7.3539, -7.3949, -7.4023, -7.4302, -6.3728, -7.5263, -7.5844, -7.5879, -7.6559, -6.6252, -7.1265, -7.6915, -7.6984, -7.7191, -7.7272, -4.9823, -4.6126, -6.1426, -6.3121, -5.7384, -5.7529, -5.5938, -6.0226, -4.5443, -4.7617, -6.3274, -4.2738, -4.8439, -4.9189, -4.8381, -4.1712, -5.2816, -4.0712, -5.761, -4.9034, -3.6763, -4.7562, -4.5994, -5.1076, -3.8911, -4.9078, -4.1019, -4.5024, -4.7876, -5.109, -5.0407, -4.312, -4.4457, -4.7454, -5.4721, -5.1813, -4.9538, -4.6573, -5.069, -4.9685, -5.0692, -4.8709, -3.1871, -5.0464, -5.2453, -5.2503, -5.3252, -5.7278, -5.9072, -5.9219, -5.9477, -5.9862, -6.0283, -6.037, -6.0475, -6.0801, -6.1405, -6.2303, -6.2366, -6.2763, -6.2792, -6.2896, -6.3527, -6.3653, -6.4297, -6.3475, -6.4756, -6.5151, -6.5179, -6.5318, -6.5446, -5.5483, -3.5158, -4.2652, -2.6942, -4.3601, -4.5986, -4.1221, -5.4561, -2.4509, -5.0353, -4.8715, -5.8926, -5.3822, -4.756, -4.1001, -5.4169, -3.9931, -5.1208, -4.6717, -4.9439, -5.1801, -4.9768, -4.8771, -5.5589, -5.2497, -5.3836, -5.2818, -5.2115, -5.2726, -3.2155, -4.3375, -4.7945, -3.3063, -5.1976, -5.2729, -5.1799, -5.3025, -5.3779, -5.4095, -5.5025, -5.5174, -5.6626, -5.6676, -5.694, -5.7119, -5.7977, -5.8859, -5.9288, -5.9303, -5.993, -6.045, -6.1264, -6.1304, -5.6754, -6.1888, -6.1948, -6.2265, -6.2348, -6.2468, -1.4215, -5.3748, -4.0725, -4.5292, -5.4598, -5.8873, -5.5443, -4.6979, -5.5173, -5.0037, -4.2684, -5.6742, -4.7154, -5.3758, -5.1575, -5.3102, -5.333, -5.0157, -5.4412, -5.2624, -5.3738, -5.4985, -3.6197, -3.8731, -4.1961, -4.3641, -3.1971, -3.4277, -4.5089, -4.7543, -4.4071, -4.9511, -5.0813, -5.1037, -5.1924, -5.2018, -5.2561, -5.2615, -5.3284, -5.4035, -5.4067, -5.4492, -5.4497, -5.4589, -5.4608, -5.5455, -5.5765, -5.591, -5.6035, -5.6218, -5.6429, -4.3164, -3.3243, -5.0148, -5.0986, -4.8208, -3.1473, -4.4803, -3.5501, -4.9131, -4.0932, -4.2855, -4.717, -5.0064, -4.5244, -5.1877, -2.1987, -4.6464, -4.7052, -4.9207, -4.9374, -4.9464, -4.9593, -2.6358, -4.9768, -5.0927, -5.1518, -5.1948, -5.2724, -5.3186, -5.3398, -5.3572, -5.3964, -5.4085, -5.4133, -5.4237, -5.5444, -5.6324, -5.6263, -5.6405, -5.691, -5.7154, -5.7242, -5.7327, -5.7342, -5.7381, -4.4089, -4.7881, -5.3279, -5.0702, -4.9604, -4.7515, -4.8491, -5.4195, -5.2923, -5.3634, -0.8156, -4.3299, -4.4486, -4.8476, -4.9391, -4.9872, -5.2767, -5.3008, -5.4426, -5.4692, -5.5294, -5.541, -5.6456, -5.7047, -5.7758, -5.7858, -5.8819, -5.9193, -5.9224, -6.1401, -6.2117, -6.2203, -6.2247, -6.2394, -6.2878, -6.3428, -6.4011, -6.4171, -6.4418, -6.4529, -5.4387, -5.7988, -5.1397, -4.8141, -5.1089, -5.4384, -5.7182, -5.9649, -5.9824, -5.8643, -5.4888, -4.0981, -4.3333, -4.3753, -4.4505, -4.7493, -4.7872, -4.8309, -4.9319, -4.9564, -5.0322, -5.0876, -5.1455, -5.2409, -5.2635, -5.3066, -5.3104, -5.331, -5.3505, -5.3687, -5.4089, -5.4318, -5.4397, -5.4657, -5.4995, -5.5105, -5.5378, -5.5399, -5.5798, -5.6139, -5.6479, -4.8914, -4.199, -4.6415, -4.5076, -4.8026, -4.4917, -4.9204, -4.885, -4.8501, -5.0709, -5.167, -5.3576, -3.6327, -4.1196, -4.1529, -4.1496, -4.3534, -4.4065, -4.5176, -4.6265, -4.7164, -4.9129, -5.0289, -5.0463, -5.0514, -5.121, -5.2966, -5.3039, -5.312, -5.3866, -5.4928, -5.5, -5.5179, -5.5541, -5.5556, -5.6269, -5.7104, -5.7125, -5.7423, -5.7726, -5.9082, -5.9608, -3.6083, -4.4369, -4.8303, -4.8084, -4.6546, -4.1366, -4.9226, -4.5137, -5.219, -5.0943, -5.2756, -5.2766, -5.2966, -3.2721, -3.5041, -3.5995, -3.6123, -3.705, -3.7151, -3.9088, -4.1247, -4.2399, -4.3183, -4.3757, -4.3231, -4.5848, -4.8307, -4.9852, -3.0162, -5.1421, -5.4237, -5.6279, -5.6916, -5.6951, -5.7267, -5.7766, -5.8375, -5.9496, -5.959, -5.9912, -6.0324, -6.1384, -6.2402, -4.5201, -5.772, -5.4531, -5.6695], \"loglift\": [30.0, 29.0, 28.0, 27.0, 26.0, 25.0, 24.0, 23.0, 22.0, 21.0, 20.0, 19.0, 18.0, 17.0, 16.0, 15.0, 14.0, 13.0, 12.0, 11.0, 10.0, 9.0, 8.0, 7.0, 6.0, 5.0, 4.0, 3.0, 2.0, 1.0, 1.4339, 1.4312, 1.4306, 1.4253, 1.4252, 1.4247, 1.4239, 1.4235, 1.4227, 1.4222, 1.4218, 1.4212, 1.4208, 1.4208, 1.4205, 1.4202, 1.4198, 1.4194, 1.419, 1.419, 1.4186, 1.4186, 1.4179, 1.4166, 1.4163, 1.416, 1.416, 1.4159, 1.4154, 1.4145, 1.414, 1.413, 1.3984, 1.4038, 1.3828, 1.3546, 1.3639, 1.3653, 1.2415, 1.3644, 1.0858, 0.9805, 1.3592, 0.8472, 1.0431, 1.0788, 0.9022, 1.0437, 0.9488, 1.3154, 0.9626, 0.9929, 1.1315, 1.0626, 0.8119, 0.7927, 0.8428, 1.1685, 0.9407, 0.7896, 0.7947, 0.7019, 0.7738, 1.1673, 0.468, 0.5005, 0.6368, 0.6629, 0.1628, 0.6182, 0.5461, 0.2095, 0.5199, 0.2236, 0.0329, 0.1767, 0.1904, 0.4628, 0.3841, 0.4566, -0.234, 0.0689, -0.1487, -0.1955, -0.0689, 0.4026, 1.5205, 1.52, 1.5195, 1.5189, 1.5189, 1.5161, 1.5154, 1.5144, 1.5144, 1.5144, 1.5143, 1.5133, 1.5133, 1.5129, 1.5129, 1.5129, 1.5126, 1.5124, 1.5121, 1.5116, 1.5103, 1.5097, 1.5093, 1.5089, 1.5087, 1.5087, 1.5059, 1.5051, 1.5049, 1.5048, 1.4896, 1.4957, 1.4369, 1.4476, 1.3805, 1.3913, 1.478, 1.4147, 1.3696, 1.4124, 1.4147, 1.4377, 1.4549, 1.2962, 1.386, 1.4078, 1.2624, 1.2953, 1.3806, 1.1458, 1.3096, 1.4469, 1.2468, 1.1998, 1.4108, 1.1396, 1.3023, 1.127, 1.1738, 0.9012, 1.199, 0.8134, 0.9218, 1.2448, 1.0143, 1.087, 0.8869, 0.5847, 1.0725, 0.5601, 0.7537, 0.4694, 1.009, 0.1845, 0.7164, 0.0771, 0.6868, 0.1223, 0.4773, -0.2844, -0.1361, 0.1812, -0.7151, 0.322, 2.034, 2.0316, 2.0261, 2.026, 2.0252, 2.0234, 2.0218, 2.0175, 2.0155, 2.0154, 2.0153, 2.0149, 2.0139, 2.0129, 2.0124, 2.0122, 2.0095, 2.007, 2.0057, 2.0042, 2.0038, 2.0033, 2.0032, 2.0029, 1.9991, 1.9969, 1.9964, 1.9955, 1.9916, 1.9909, 1.9296, 1.9443, 1.9818, 1.8392, 1.7755, 1.7803, 1.9229, 1.8792, 1.7352, 1.9561, 1.9085, 1.5338, 1.6314, 1.4141, 1.6396, 1.5324, 1.9068, 1.4343, 1.6584, 1.1806, 1.34, 1.2884, 1.2028, 1.6764, 1.1545, 0.8403, 1.001, 0.7775, 1.3623, 1.2955, 0.5899, 0.9261, 1.1417, 0.5174, 0.5927, 0.6706, 0.9599, 0.9384, 0.6229, 0.4662, 0.2726, 0.2507, 0.1828, 0.2779, 0.3681, 2.2341, 2.233, 2.2291, 2.2268, 2.224, 2.2216, 2.2187, 2.2185, 2.2182, 2.2175, 2.2123, 2.2066, 2.2057, 2.2053, 2.2043, 2.2037, 2.2031, 2.2011, 2.1998, 2.1988, 2.1984, 2.1982, 2.1968, 2.1949, 2.1947, 2.1943, 2.1933, 2.1929, 2.1918, 2.191, 2.1806, 2.1436, 2.1241, 2.1494, 2.0943, 2.0354, 2.1018, 2.0471, 1.959, 1.9932, 2.0574, 1.948, 2.0608, 1.8913, 1.8585, 1.9029, 1.9748, 1.8619, 2.0327, 1.7481, 1.8056, 1.6666, 1.7032, 1.4397, 1.8011, 1.2553, 1.1059, 1.3271, 1.2255, 1.2594, 1.4195, 1.4643, 1.3632, 1.0628, 0.6705, 0.456, 1.259, 0.3854, 1.1107, 0.0711, 0.5957, 0.0739, 1.0203, 2.2519, 2.2478, 2.2468, 2.2446, 2.2415, 2.2395, 2.2387, 2.2362, 2.234, 2.2339, 2.2332, 2.2318, 2.2304, 2.2276, 2.2255, 2.2241, 2.2226, 2.2222, 2.2196, 2.2132, 2.2127, 2.2124, 2.2122, 2.2116, 2.2099, 2.2055, 2.2039, 2.1981, 2.1947, 2.1942, 2.1926, 2.158, 2.1506, 1.9308, 1.9635, 1.9885, 1.8975, 1.7883, 2.0422, 1.5398, 1.9953, 1.4229, 1.5735, 1.3241, 1.2084, 1.4688, 1.6084, 1.907, 1.5603, 0.9932, 1.3028, 1.8656, 1.7139, 1.1714, 1.1189, 1.6232, 1.2078, 1.7686, 0.7704, 1.0678, 0.7627, 0.5533, 1.0596, 0.7568, 0.6467, 0.6223, 0.5002, 0.7875, 0.6643, 0.2104, 0.4289, 0.9025, 0.8015, 0.5647, 0.3333, -0.1264, 2.4892, 2.4881, 2.4853, 2.4815, 2.4748, 2.4668, 2.466, 2.4645, 2.4608, 2.4607, 2.4576, 2.4572, 2.4559, 2.4557, 2.4499, 2.4497, 2.4497, 2.4489, 2.447, 2.4465, 2.4451, 2.4439, 2.4406, 2.4369, 2.4364, 2.436, 2.4319, 2.4275, 2.4267, 2.4248, 2.4106, 2.2946, 2.3419, 2.3141, 2.1823, 2.2517, 2.1646, 2.2505, 2.3543, 2.2108, 2.1274, 2.0508, 1.6803, 2.1509, 1.9918, 1.8753, 2.2344, 1.9247, 1.6155, 1.3442, 1.6856, 0.8781, 1.1453, 1.1012, 1.1688, 1.4391, 1.1618, 1.334, 0.7474, 0.8783, 0.9368, 0.6799, 0.5004, 0.5824, 0.729, 0.1146, 0.1329, 0.8049, 0.8153, -0.0099, 0.0635, 2.7218, 2.72, 2.7181, 2.7163, 2.713, 2.7122, 2.712, 2.7072, 2.7067, 2.7066, 2.7042, 2.7031, 2.6994, 2.6936, 2.6914, 2.691, 2.6892, 2.6889, 2.6877, 2.6835, 2.6832, 2.6802, 2.6801, 2.6764, 2.676, 2.6751, 2.6744, 2.674, 2.6728, 2.6723, 2.6374, 2.5524, 2.6113, 2.6017, 2.5453, 2.5354, 2.4889, 2.4806, 2.2785, 2.2507, 2.5087, 2.0476, 2.1296, 2.1446, 2.0696, 1.8023, 2.129, 1.6722, 2.2941, 1.9552, 1.3784, 1.7686, 1.6842, 1.8897, 1.2103, 1.6996, 0.9931, 1.2258, 1.4342, 1.6452, 1.573, 0.7997, 0.9192, 1.0724, 1.9221, 1.4113, 0.9576, 0.3535, 1.1714, 0.6084, 0.9206, 4.0442, 4.0421, 4.0415, 4.0382, 4.0381, 4.0366, 4.0264, 4.0204, 4.0198, 4.0188, 4.0173, 4.0157, 4.0153, 4.0149, 4.0135, 4.0108, 4.0065, 4.006, 4.0042, 4.004, 4.0003, 4.0, 3.9993, 3.9956, 3.9948, 3.9927, 3.9902, 3.99, 3.9891, 3.9882, 3.9822, 3.9488, 3.9336, 3.8178, 3.8559, 3.8645, 3.7503, 3.8441, 3.104, 3.4941, 3.4239, 3.8202, 3.5049, 3.0645, 2.4635, 3.4213, 1.6407, 2.8338, 2.1512, 2.5078, 2.8198, 2.5084, 2.0777, 3.2703, 1.841, 1.9167, 0.9954, -0.3189, -0.4798, 4.5372, 4.5283, 4.5197, 4.5185, 4.5106, 4.5083, 4.5078, 4.5074, 4.5047, 4.5036, 4.5, 4.4991, 4.4929, 4.4927, 4.4914, 4.4905, 4.4861, 4.4811, 4.4786, 4.4785, 4.4745, 4.4711, 4.4653, 4.4651, 4.4613, 4.4606, 4.4602, 4.4576, 4.457, 4.456, 4.1846, 4.3268, 3.9615, 4.0296, 4.2096, 4.3481, 4.1763, 3.7242, 3.9639, 3.3957, 2.2436, 4.1182, 2.2769, 3.2249, 2.3036, 2.7536, 2.7358, 1.1594, 3.0625, 1.4012, 0.1017, -0.5252, 4.8348, 4.8323, 4.8281, 4.8253, 4.8251, 4.824, 4.8198, 4.8169, 4.8122, 4.8113, 4.8069, 4.8061, 4.8026, 4.8023, 4.8001, 4.7999, 4.7969, 4.7934, 4.7932, 4.7911, 4.7911, 4.7906, 4.7905, 4.786, 4.7842, 4.7834, 4.7826, 4.7816, 4.7803, 4.7789, 4.6611, 4.721, 4.6249, 4.4985, 3.8251, 4.0712, 3.2935, 4.3339, 3.2088, 3.3204, 3.6182, 3.7545, 2.0699, 0.1563, 4.9569, 4.9326, 4.931, 4.9244, 4.9238, 4.9235, 4.923, 4.9225, 4.9224, 4.9179, 4.9155, 4.9136, 4.91, 4.9077, 4.9067, 4.9058, 4.9037, 4.903, 4.9028, 4.9022, 4.8951, 4.8894, 4.8893, 4.8888, 4.8853, 4.8836, 4.8829, 4.8823, 4.8822, 4.8819, 4.4462, 4.5334, 4.7155, 4.5834, 4.3905, 3.9957, 4.0291, 4.298, 3.902, 3.9075, 5.2178, 5.1931, 5.19, 5.1763, 5.1723, 5.1701, 5.1543, 5.1528, 5.1431, 5.1411, 5.1365, 5.1356, 5.1269, 5.1215, 5.1147, 5.1138, 5.1038, 5.0997, 5.0993, 5.0723, 5.0623, 5.061, 5.0604, 5.0582, 5.0509, 5.0422, 5.0325, 5.0298, 5.0255, 5.0236, 4.6569, 4.6947, 4.3416, 4.1458, 3.5047, 3.7788, 3.7927, 4.3231, 4.2658, 3.8628, 2.0362, 5.3911, 5.3847, 5.3834, 5.381, 5.3691, 5.3674, 5.3653, 5.3601, 5.3587, 5.3534, 5.351, 5.3473, 5.3407, 5.339, 5.3358, 5.3354, 5.3339, 5.3324, 5.3309, 5.3276, 5.3256, 5.3249, 5.3226, 5.3196, 5.3186, 5.316, 5.3158, 5.312, 5.3086, 5.3051, 5.2736, 4.7565, 4.7934, 4.3192, 4.4902, 4.0972, 4.4504, 4.0695, 3.5645, 4.0315, 3.8175, 4.861, 5.6202, 5.6081, 5.6073, 5.6069, 5.6002, 5.5959, 5.5934, 5.5882, 5.5835, 5.5718, 5.5638, 5.5625, 5.5618, 5.5568, 5.5416, 5.541, 5.5402, 5.5329, 5.5216, 5.5208, 5.5188, 5.5146, 5.5145, 5.5058, 5.495, 5.4946, 5.4906, 5.4864, 5.466, 5.4574, 5.405, 5.3762, 5.2927, 5.0989, 4.9952, 4.6409, 4.9535, 4.5913, 5.068, 4.8296, 4.816, 4.4244, 4.4979, 5.8497, 5.8453, 5.8432, 5.8429, 5.8406, 5.8403, 5.8348, 5.8272, 5.8225, 5.819, 5.8162, 5.8108, 5.8048, 5.7882, 5.7757, 5.7716, 5.761, 5.7288, 5.7001, 5.69, 5.6895, 5.6842, 5.6758, 5.6649, 5.6434, 5.6415, 5.635, 5.6263, 5.6027, 5.5781, 5.3091, 5.3628, 5.0983, 3.4211]}, \"token.table\": {\"Topic\": [8, 10, 12, 2, 6, 7, 3, 10, 1, 5, 6, 9, 1, 2, 7, 10, 1, 2, 3, 4, 5, 6, 3, 8, 2, 9, 2, 1, 2, 3, 4, 6, 7, 8, 1, 2, 3, 6, 1, 11, 1, 2, 3, 4, 5, 6, 7, 11, 9, 1, 2, 3, 4, 6, 7, 8, 9, 13, 14, 10, 9, 1, 2, 4, 5, 6, 7, 8, 4, 2, 1, 2, 5, 6, 1, 2, 3, 4, 5, 6, 7, 8, 7, 14, 3, 5, 12, 14, 2, 14, 1, 2, 3, 4, 6, 7, 8, 5, 2, 3, 4, 5, 6, 12, 14, 1, 2, 3, 5, 7, 12, 1, 9, 1, 1, 1, 2, 3, 6, 7, 8, 9, 11, 1, 3, 4, 5, 7, 8, 2, 14, 1, 2, 3, 4, 5, 6, 7, 8, 3, 8, 8, 7, 2, 13, 1, 4, 6, 7, 1, 2, 3, 4, 5, 6, 7, 8, 1, 2, 3, 4, 5, 6, 7, 9, 6, 7, 2, 5, 14, 6, 2, 4, 9, 2, 14, 1, 2, 3, 5, 6, 15, 1, 4, 5, 6, 7, 9, 14, 1, 7, 12, 1, 2, 5, 7, 2, 2, 5, 1, 7, 15, 13, 12, 12, 11, 10, 1, 6, 7, 12, 14, 7, 1, 2, 3, 4, 5, 6, 7, 5, 15, 4, 5, 2, 5, 8, 2, 13, 1, 6, 7, 4, 6, 14, 1, 2, 3, 4, 5, 7, 8, 10, 13, 1, 6, 8, 6, 2, 2, 1, 3, 4, 6, 1, 2, 3, 5, 7, 1, 2, 3, 5, 7, 9, 1, 7, 13, 2, 3, 5, 13, 5, 2, 3, 5, 13, 1, 7, 13, 2, 15, 6, 9, 1, 2, 3, 6, 7, 6, 2, 12, 10, 5, 1, 2, 3, 4, 5, 7, 1, 2, 5, 1, 2, 3, 4, 6, 7, 1, 2, 3, 4, 5, 6, 7, 5, 7, 8, 1, 2, 3, 4, 5, 6, 7, 8, 9, 5, 6, 8, 1, 10, 12, 7, 10, 13, 1, 4, 6, 7, 10, 12, 1, 3, 6, 14, 13, 13, 1, 2, 4, 5, 7, 1, 2, 3, 4, 5, 6, 3, 4, 10, 3, 14, 6, 2, 1, 2, 1, 2, 3, 7, 9, 12, 1, 7, 2, 1, 2, 3, 4, 5, 7, 1, 2, 3, 4, 5, 6, 7, 9, 14, 1, 2, 3, 4, 5, 6, 7, 8, 9, 15, 4, 6, 1, 2, 3, 11, 2, 7, 14, 1, 2, 5, 1, 2, 5, 2, 7, 11, 5, 14, 15, 7, 6, 1, 2, 3, 4, 5, 8, 9, 12, 15, 13, 1, 2, 7, 1, 6, 1, 2, 3, 4, 5, 6, 7, 9, 12, 3, 5, 11, 2, 5, 9, 1, 2, 3, 7, 1, 2, 4, 5, 6, 11, 5, 1, 13, 14, 1, 10, 7, 2, 4, 5, 4, 1, 2, 3, 4, 5, 6, 7, 10, 1, 2, 5, 13, 1, 2, 6, 9, 1, 3, 5, 6, 7, 10, 12, 1, 3, 13, 1, 2, 3, 4, 5, 6, 7, 9, 3, 2, 5, 1, 10, 1, 2, 3, 5, 9, 1, 2, 3, 4, 5, 6, 4, 1, 2, 4, 5, 6, 7, 1, 2, 4, 6, 7, 8, 11, 1, 2, 3, 4, 6, 1, 2, 4, 6, 7, 1, 2, 3, 4, 5, 6, 7, 8, 9, 11, 5, 8, 4, 6, 4, 6, 6, 12, 1, 2, 5, 6, 2, 15, 8, 1, 2, 3, 4, 5, 6, 7, 8, 13, 9, 13, 15, 4, 1, 2, 3, 4, 5, 6, 7, 8, 14, 6, 2, 2, 5, 11, 2, 1, 2, 3, 4, 5, 6, 7, 1, 2, 3, 4, 5, 6, 7, 5, 4, 4, 8, 8, 11, 1, 2, 3, 4, 5, 6, 7, 8, 9, 9, 9, 2, 2, 10, 13, 1, 2, 3, 4, 5, 6, 2, 12, 1, 2, 4, 6, 8, 1, 3, 12, 7, 14, 4, 11, 1, 4, 6, 7, 1, 7, 13, 5, 1, 2, 4, 5, 9, 1, 14, 1, 2, 3, 1, 8, 1, 2, 15, 1, 10, 1, 2, 3, 5, 6, 7, 5, 3, 9, 15, 1, 2, 3, 4, 5, 6, 7, 1, 6, 7, 9, 11, 2, 11, 7, 1, 14, 11, 1, 3, 7, 1, 2, 3, 4, 5, 6, 7, 12, 11, 2, 1, 2, 4, 5, 6, 7, 9, 1, 4, 6, 7, 1, 2, 3, 5, 6, 7, 8, 3, 1, 2, 3, 5, 6, 7, 1, 5, 7, 15, 15, 1, 2, 6, 9, 11, 1, 2, 3, 4, 6, 7, 8, 12, 1, 2, 3, 4, 6, 7, 7, 1, 2, 3, 4, 5, 7, 9, 1, 2, 3, 4, 5, 6, 7, 8, 11, 6, 7, 1, 2, 3, 4, 5, 6, 7, 1, 2, 3, 4, 5, 6, 8, 10, 7, 9, 1, 2, 3, 4, 5, 6, 7, 8, 1, 2, 3, 4, 5, 6, 7, 8, 8, 8, 1, 2, 3, 4, 5, 6, 7, 1, 2, 3, 4, 5, 6, 7, 3, 1, 9, 7, 1, 2, 4, 5, 6, 7, 12, 1, 2, 3, 4, 5, 6, 7, 1, 2, 3, 4, 7, 1, 1, 11, 1, 3, 4, 5, 7, 2, 4, 5, 6, 7, 6, 1, 2, 3, 4, 5, 6, 7, 8, 9, 13, 15, 1, 5, 4, 4, 8, 6, 14, 3, 5, 6, 2, 5, 9, 7, 6, 6, 2, 14, 1, 2, 3, 5, 11, 13, 12, 1, 4, 7, 11, 12, 15, 1, 2, 3, 5, 6, 7, 7, 1, 12, 6, 2, 7, 2, 12, 1, 2, 3, 4, 5, 6, 7, 8, 10, 4, 10, 14, 4, 11, 1, 10, 13, 11, 1, 3, 6, 7, 10, 1, 2, 3, 4, 5, 14, 1, 7, 10, 1, 4, 7, 9, 5, 7, 15, 5, 1, 2, 3, 4, 5, 6, 14, 13, 6, 9, 9, 14, 2, 9, 9, 4, 15, 15, 13, 10, 9, 13, 1, 2, 3, 6, 7, 10, 14, 12, 3, 13, 6, 3, 15, 1, 3, 4, 6, 7, 8, 1, 2, 3, 4, 5, 6, 7, 4, 1, 2, 3, 4, 5, 6, 7, 8, 9, 11, 2, 14, 1, 2, 3, 5, 6, 8, 9, 10, 4, 1, 2, 11, 1, 2, 3, 4, 5, 6, 7, 1, 1, 1, 2, 3, 4, 5, 6, 7, 10, 1, 2, 3, 4, 6, 13, 15, 7, 1, 2, 4, 5, 1, 2, 6, 1, 2, 3, 4, 5, 6, 7, 8, 1, 2, 3, 4, 5, 6, 1, 2, 3, 4, 5, 6, 7, 2, 9, 1, 2, 3, 4, 5, 6, 7, 8, 2, 11, 13, 8, 1, 6, 7, 11, 4, 8, 1, 2, 6, 7, 9, 1, 6, 14, 1, 2, 6, 8, 1, 2, 3, 4, 5, 6, 7, 8, 1, 2, 5, 9, 11, 1, 2, 3, 4, 5, 7, 8, 2, 2, 5, 14, 3, 1, 3, 7, 2, 15, 9, 1, 2, 3, 4, 6, 7, 1, 2, 4, 6, 6, 1, 2, 6, 10, 4, 6, 8, 9, 4, 2, 4, 5, 4, 7, 8, 7, 1, 2, 3, 4, 5, 6, 7, 1, 2, 3, 4, 5, 6, 7, 1, 5, 8, 3, 13, 1, 2, 3, 4, 5, 6, 7, 12, 1, 11, 11, 1, 3, 6, 8, 8, 12, 11, 1, 2, 3, 4, 5, 6, 7, 8, 9, 10, 4, 6, 8, 1, 2, 3, 4, 5, 6, 7, 12, 10, 1, 2, 3, 4, 5, 6, 7, 8, 1, 2, 3, 4, 5, 6, 7, 14, 3, 15, 1, 2, 3, 5, 6, 7, 8, 9, 5, 2, 12, 6, 7, 3, 1, 2, 3, 5, 6, 7, 1, 2, 3, 4, 5, 6, 7, 8, 11, 11, 2, 6, 4, 15, 3, 1, 7, 13, 15, 14, 15, 1, 11, 1, 2, 3, 4, 5, 6, 1, 2, 3, 5, 7, 12, 9, 1, 2, 3, 4, 5, 6, 7, 8, 4, 1, 2, 3, 5, 7, 8, 1, 2, 3, 4, 5, 6, 7, 8, 9, 1, 2, 4, 6, 7, 4, 11, 1, 2, 3, 4, 5, 6, 2, 5, 13, 8, 4, 1, 2, 14, 1, 2, 3, 6, 7, 7, 10, 15, 11, 12, 10, 15, 3, 13, 6, 14, 1, 8, 3, 1, 1, 2, 3, 4, 5, 6, 7, 3, 2, 6, 1, 2, 3, 4, 6, 7, 1, 4, 6, 7, 10, 10, 5, 9, 15, 12, 12, 4, 6, 7, 3, 2, 3, 2, 3, 5, 9, 6, 1, 2, 3, 4, 5, 6, 9, 12, 13, 1, 2, 3, 4, 5, 6, 7, 1, 2, 4, 3, 9, 2, 6, 7, 9, 4, 1, 7, 11, 13, 2, 5, 2, 5, 14, 2, 1, 3, 12, 13, 5, 13, 13, 6, 10, 12, 2, 1, 2, 3, 4, 5, 6, 7, 8, 9, 1, 2, 3, 4, 5, 6, 7, 8, 9, 10, 7, 1, 2, 3, 4, 5, 6, 7, 8, 3, 1, 1, 2, 7, 8, 11, 1, 2, 4, 9, 1, 1, 2, 3, 4, 5, 6, 7, 8, 9, 1, 2, 3, 4, 6, 9, 1, 2, 3, 4, 5, 6, 7, 8, 9, 5, 1, 10, 6, 13, 1, 2, 3, 4, 6, 7, 1, 2, 3, 4, 6, 7, 1, 2, 3, 4, 5, 6, 9, 12, 1, 3, 4, 6, 1, 3, 1, 2, 3, 4, 5, 6, 7, 2, 3, 10, 4, 1, 8, 13, 13, 1, 2, 3, 5, 8, 1, 6, 1, 2, 3, 5, 7, 8, 13, 1, 2, 3, 6, 7, 1, 2, 3, 4, 5, 6, 7, 10, 3, 15, 1, 6, 7, 10, 9, 9, 1, 5, 8, 1, 2, 3, 4, 5, 6, 7, 4, 8, 4, 8, 11, 3, 1, 2, 3, 4, 5, 6, 7, 8, 12, 10, 12, 5, 4, 3, 6, 1, 3, 6, 7, 3, 1, 2, 4, 5, 6, 8, 8, 1, 2, 4, 7, 14, 1, 2, 3, 4, 6, 11, 5, 7, 1, 1, 6, 3, 6, 11, 1, 4, 5, 8, 1, 7, 10, 7, 10, 10, 12, 1, 12, 4, 6, 7, 4, 5, 7, 1, 2, 3, 5, 7, 10, 11, 13, 1, 5, 6, 6, 1, 2, 3, 4, 5, 6, 13, 3, 6, 1, 7, 10, 7, 8, 9, 1, 2, 3, 5, 6, 1, 3, 5, 6, 7, 1, 2, 3, 4, 5, 6, 7, 2, 6, 8, 5, 9, 8, 1, 2, 11, 5, 2, 1, 3, 1, 3, 4, 6, 5, 14, 3, 7, 4, 13, 1, 3, 4, 6, 7, 9, 13, 1, 9, 10, 11, 1, 2, 3, 4, 5, 6, 7, 1, 4, 5, 7, 8, 12, 11, 1, 2, 3, 4, 5, 6, 7, 7, 2, 7, 1, 2, 9, 2, 3, 6, 4, 8, 1, 2, 3, 5, 6, 9, 6, 11, 5, 6, 1, 2, 3, 4, 5, 10, 14, 13, 1, 3, 4, 5, 7, 9, 12, 1, 2, 4, 5, 7, 9, 1, 2, 3, 5, 6, 7, 1, 2, 3, 4, 5, 6, 7, 9, 1, 2, 3, 4, 5, 6, 2, 13, 1, 9, 1, 9, 3, 1, 2, 3, 4, 5, 6, 7, 14, 1, 1, 11, 1, 2, 3, 5, 7, 1, 1, 2, 3, 4, 5, 6, 7, 4, 1, 2, 3, 5, 6, 7, 10, 1, 7, 7, 12, 9, 2, 1, 2, 3, 4, 5, 6, 7, 5, 8, 1, 7, 10, 6, 1, 2, 3, 4, 5, 6, 7, 8, 9, 11, 4, 13, 3, 11, 7, 10, 15, 4, 5, 1, 2, 3, 5, 8, 1, 2, 3, 4, 5, 7, 8, 1, 8, 8, 10, 15, 5, 3, 15, 3, 4, 5, 6, 1, 2, 3, 4, 5, 6, 7, 8, 9, 11, 1, 2, 3, 4, 5, 6, 7, 8, 11, 1, 2, 14, 7, 8, 15, 2, 14, 15, 1, 2, 3, 4, 5, 6, 2, 3, 5, 6, 7, 1, 2, 3, 6, 7, 11, 1, 2, 3, 5, 6, 7, 15, 1, 2, 3, 4, 5, 6, 1, 5, 6, 10, 1, 3, 6, 10, 11, 12, 1, 4, 13, 1, 2, 3, 4, 5, 6, 7, 13, 8, 1, 2, 3, 4, 5, 6, 7, 11, 1, 2, 3, 4, 5, 6, 7, 8, 9, 6, 2, 6, 11, 4, 1, 7, 10, 8, 4, 13, 1, 2, 3, 4, 5, 6, 1, 2, 3, 5, 7, 7, 10, 1, 2, 1, 2, 3, 4, 6, 8, 9, 8, 14, 3, 1, 2, 3, 4, 5, 12, 14, 1, 1, 8], \"Freq\": [0.9648932729676891, 0.9885664792507223, 0.9143663209595769, 0.8892365530280327, 0.03153321110028485, 0.06937306442062667, 0.9176540037689633, 0.05397964728052725, 0.008692889376333966, 0.19124356627934727, 0.7910529332463909, 0.9416076221365143, 0.04721001305024573, 0.8930560802004818, 0.05114418080443287, 0.003934167754187144, 0.0736890044648325, 0.792479995384953, 0.03749089700842355, 0.018099053728204473, 0.04395484476849657, 0.03361252835237973, 0.966015723839228, 0.9513200465253491, 0.9761376691870791, 0.9395624566888755, 0.9857516418471659, 0.1429612299643631, 0.44405834558763063, 0.29470778690977645, 0.07347728020514752, 0.015174655694541335, 0.016771987872914108, 0.012778657426982178, 0.06019792850245852, 0.8661813045631531, 0.03678762297372465, 0.03678762297372465, 0.6097793258966876, 0.38111207868542973, 0.045082706252044635, 0.11994481479901783, 0.03391543039144642, 0.038465061297616066, 0.0037224252868660705, 0.7353857955608748, 0.022334551721196423, 0.0004136028096517856, 0.963263790595334, 0.04029579081609058, 0.046052332361246374, 0.046052332361246374, 0.6869472910552584, 0.08059158163218116, 0.08251042881389976, 0.013431930272030193, 0.0019188471817185992, 0.0019188471817185992, 0.9633140757876781, 0.957644970133391, 0.925567071135549, 0.13704695987889065, 0.0946613021843884, 0.7064276282417044, 0.0014128552564834087, 0.053688499746369536, 0.0014128552564834087, 0.005651421025933635, 0.9951663148820119, 0.9897779997680117, 0.13648963764984576, 0.7986095819937784, 0.043560522654206096, 0.020328243905296178, 0.17237799779993562, 0.1400571232124477, 0.35014280803111925, 0.015621756050619166, 0.0948078987899646, 0.17183931655681084, 0.052790761826230284, 0.0021547249724991955, 0.25143523354002206, 0.7040186539120619, 0.027733393417253043, 0.9429353761866034, 0.9444644643978983, 0.9315428250346807, 0.41473347625374474, 0.5924763946482068, 0.15513159412956368, 0.06787007243168411, 0.024239311582744325, 0.033935036215842054, 0.4047965034318302, 0.20361021729505233, 0.10907690212234945, 0.9733556430716089, 0.014224486287781448, 0.2797482303263685, 0.004741495429260482, 0.128020376590033, 0.5689794515112578, 0.8037641418513463, 0.9369901931817265, 0.1408735152206957, 0.4610970123743475, 0.008067646246119135, 0.16755880665016668, 0.22154997768188703, 0.9098689052054081, 0.9275083122646355, 0.05455931248615503, 0.9917403698525533, 0.974212881761475, 0.17462512139346834, 0.051740776709175804, 0.10132568772213596, 0.1142608818994299, 0.5475898868387773, 0.0064675970886469755, 0.18575037381690712, 0.7894390887218552, 0.2027639439427198, 0.09279027943141414, 0.006873354031956603, 0.6907720802116386, 0.006873354031956603, 0.9524983524568434, 0.6595121857972457, 0.2967804836087606, 0.01001634693964012, 0.051512641403863475, 0.2947667813665521, 0.0014309067056628743, 0.19317240526448803, 0.03291085423024611, 0.21320509914376828, 0.20318875220412816, 0.8720942896415367, 0.11969921622530895, 0.9817722915785573, 0.9321235130126657, 0.3873289242867153, 0.5533270346953075, 0.052157881176821824, 0.9171094106924504, 0.021732450490342427, 0.00869298019613697, 0.28316737825274596, 0.24503593972924975, 0.05437874711176855, 0.041778793512700224, 0.06830501161600196, 0.08853125291976953, 0.21817814389965673, 0.0009947331788738149, 0.3402114030782924, 0.0504016893449322, 0.14635875175163005, 0.11921938056589733, 0.29853308304306, 0.026170107929099413, 0.010661895822966427, 0.006784842796433181, 0.3497435959875064, 0.6422564217225117, 0.9523052865084096, 0.04251362886198257, 0.8638957344926242, 0.9534850494583342, 0.9722410387760535, 0.9857600642867312, 0.8881607363993581, 0.5357280318411862, 0.4533083346348499, 0.29273587694128184, 0.002787960732774113, 0.6635346544002388, 0.025091646594967015, 0.013939803663870565, 0.9043805883527196, 0.1481735903927361, 0.7563027009629237, 0.04321729719788136, 0.007717374499621671, 0.03241297289841102, 0.01080432429947034, 0.9253569490885623, 0.7317665812736102, 0.020326849479822506, 0.24392219375787008, 0.02800593854862297, 0.8933894397010728, 0.025205344693760675, 0.053211283242383646, 0.9752569446897343, 0.9913614281569918, 0.9434510171485894, 0.10505128688840781, 0.8704249485039505, 0.9115887650931638, 0.8950786183248723, 0.7715442615819845, 0.9579300258409377, 0.9521373585026635, 0.9543478618568885, 0.9739238144189409, 0.8716750320471792, 0.02235064184736357, 0.08940256738945428, 0.9440804437559713, 0.9884168146541766, 0.02692571777587541, 0.19521145387509672, 0.0592365791069259, 0.06731429443968852, 0.4496594868571193, 0.04308114844140065, 0.15751544898887115, 0.9597222121389141, 0.8814845122897449, 0.2216181723928037, 0.7618124676002628, 0.0973986323701521, 0.3617663488034221, 0.52873543286654, 0.8381476619569372, 0.15487511144856447, 0.03981424224818148, 0.1791640901168167, 0.776377723839539, 0.8682985770116582, 0.12269436414295172, 0.7830479215807936, 0.2328099287398342, 0.3066905703325491, 0.33589919607850616, 0.0944984950604493, 0.013745235645156261, 0.008590772278222664, 0.0017181544556445327, 0.0008590772278222663, 0.005154463366933598, 0.2069837617709608, 0.7865382947296511, 0.9606562190208693, 0.9984188031324267, 0.9735263586396982, 0.9798130721195066, 0.007926392098181202, 0.16645423406180523, 0.06341113678544961, 0.7530072493272142, 0.07358001519700219, 0.7668278692217698, 0.00709204965754238, 0.13031641245734124, 0.022162655179819937, 0.08242711105962637, 0.678187418718312, 0.0024483300314740507, 0.15016424193040845, 0.08650766111208312, 0.9369386113458862, 0.6252727779981775, 0.10942273614968107, 0.26574093064922544, 0.0335832951222281, 0.03838090871111783, 0.9259394226557176, 0.9510865322135869, 0.9704219616497726, 0.15865918963856654, 0.15865918963856654, 0.6698943562517253, 0.008814399424364808, 0.9615523200089783, 0.02870305432862622, 0.9287176124364885, 0.07939044092010826, 0.9129900705812449, 0.966894761097684, 0.8872250070549949, 0.05069413473594839, 0.03585682700835374, 0.0098915384850631, 0.8222341365708702, 0.08036875019113769, 0.9680335285979403, 0.39142496033901925, 0.5871374405085289, 0.9734539828240786, 0.9398270137437581, 0.04129023797559938, 0.8625631421000212, 0.003021236925043857, 0.001007078975014619, 0.08409109441372069, 0.007553092312609642, 0.015057864197968843, 0.9126738799991115, 0.07110658093485288, 0.3140390251466977, 0.15217092904970625, 0.0708639130378534, 0.19245146909227556, 0.18722991760527583, 0.0820529519385671, 0.10378664531454213, 0.22294908993494233, 0.05381529757050332, 0.07303504670282594, 0.0019219749132322614, 0.0845668961822195, 0.4593520042625105, 0.01905706400051102, 0.9719102640260621, 0.9311805258516345, 0.36171665439088707, 0.017390223768792647, 0.010434134261275589, 0.2330289985018215, 0.059126760813895, 0.07303893982892912, 0.027824358030068237, 0.2121607299792703, 0.9490034948802837, 0.03825205388239901, 0.1338821885883965, 0.8224191584715786, 0.01799304522164842, 0.9356383515257178, 0.01799304522164842, 0.10242257981495066, 0.887662358396239, 0.9169494078368342, 0.12394795665427515, 0.5858016522827052, 0.17264179676845468, 0.0531205528518322, 0.06197397832713757, 0.9520126087592672, 0.9470229926790512, 0.027057799790830037, 0.013528899895415019, 0.9763443523002778, 0.9417185193808353, 0.9768635707491066, 0.046998692732831686, 0.002611038485157316, 0.013055192425786578, 0.10183050092113531, 0.835532315250341, 0.10032554377911981, 0.3892286139740064, 0.15436910317876026, 0.11441136511200482, 0.15896855504255947, 0.0822152020654105, 0.9468461542841079, 0.9725252835375275, 0.9745688911777696, 0.9505898449933348, 0.9181879343947892, 0.9722593024191993, 0.9875871705620825, 0.08269811138839682, 0.9151924326982581, 0.08459655325118526, 0.8530152452827846, 0.01550936809605063, 0.01973919575860989, 0.026788908529541997, 0.8667871692557707, 0.03461233117762091, 0.9518391073845749, 0.983399481389296, 0.11740757684215655, 0.5941968827987192, 0.13888457260596568, 0.052976589550729175, 0.08877158249041105, 0.0057271988703491, 0.2294062538573592, 0.2550143938228318, 0.13177522023899468, 0.03201017495684082, 0.22780574510951715, 0.0032010174956840815, 0.11950465317220571, 0.0016005087478420407, 0.976039942512019, 0.11442064909882264, 0.22193660385547495, 0.41921358506034156, 0.051292015113265324, 0.046853283036155824, 0.04636009058314366, 0.09567933588436031, 0.0004931924530121666, 0.0039455396240973325, 0.9693149866295606, 0.8390233872554189, 0.15682680135615307, 0.2972465649384492, 0.7010532191944557, 0.0014021064383889113, 0.9149649771572574, 0.10231824469793135, 0.882494860519658, 0.9074966969790521, 0.07643678951253854, 0.3936494659895735, 0.523592008160889, 0.08531540778545531, 0.7923545918465275, 0.12061833514495406, 0.9880083233170506, 0.28305047830738883, 0.6919011691958393, 0.9608137754623443, 0.9651982058192627, 0.7990464435186927, 0.9299375328850759, 0.9148866701022903, 0.10037666000151653, 0.2607640309422775, 0.29816981040664964, 0.1568889886886974, 0.17088251769695173, 0.012647997372845245, 0.00026910632708181375, 0.9563786394726719, 0.9678193532530316, 0.8935709321171447, 0.6074519650034358, 0.14371891916485074, 0.24719654096354327, 0.9236129293341401, 0.062406279009063516, 0.1877459735811812, 0.5339564386253777, 0.04679295671824547, 0.07119419181671703, 0.09128932660369361, 0.01636318118368093, 0.050237836967441454, 0.002009513478697658, 0.9005657204899783, 0.9644821338563481, 0.9383664087950572, 0.897629212324052, 0.24030070159201497, 0.7585963324767531, 0.9807234931125571, 0.0761324398693337, 0.8892268976738176, 0.018271785568640085, 0.01522648797386674, 0.162824100397816, 0.025375184477581716, 0.7147343627852183, 0.02326058577111657, 0.06978175731334972, 0.9675989100390789, 0.9523540667202466, 0.28370201763000846, 0.12158657898428935, 0.5674040352600169, 0.9734713066372253, 0.016224521777287088, 0.9604475600363218, 0.4712488223372206, 0.010771401653422184, 0.5170272793642648, 0.9715246304308937, 0.3914353094289917, 0.16313400988330637, 0.05653586056802416, 0.01294714364153225, 0.20111229789846763, 0.011652429277379025, 0.16313400988330637, 0.9567550183318865, 0.595938784736436, 0.09663872184915179, 0.09663872184915179, 0.20938389733982887, 0.9965485825579772, 0.24141252512262784, 0.4828250502452557, 0.263359118315594, 0.38764259276037577, 0.09691064819009394, 0.023689269557578517, 0.03230354939669798, 0.09475707823031407, 0.3617997532430174, 0.002153569959779865, 0.055767522887164425, 0.920164127638213, 0.9399381244617706, 0.052662196957999216, 0.010532439391599844, 0.003510813130533281, 0.11234602017706499, 0.34405968679226157, 0.007021626261066562, 0.36512456557546125, 0.10532439391599843, 0.9660200898420774, 0.9895411866832632, 0.9390493645014243, 0.9871946076127468, 0.9775828668904589, 0.021972852121826945, 0.08075023154771402, 0.19336109867207713, 0.003295927818274042, 0.6998353400801882, 0.3785523497468773, 0.10853336217941224, 0.11041110200950588, 0.0033799316941685474, 0.34663077263528547, 0.05182561931058439, 0.96420457919458, 0.17116815633181476, 0.28174581484705796, 0.02575096157204293, 0.0742233598253002, 0.4165596724889298, 0.0302952489082858, 0.6974215881382607, 0.04664284506657158, 0.10217004157439488, 0.03553740576500691, 0.11327548087595954, 0.002221087860312932, 0.002221087860312932, 0.016834098701036974, 0.2140335406274701, 0.03847793988808451, 0.187579956954412, 0.5410960296761885, 0.17259126969834396, 0.020173005549157085, 0.0582775715864538, 0.13000381353901233, 0.6163973917797998, 0.09865284685280098, 0.3976008676188646, 0.07772648539917654, 0.20328465412092325, 0.04484220311490954, 0.008968440622981909, 0.008968440622981909, 0.1165897280987648, 0.017936881245963817, 0.026905321868945724, 0.978532422437368, 0.9737776422946595, 0.6838079859335487, 0.3142168522933821, 0.7683084996348686, 0.22731020699256468, 0.9447041351395631, 0.8646954564523901, 0.004659897968612343, 0.9226597977852439, 0.06290862257626663, 0.009319795937224686, 0.9809778915239751, 0.969196982872198, 0.9370624991295776, 0.3033363905612539, 0.14773443805432826, 0.32868727046406765, 0.07780097625346281, 0.0909135003411251, 0.016609197177705544, 0.03321839435541109, 0.0008741682725108182, 0.0008741682725108182, 0.9647245665409777, 0.94835747093422, 0.7608722598500925, 0.9686346583194848, 0.18090732908569307, 0.07635698954915617, 0.02231973540667642, 0.5650417226637556, 0.08927894162670567, 0.008223060412986049, 0.05168780831019802, 0.005873614580704321, 0.8921940374991928, 0.9391527923061849, 0.9737023416403237, 0.0596045688536055, 0.5761774989181865, 0.33775922350376447, 0.9826147709229012, 0.22145337837933332, 0.25989104563255094, 0.14676200223955818, 0.0829904179330835, 0.22057979503266928, 0.03188579215323734, 0.036690500559889545, 0.04740546622256805, 0.14421944653626337, 0.42865224387167167, 0.06142680130248254, 0.31714924585520876, 0.000667682622853071, 0.000667682622853071, 0.971267625489926, 0.9939649186499162, 0.958253805940335, 0.909176124373224, 0.9822588509851102, 0.8991604868755044, 0.13567540260456315, 0.10702839677603368, 0.1858076628044897, 0.44999671655648366, 0.05053013528087836, 0.036206632366613624, 0.02705550550472227, 0.006366001295228769, 0.0007957501619035961, 0.9962725368459211, 0.9869774808649554, 0.9858923448253326, 0.24762895105520175, 0.697863407519205, 0.02251172282320016, 0.1898884826609977, 0.5454639747026698, 0.11852516401389072, 0.019237068504872317, 0.09556479192743021, 0.030406979249636888, 0.5699735686637721, 0.3989814980646405, 0.06314251154360909, 0.1061942239597062, 0.06888273986575537, 0.7232687685904313, 0.037311484093950825, 0.5815177868399722, 0.06286678776648348, 0.3457673327156592, 0.6516981204611858, 0.3258490602305929, 0.9867868471415372, 0.9438471696339253, 0.11587477901916945, 0.816512977739729, 0.061979532963741805, 0.005389524605542766, 0.4814779194843713, 0.17883465580848076, 0.330156287646426, 0.9603528093882341, 0.021920926731410967, 0.8715760468409001, 0.012275718969590142, 0.0929447293411825, 0.0008768370692564387, 0.5360582945876473, 0.438593150117166, 0.9167239137659897, 0.05555902507672665, 0.013889756269181663, 0.17667302907385246, 0.8171127594665676, 0.26864059726456424, 0.6268280602839832, 0.08954686575485474, 0.16012616030042776, 0.8362143926800116, 0.1713364290474185, 0.1602106869014822, 0.49175780285038295, 0.06230415601724309, 0.0166886132189044, 0.0967939566696455, 0.940211318905542, 0.4358366180986584, 0.5603613661268465, 0.9659991694727481, 0.3545946262985149, 0.13030284460367114, 0.12389450798381846, 0.11036579734190724, 0.0897167126779375, 0.10609357292867212, 0.08473245086249653, 0.13649467836544701, 0.016058197454758474, 0.8189680701926821, 0.016058197454758474, 0.9512895680501403, 0.39629431550531713, 0.5944414732579757, 0.9679709897902457, 0.9780441611544477, 0.9063511901229502, 0.9479735436686815, 0.9914052589050149, 0.9485542570876951, 0.9880328272810803, 0.263679173795192, 0.27840985389548206, 0.016203748110319063, 0.08249180856162432, 0.03240749622063813, 0.06039578841118923, 0.26662530981525, 0.9996001892920059, 0.909256382183849, 0.9906585129324218, 0.05194309758933574, 0.015582929276800724, 0.35840737336641665, 0.04674878783040217, 0.1818008415626751, 0.33763013433068234, 0.006925746345244766, 0.010529612172487783, 0.9094952513986322, 0.048699456297755996, 0.028956433474341403, 0.3504554821642189, 0.0026549657739713553, 0.403554797643646, 0.07433904167119795, 0.04911686681847007, 0.11814597694172531, 0.9581246677822243, 0.9454566740533967, 0.0400133189077955, 0.5980369015138084, 0.0010814410515620405, 0.007570087360934283, 0.002162882103124081, 0.3503869007061011, 0.028801005452585373, 0.057602010905170746, 0.9092888864316239, 0.004114429350369339, 0.9466161287699799, 0.9756374071922375, 0.9909262363219469, 0.2890479909958345, 0.6503579797406277, 0.03613099887447931, 0.12266608819743416, 0.004717926469132083, 0.011794816172830208, 0.0401023749876227, 0.18399913229615122, 0.5543563601230197, 0.0802047499752454, 0.9659974858290088, 0.07058819888428038, 0.5266355512265413, 0.0007931258301604537, 0.007138132471444083, 0.0007931258301604537, 0.3941835375897455, 0.9707207670934677, 0.22774019347165472, 0.14640441008892088, 0.04981816732192447, 0.10980330756669067, 0.19317248553399285, 0.27247487433215833, 0.9628353766323382, 0.27907463107176234, 0.10600644622062562, 0.23209648604153452, 0.02532279193079195, 0.1278364392644118, 0.1996134563923807, 0.029514150595198897, 0.00034927988870057865, 0.9632266696039643, 0.9566353479368279, 0.9754883976955476, 0.21570048593564795, 0.09092605099441159, 0.10220884564335318, 0.0358394653554615, 0.4831690884958514, 0.0013273876057578334, 0.06968784930228626, 0.31318071760276917, 0.4105206703711974, 0.0634825778924532, 0.04020563266522036, 0.01904477336773596, 0.0063482577892453205, 0.13754558543364862, 0.0063482577892453205, 0.9673817936773157, 0.9784085283693938, 0.28678093080570904, 0.0824407098384962, 0.16981376983826996, 0.07786067040302419, 0.19306627774143556, 0.14832281556413207, 0.03241258677410962, 0.008807768145138483, 0.5243675620774929, 0.11940216779790046, 0.11606224702033681, 0.027554346414900104, 0.14528655382401873, 0.01753458408220916, 0.049263831469063823, 0.0008349801943909123, 0.9917956343821026, 0.9824288794434601, 0.34819179078769247, 0.04964711845832117, 0.03243611739276983, 0.40181067872267934, 0.028464347916104138, 0.09201265954275524, 0.04699927214054404, 0.19494971792439844, 0.14462990436923717, 0.16520089733203894, 0.11488108377687765, 0.09241122992520187, 0.029748820592359504, 0.25792860407205315, 0.9747347140473348, 0.25558410540734433, 0.7028562898701969, 0.9505812877359222, 0.030322703322781516, 0.004516147303392992, 0.8922616743703582, 0.007096802905331844, 0.03354852282520508, 0.03225819502423566, 0.8969067477203657, 0.4487169066522383, 0.005217638449444632, 0.06932005368547868, 0.10062588438214647, 0.2005063918429437, 0.005963015370793865, 0.1692005611462759, 0.09638691422731704, 0.17932449158570613, 0.5962539345224729, 0.031381786027498575, 0.09638691422731704, 0.9808097161462261, 0.9768175071174772, 0.010503414055026637, 0.8216652046958588, 0.044305476723796304, 0.02013885305627105, 0.060416559168813146, 0.05638878855755894, 0.024176752071520605, 0.8666435742560463, 0.005579250478043216, 0.04463400382434573, 0.05951200509912764, 0.9352780606511635, 0.019025383585190004, 0.03805076717038001, 0.009512691792595002, 0.010871647762965717, 0.027179119407414288, 0.002717911940741429, 0.005435823881482858, 0.7868355068446437, 0.10056274180743287, 0.9739166324179791, 0.8852282047036232, 0.9894107726442194, 0.9467069359052284, 0.9862355446307934, 0.9546326279040128, 0.9506835021353441, 0.9327467905787634, 0.8991718129142956, 0.9214413732649783, 0.9811427426641114, 0.9849115083958837, 0.15933532658403088, 0.5975074746901159, 0.2290445319645444, 0.9620619732838657, 0.9576645050827153, 0.9740842449784656, 0.43861019294036707, 0.5325980914275886, 0.015134016676736514, 0.1458368879758246, 0.3384516456797439, 0.499422550332305, 0.941594015446802, 0.9462694978720794, 0.7459681094638614, 0.16672622751091923, 0.07780557283842898, 0.40014294602620615, 0.16672622751091923, 0.17784130934498052, 0.8219487946996737, 0.04016368375803484, 0.15896363255811685, 0.7597277864546169, 0.024520985873326535, 0.012683268555168896, 0.003804980566550669, 0.9733114231916882, 0.36421321994164324, 0.5827411519066291, 0.9884990904791472, 0.9718417148610852, 0.02626599229354284, 0.710756642308363, 0.2707644351650907, 0.6322549298486825, 0.03779356990378177, 0.09369655871979231, 0.11967963802864227, 0.07243767564891505, 0.011810490594931803, 0.009448392475945443, 0.017322052872566645, 0.0055115622776348416, 0.9746951014936387, 0.9159364368160641, 0.8922421185516872, 0.9694578506773436, 0.9581117705078517, 0.9974305207307197, 0.9612639566030445, 0.9078722679303303, 0.9672139512718081, 0.34837452059965934, 0.028400096788015708, 0.1495738430835494, 0.2612808904497445, 0.21205405601718394, 0.296648392358732, 0.6819503272614529, 0.018412658836059227, 0.00034097516363072646, 0.0027278013090458117, 0.8905544638082815, 0.33426731089275735, 0.19847121584257468, 0.4596175524775413, 0.15273597593075056, 0.013885088720977323, 0.8053351458166847, 0.027770177441954647, 0.9429975239994504, 0.9855525024873226, 0.9191684534261143, 0.9831463497472578, 0.2885956982609221, 0.12505813591306622, 0.21270571834786478, 0.3238685058261459, 0.03527280756522381, 0.013895348434785137, 0.9386263455876245, 0.9225425477226488, 0.2690248114178281, 0.7061901299717988, 0.9355678161273668, 0.8584530857585313, 0.050978989127176605, 0.9176218042891789, 0.9449824824138292, 0.92878770694303, 0.8749167251541333, 0.9799521151746341, 0.9526817424446941, 0.9407691192335771, 0.8813409425291877, 0.9154997584881621, 0.30684862504194593, 0.018168668588009956, 0.01211244572533997, 0.14333060774985631, 0.5147789433269487, 0.0020187409542233286, 0.8777672944266052, 0.9621960517719158, 0.9477356662944081, 0.9545159625062494, 0.9211822699812164, 0.4123046252413857, 0.5622335798746169, 0.06473746176890814, 0.20859848792203733, 0.15105407746078567, 0.09710619265336222, 0.26614289838328903, 0.21219501357586557, 0.5850293626241873, 0.11375570939914752, 0.06422941415053908, 0.01006002872237359, 0.21512984498614293, 0.009286180359114084, 0.002321545089778521, 0.9662077330197079, 0.07481511378084503, 0.24113962292999636, 0.022259042116615047, 0.3759304890806097, 0.030915336273076455, 0.21146090010784296, 0.019167508489307403, 0.011129521058307524, 0.004946453803692233, 0.008037987430999878, 0.9860400856193717, 0.9900453160452718, 0.3211220122279964, 0.10519514193675744, 0.47060984550654644, 0.020300816864988278, 0.07751220984813706, 0.0018455288059080251, 0.0018455288059080251, 0.0018455288059080251, 0.9610690673654239, 0.30173121833662514, 0.16762845463145842, 0.5028853638943753, 0.6213037166589006, 0.09677191072113801, 0.023842354815352844, 0.015427406056993017, 0.20476375312008915, 0.02804982919453276, 0.00701245729863319, 0.988233108579338, 0.985618490376146, 0.55322733900238, 0.04522179165260096, 0.0769193091661063, 0.09297938470628235, 0.14454067986158436, 0.06888927139601829, 0.008875304903781496, 0.009297938470628235, 0.011271234043306693, 0.005123288201503042, 0.8863288588600263, 0.002305479690676369, 0.09478083172780628, 0.934217895133538, 0.844791937377976, 0.986874879229006, 0.07688713053231355, 0.058434219204558296, 0.12301940885170168, 0.7381164531102101, 0.023150731305609882, 0.004630146261121976, 0.967700568574493, 0.05421168479798908, 0.21402321394206106, 0.09317633324654373, 0.19369383214281513, 0.031623482798826964, 0.3179289431382068, 0.005647050499790529, 0.08922339789669036, 0.09666202468934917, 0.04622966398186265, 0.7298683313500134, 0.02381528144520197, 0.0014008989085412924, 0.10226562032351434, 0.7023717144948365, 0.08700550517390992, 0.04587563000078887, 0.0221468558624498, 0.10282468793280264, 0.03638412034545324, 0.0015819182758892714, 0.16497394049189518, 0.7918749143610968, 0.3498593515905636, 0.02418382614681315, 0.06932696828753103, 0.0967353045872526, 0.0314389739908571, 0.26521596007671755, 0.16283776272187522, 0.000806127538227105, 0.6398545601847841, 0.08675994036403853, 0.27112481363762037, 0.9866036041318978, 0.10681425589374384, 0.3404704406613085, 0.5474230614554372, 0.003337945496679495, 0.2595645424238963, 0.7363157427943182, 0.2691881841870756, 0.026918818418707555, 0.22432348682256298, 0.1525399710393428, 0.31405288155158817, 0.03315451676575928, 0.1657725838287964, 0.7957084023782226, 0.0902236105687923, 0.04511180528439615, 0.8612253736111992, 0.9418322543671899, 0.3992397138429326, 0.18265397396430733, 0.08591234348518803, 0.1292294914609131, 0.12056606186576807, 0.08013672375509136, 0.0007219524662620843, 0.002165857398786253, 0.36744526566593233, 0.2062850614264883, 0.2514099186135326, 0.161160204239444, 0.00644640816957776, 0.15353767063361232, 0.4306928504440305, 0.002362118009747882, 0.029132788786890546, 0.3338460120443673, 0.035431770146218226, 0.013385335388571331, 0.980673788178628, 0.0806503317122918, 0.8871536488352098, 0.9821159415409296, 0.9664035776854568, 0.7600566017751621, 0.0054680331062961305, 0.22965739046443748, 0.46308705685649654, 0.46308705685649654, 0.9226092632396374, 0.7368830870937462, 0.05184102120257511, 0.10738497249104845, 0.025920510601287555, 0.07405860171796444, 0.0037029300858982222, 0.14793726254166809, 0.07869003326684472, 0.12905165455762535, 0.6452582727881268, 0.9873049195918748, 0.1379342014653102, 0.06130408954013788, 0.781627141636758, 0.9701985250969347, 0.0880802009487601, 0.0035232080379504036, 0.898418049677353, 0.010569624113851211, 0.9482303902525782, 0.9904776923800234, 0.1804249681926307, 0.8037112219489914, 0.1503607134472987, 0.7844906788554715, 0.05883680091416037, 0.9905713072596968, 0.1927168026942075, 0.08809910980306628, 0.011012388725383284, 0.0908522069844121, 0.06745088094297262, 0.1679389280620951, 0.38130395961639624, 0.02424356962721114, 0.004848713925442228, 0.5398234836992347, 0.009697427850884456, 0.0678819949561912, 0.3491074026318404, 0.003232475950294819, 0.05029116600140957, 0.5733192924160692, 0.37215462841043084, 0.5925518262379832, 0.3792331687923093, 0.04703287795525918, 0.04361230501305851, 0.5293336628055533, 0.050453450897459846, 0.0017102864711003338, 0.2608186868428009, 0.0671287439906881, 0.888167526939627, 0.9279314067600847, 0.054584200397652036, 0.9487145715432201, 0.21833149006497116, 0.6913830518724087, 0.007277716335499038, 0.08005487969048942, 0.9774536674547348, 0.7948889063823292, 0.9681613963475192, 0.3589939614381323, 0.12968063805254118, 0.01107029837033888, 0.08381797337542295, 0.26094274730084505, 0.05060707826440631, 0.007907355978813486, 0.05218854946016901, 0.04269972228559282, 0.9772267802028507, 0.0027844029047911847, 0.011137611619164739, 0.9856786282960793, 0.37409908737502673, 0.17688789845700462, 0.05645358461393764, 0.10839088245876027, 0.17839332738004293, 0.10086373784356858, 0.004516286769115011, 0.9367635076416626, 0.9376331450834506, 0.11529903421146596, 0.34668412675870824, 0.25145420771715615, 0.03108745291025874, 0.2219408030555181, 0.016527506610517304, 0.013772922175431088, 0.0023610723729310438, 0.21674562906098713, 0.011630253266687115, 0.02431780228489124, 0.4165745260977021, 0.05180749182433351, 0.16705272873968766, 0.1110160539092861, 0.9795976406765922, 0.9567810619257279, 0.9697752128038069, 0.05653924227678633, 0.7547988843950976, 0.031096583252232485, 0.059366204390625656, 0.04805835593526839, 0.0042404431707589755, 0.016961772683035902, 0.028269621138393167, 0.9565974464926452, 0.5337499811697719, 0.41513887424315593, 0.9954804691301917, 0.96753650797709, 0.9469534791175573, 0.6870810240249839, 0.03370586155594261, 0.08037551601801698, 0.08296827459924334, 0.044076895880848024, 0.07000448169311158, 0.29257956843811317, 0.12508836621629477, 0.2329127206303406, 0.04058557160528692, 0.07723373701006093, 0.1369005848178335, 0.09268048441207312, 0.0021201418002761824, 0.9715448139331663, 0.9059781958905837, 0.9878950345407396, 0.9657338205202305, 0.9760245417571379, 0.9082492336825013, 0.9792533794066283, 0.9912409741915666, 0.46937476025059394, 0.5163122362756534, 0.8389835319065739, 0.9603704815530228, 0.8878038606901674, 0.979507871629958, 0.9648417475645287, 0.2247847548295883, 0.3466796947663329, 0.17825496592900295, 0.0026213965577794552, 0.23068289708459205, 0.01572837934667673, 0.0036524659638200144, 0.8035425120404032, 0.10957397891460043, 0.06391815436685025, 0.016436096837190065, 0.8340560960219265, 0.9634410575682882, 0.20590797829353172, 0.04305736192059359, 0.5964084091773311, 0.056272987856617364, 0.07375171893329398, 0.02216814673139472, 0.0025578630843916986, 0.9460731406588092, 0.9623292139806031, 0.08081783179344855, 0.7200134105234507, 0.026939277264482846, 0.159186638381035, 0.011020613426379347, 0.0012245126029310385, 0.06264336434726116, 0.09048485961271056, 0.12760685329997642, 0.09435173395513409, 0.2219585872551105, 0.26681432962722346, 0.12296660408906819, 0.011600623027270584, 0.0007733748684847057, 0.08168718998972203, 0.22960723672786734, 0.13467347538846067, 0.12363466593039012, 0.4305135688647513, 0.974652308831598, 0.9495178682221223, 0.1450187079928814, 0.03685558324680964, 0.20510933285181016, 0.05969002069320257, 0.38938724908585837, 0.16384710378201242, 0.9709501532811812, 0.9311453209992943, 0.03724581283997177, 0.9392839123798763, 0.9660800510354541, 0.3815742439533508, 0.2543828293022339, 0.3452338397673174, 0.1684925015065087, 0.21465483068637412, 0.5031693880605328, 0.03231363042590578, 0.08078407606476445, 0.9743020520214069, 0.9846773400007935, 0.8776761802182412, 0.9254933708929345, 0.8007323899037428, 0.9751427998065003, 0.9747704649095442, 0.9552426546707707, 0.8948791252294881, 0.18443799707349803, 0.7746395877086918, 0.11012387799863184, 0.8809910239890547, 0.9289362525856975, 0.9827798782710035, 0.031419629856350446, 0.2794693392485908, 0.07496613439409931, 0.36325501886552536, 0.18245434179740347, 0.05622460079557448, 0.012126874681398418, 0.9853861438761831, 0.0606623958196472, 0.930156735901257, 0.04521426693988914, 0.030586121753454418, 0.2792645899228447, 0.4614514890629862, 0.18218689914014155, 0.0013298313805849748, 0.10651716598097603, 0.8255080363525642, 0.022825106995923435, 0.0418460294925263, 0.9318067326634786, 0.961779768643508, 0.9809288888305646, 0.9761900729115178, 0.7600743715555901, 0.8622889731778796, 0.8480036016162293, 0.7488106369615644, 0.2083646989806092, 0.04123884667324557, 0.9691572046938448, 0.9615992589217015, 0.03434283067577505, 0.8876359971865605, 0.00450576648318051, 0.04956343131498561, 0.058574964281346634, 0.9636521433125956, 0.08247607491828003, 0.3997663866627221, 0.06501055317087956, 0.29594356294206364, 0.1203180387043144, 0.001940613527488942, 0.033960736731056484, 0.8664899143581458, 0.9330963560712867, 0.4600018407341817, 0.027265883485200062, 0.09587036451247764, 0.26650202245211674, 0.07915901656993567, 0.04837495457051624, 0.02286816034242586, 0.981967861193742, 0.1789993690552782, 0.8182828299669861, 0.11253764502943917, 0.8440323377207938, 0.6334042860897855, 0.05115379032554087, 0.3129408349327206, 0.9642797382307301, 0.9757017742211258, 0.15346219653700963, 0.3507707349417363, 0.08769268373543407, 0.3946170768094533, 0.7542305382901369, 0.243933296770416, 0.9181875363019991, 0.07062981048476916, 0.9361148209308905, 0.9887543626783095, 0.9879851700669222, 0.8605443459416223, 0.06296665945914309, 0.04197777297276206, 0.9545402451001004, 0.8802691265155318, 0.9299038303872462, 0.37693496148338995, 0.6072841046121282, 0.8138652398618479, 0.982633504484276, 0.07992981028124505, 0.18932279880484681, 0.16890277428044115, 0.20857596478500073, 0.2797543359843576, 0.05863464184865056, 0.006709436629447577, 0.0017502878163776286, 0.006417721993384638, 0.1804491368721279, 0.29948034462814, 0.07391892353798012, 0.3087202100703875, 0.03315481129277049, 0.011413951428658694, 0.0864199179598444, 0.005435214966027949, 0.00108704299320559, 0.000543521496602795, 0.9766931230891673, 0.21141537787166667, 0.14605023688719002, 0.09498372049306764, 0.37584956066074077, 0.08477041721424315, 0.06740780164024154, 0.0020426606557648955, 0.016341285246119164, 0.9391341074618758, 0.9874143195710473, 0.014483696275881221, 0.17380435531057464, 0.11586957020704977, 0.28967392551762444, 0.391059799448793, 0.988273216559646, 0.9901467255605231, 0.9697213302770926, 0.9685657691032485, 0.9867094108866862, 0.026512240623355172, 0.22704118788364158, 0.24005628782601593, 0.046275910906219936, 0.42998033883696024, 0.011568977726554984, 0.00626652960188395, 0.0009640814772129154, 0.011568977726554984, 0.16677445194234872, 0.33354890388469743, 0.1218736379578702, 0.012828803995565286, 0.19243205993347928, 0.16677445194234872, 0.03868483806707641, 0.11927825070681894, 0.208468294028134, 0.026864470879914174, 0.34708896376849113, 0.003223736505589701, 0.20631913635774085, 0.04728146874864895, 0.003223736505589701, 0.9573612460942886, 0.1686397775016524, 0.8094709320079315, 0.9810901067244308, 0.8678049384394237, 0.16267383768650778, 0.3496893810122375, 0.03027870701464196, 0.17870374140014175, 0.24935405776763966, 0.02909130673955796, 0.06628559569460124, 0.6690702315423812, 0.0020714248654562888, 0.032107085414572474, 0.01967853622183474, 0.20921391141108517, 0.4097829292748747, 0.1901277562892213, 0.101545506199925, 0.18940757539418634, 0.10082532530489008, 0.006481628055314362, 0.0007201808950349292, 0.0014403617900698583, 0.04800746976731981, 0.022960094236544257, 0.08766581435771444, 0.839087080280981, 0.988943428107663, 0.9462946587467588, 0.5506061717353945, 0.020267711843020658, 0.02702361579069421, 0.07656691140696692, 0.06530707149417767, 0.19366924649997516, 0.06418108750289875, 0.9273812525335813, 0.022804457029514294, 0.04560891405902859, 0.9527627362564977, 0.40432423782085536, 0.05054052972760692, 0.5306755621398727, 0.9552512999183085, 0.09270282528865012, 0.1117887010833722, 0.17449943583745905, 0.6189276864859876, 0.923414546919713, 0.9699870463713609, 0.017636128115842926, 0.2042747187244592, 0.37988508175693786, 0.01647376763906929, 0.22371376453856098, 0.17561036303247865, 0.9758024284289002, 0.9727297529056593, 0.31852729578710626, 0.118216315962225, 0.10836495629870624, 0.009851359663518749, 0.44331118485834375, 0.4783138991175812, 0.13828032154584102, 0.05062722154957021, 0.05591663275624172, 0.25540299826499596, 0.009067562068579739, 0.011334452585724674, 0.9817416737686917, 0.973190352799229, 0.7007127770132187, 0.40424922235270455, 0.01796663210456465, 0.3802937128799517, 0.19463851446611702, 0.8979790321372412, 0.9559313652597897, 0.2758258949357064, 0.2620346001889211, 0.4551127266439156, 0.5252389345672274, 0.1367918497580652, 0.055343267459369884, 0.05325484227222385, 0.10859810973159374, 0.028193740026471452, 0.09189070823442547, 0.40914487164241203, 0.5698803569305025, 0.7040788653393409, 0.2888528678315245, 0.9605144458646491, 0.9808159949649917, 0.030931695765058328, 0.23430150650382764, 0.21579120037670613, 0.3222254606076549, 0.18023192807986743, 0.005358246510482545, 0.00024355665956738841, 0.01071649302096509, 0.8745944338456241, 0.9698543106946904, 0.7559578684537256, 0.9775365111687344, 0.9419891886209523, 0.9616538781329826, 0.9994787558700482, 0.7630241679250702, 0.047035736378942684, 0.08361908689589811, 0.10452385861987264, 0.9724478133446377, 0.22427236229675368, 0.0862586008833668, 0.06900688070669345, 0.2760275228267738, 0.051755160530020085, 0.29327924300344715, 0.9765579530327245, 0.013095437065412458, 0.4321494231586111, 0.026190874130824916, 0.15714524478494948, 0.36667223783154884, 0.09098183105134196, 0.18510096662169573, 0.021961131633082543, 0.09098183105134196, 0.6086370766882876, 0.9984664171277552, 0.04421911291603082, 0.9507109276946627, 0.9702906588020775, 0.9910061756238315, 0.9451488502664976, 0.8998977328516615, 0.09757927223692715, 0.966114129034267, 0.9873702308651652, 0.15901570423576875, 0.6956937060314883, 0.1292002596915621, 0.012305892001425432, 0.006152946000712716, 0.9844713601140345, 0.01548074527146432, 0.9830273247379844, 0.9954648090750251, 0.9585350727467673, 0.7362181148101724, 0.2454060382700575, 0.8371716014117156, 0.13724124613306812, 0.027448249226613625, 0.9517287292187243, 0.9360716545949342, 0.9301051631775847, 0.6728810151679347, 0.05842944389413439, 0.041466056957127635, 0.17340351091162465, 0.050890160811020275, 0.9869838765147194, 0.8903693425225687, 0.8803941917614089, 0.8788058950554891, 0.0418478997645471, 0.07323382458795744, 0.9509020219602075, 0.030883774798479965, 0.017039324026747567, 0.29073346620638035, 0.6123507072112407, 0.001064957751671723, 0.03940343681185375, 0.0074547042617020606, 0.973462172540638, 0.9607461761846254, 0.9913932913326803, 0.020370705358478767, 0.9777938572069808, 0.18941625645154575, 0.21046250716838416, 0.5998181454298949, 0.06538076629857785, 0.09262275225631861, 0.675601251751971, 0.005448397191548154, 0.1525551213633483, 0.05594762291647891, 0.8443004912850454, 0.020344590151446875, 0.07629221306792579, 0.005086147537861719, 0.28777231023678507, 0.06934272535826147, 0.16642254085982752, 0.10921479243926181, 0.3016408553084374, 0.04160563521495688, 0.023403169808413244, 0.9890339268479645, 0.20018561318285255, 0.8007424527314102, 0.8983366295612171, 0.9351096452895796, 0.9578935791797288, 0.13537322142842695, 0.18049762857123594, 0.6543039035707303, 0.975296696900392, 0.9794675051035625, 0.11186100400532259, 0.8762445313750269, 0.13401037678081587, 0.009572169770058276, 0.15315471632093242, 0.693982308329225, 0.9628967826322948, 0.8281456113394825, 0.9395681857750233, 0.9212218168212412, 0.9797742740671773, 0.96524981414777, 0.06382056760429305, 0.12308252323685089, 0.6496022059722686, 0.1549928070389974, 0.006837917957602827, 0.9493801563303718, 0.9510157444598076, 0.18588914308766236, 0.09294457154383118, 0.13941685731574677, 0.5576674292629871, 0.5140141495143826, 0.16788365367203625, 0.022799014696202453, 0.16995629137169102, 0.025907971245684606, 0.09015973993498243, 0.008290550798619074, 0.03152669576643242, 0.027817672735087427, 0.1539244558008171, 0.6342429383599933, 0.1483609212537996, 0.0018545115156724952, 0.9047671810605183, 0.2541567159797508, 0.10104494437389398, 0.10854609744968524, 0.003088710090031694, 0.08339517243085574, 0.4452154972631399, 0.0044124429857595624, 0.9782688810843331, 0.6428873834800014, 0.35583069132148915, 0.11183179863563215, 0.8641548076389757, 0.020333054297387663, 0.07977040286814083, 0.2030519345734494, 0.7106817710070729, 0.41895821671412536, 0.5722356130729518, 0.5222678033148784, 0.15657932207699451, 0.04848908038513378, 0.2687103204676164, 0.004040756698761149, 0.9364380335377712, 0.9433244584029055, 0.9606095667804709, 0.9594948658992999, 0.996801222233606, 0.012633259340976623, 0.10864603033239896, 0.3688911727565174, 0.0025266518681953246, 0.49269711429808827, 0.012633259340976623, 0.9154902152155047, 0.975050879579414, 0.09187963769619116, 0.0028712386780059738, 0.7838481590956308, 0.09187963769619116, 0.03158362545806571, 0.5558756264748596, 0.4235242868379882, 0.22075592764802518, 0.03912130363382725, 0.6455015099581496, 0.0055887576619753215, 0.07544822843666683, 0.011177515323950643, 0.673183899876101, 0.07268309458816516, 0.013844398969174315, 0.17305498711467893, 0.05018594626325689, 0.013844398969174315, 0.6127156644646532, 0.06992950518346586, 0.04217970153923337, 0.08990936380731325, 0.08435940307846675, 0.07658945805808165, 0.023309835061155287, 0.0011099921457692994, 0.6393602409673435, 0.006677391550572778, 0.10016087325859166, 0.04340304507872306, 0.11351565635973722, 0.09515282959566208, 0.10488748188975829, 0.8915435960629455, 0.015151578187854576, 0.9747515300853111, 0.5507032076966767, 0.4405625661573413, 0.983758418734705, 0.24506067572030785, 0.16329501149733144, 0.28003558411626306, 0.16825766741837914, 0.04324600159770138, 0.0931088777567997, 0.007089508458639571, 0.8786426322730523, 0.9853625851106057, 0.03095505587355493, 0.9634761140643971, 0.1383661648496298, 0.4891394689599504, 0.030152433018079135, 0.19766594978518542, 0.14473167848677984, 0.9894866596116839, 0.13507684450033086, 0.10521060752538335, 0.32513471615908784, 0.05294469281922516, 0.0061090030176029035, 0.18530642486728807, 0.190057871658757, 0.9858004126002703, 0.08177949183128007, 0.7200150911232267, 0.11022453246824705, 0.04266756095545047, 0.023111595517535673, 0.023111595517535673, 0.9456653484690027, 0.036465011320803924, 0.948090294340902, 0.9732302842889778, 0.7786007891180928, 0.9854405084223548, 0.982411611145145, 0.28080150865710435, 0.05315584114496626, 0.005777808820105028, 0.4414245938560241, 0.13173404109839465, 0.02888904410052514, 0.05662252643702927, 0.17926929639757308, 0.8141813878056444, 0.1678386812759347, 0.8312010882236766, 0.9719139747491885, 0.9646462914055358, 0.17008919167939737, 0.1918954983049611, 0.40821406003055366, 0.03663459513094712, 0.03401783833587947, 0.14653838052378848, 0.009594774915248057, 0.0008722522650225506, 0.0008722522650225506, 0.0008722522650225506, 0.9847300400084467, 0.9782086329876916, 0.970300548505577, 0.01426912571331731, 0.9617004567851682, 0.9291333025071767, 0.9880374448404423, 0.09126347538333664, 0.9012268194104494, 0.03968138582496566, 0.21824762203731113, 0.13227128608321886, 0.6084479159828068, 0.9444456926467726, 0.1785699517029971, 0.03818476954655284, 0.040430932461055946, 0.12690820466942562, 0.10669273843889765, 0.5031404928486962, 0.004492325829006216, 0.46092747631158065, 0.5337054988870934, 0.9605207661458148, 0.9505426869282462, 0.951618082659657, 0.9816757430108254, 0.2766322518667837, 0.5532645037335674, 0.03448999800592086, 0.12071499302072301, 0.7139429587225619, 0.12933749252220322, 0.14877727271777264, 0.1459568504861561, 0.06627992244298875, 0.374058498468144, 0.051120152948049835, 0.1752187311391777, 0.02644145842140509, 0.0024678694526644746, 0.005993397242185153, 0.0035255277895206785, 0.21658218203949897, 0.18840040413556416, 0.0073063868639830975, 0.12003349847972232, 0.008350156415980683, 0.016178428055962573, 0.0568854405838684, 0.385150964687109, 0.0005218847759987927, 0.2749987638735958, 0.19642768848113987, 0.5107119900509637, 0.9282399895067789, 0.9465451430780929, 0.9743824786988999, 0.9803641281872182, 0.9383752675651311, 0.9634516005331846, 0.024588075077945123, 0.003741663598817736, 0.7632993741588181, 0.006414280455116119, 0.0021380934850387064, 0.19937721747985937, 0.010145518964209529, 0.9460696434125385, 0.0012681898705261911, 0.03804569611578573, 0.003804569611578573, 0.0199303392212323, 0.004332682439398326, 0.8093450796796073, 0.1369127650849871, 0.028595704100028953, 0.906032767768863, 0.2843633326100425, 0.0023118970130897765, 0.08554018948432172, 0.11328295364139904, 0.4485080205394166, 0.06704501337960352, 0.979350812446853, 0.5340879848780596, 0.13203841848374254, 0.10088328603252238, 0.056375953959350744, 0.16912786187805223, 0.005934310943089552, 0.6227073164938592, 0.02524489120921051, 0.05048978241842102, 0.2945237307741226, 0.18031354281493575, 0.437904318264844, 0.03863861631748623, 0.3348680080848807, 0.9239392283963705, 0.9603988709941761, 0.5436587504507524, 0.19934154183194253, 0.25370741687701776, 0.3766871605700163, 0.1467873454890277, 0.08177194588886474, 0.1447765599343835, 0.05764251923313417, 0.1374036795673547, 0.05429120997539381, 0.9872823608340955, 0.9491209011585859, 0.43978418556367077, 0.11964716813129278, 0.0501224623252713, 0.17300333770335577, 0.09620279059205299, 0.09943649783884467, 0.021827523915843954, 0.9760418334412335, 0.15123137378123128, 0.12602614481769273, 0.09641000078553492, 0.14745058943670047, 0.10712222309503881, 0.005671176516796173, 0.3459417675245665, 0.006301307240884636, 0.013232745205857736, 0.9757449318120269, 0.40751632013799366, 0.21448227375683876, 0.343171638010942, 0.9741539825721286, 0.6086440525785213, 0.16636270770479583, 0.21911185892826768, 0.8983752712314956, 0.9378535838436463, 0.05138923747088473, 0.22725671349507393, 0.00894711470453047, 0.6585076422534426, 0.04294615058174626, 0.0590509570499011, 0.003578845881812188, 0.007985611394442016, 0.14274280367565104, 0.4671582665748579, 0.38131294408460625, 0.9893199600263373, 0.9270536905538687, 0.9888086107421822, 0.9205327264090347, 0.07406585155015222, 0.24825644864418134, 0.09227230834562491, 0.03295439583772319, 0.4371949847804609, 0.015378718057604154, 0.07030271112047613, 0.10325710695819931, 0.9175763783019387, 0.05561068959405689, 0.9714554833182462, 0.5613948722821414, 0.11976423942019016, 0.05988211971009508, 0.033683692336928486, 0.18338899161216618, 0.04116895730069037, 0.9031194610729509, 0.9669628419402433, 0.9873572483953185, 0.9634795278228245], \"Term\": [\"ability\", \"absolute_worst\", \"abusive\", \"account\", \"account\", \"account\", \"accurate\", \"accurate\", \"across_street\", \"across_street\", \"across_street\", \"adamant\", \"added\", \"added\", \"added\", \"added\", \"additional\", \"additional\", \"additional\", \"additional\", \"additional\", \"additional\", \"adjusted\", \"adult\", \"advertised\", \"advertising\", \"advised\", \"agent\", \"agent\", \"agent\", \"agent\", \"agent\", \"agent\", \"agent\", \"agreement\", \"agreement\", \"agreement\", \"agreement\", \"air\", \"air\", \"airport\", \"airport\", \"airport\", \"airport\", \"airport\", \"airport\", \"airport\", \"airport\", \"aisle\", \"alamo\", \"alamo\", \"alamo\", \"alamo\", \"alamo\", \"alamo\", \"alamo\", \"alamo\", \"alamo\", \"alfred\", \"alignment\", \"allstate\", \"always\", \"always\", \"always\", \"always\", \"always\", \"always\", \"always\", \"amazing\", \"american_express\", \"amount\", \"amount\", \"amount\", \"amount\", \"another\", \"another\", \"another\", \"another\", \"another\", \"another\", \"another\", \"another\", \"answering\", \"answering\", \"applied\", \"applied\", \"apply\", \"appointed\", \"appropriate\", \"appropriate\", \"area\", \"area\", \"area\", \"area\", \"area\", \"area\", \"area\", \"argued\", \"arrive\", \"arrive\", \"arrive\", \"arrive\", \"arrive\", \"ash\", \"ashamed\", \"asked\", \"asked\", \"asked\", \"asked\", \"asked\", \"aspect\", \"assisted\", \"assisted\", \"assume\", \"assumed\", \"attendant\", \"attendant\", \"attendant\", \"attendant\", \"attendant\", \"attendant\", \"attentive\", \"attentive\", \"attitude\", \"attitude\", \"attitude\", \"attitude\", \"attitude\", \"audi\", \"automated\", \"automated\", \"available\", \"available\", \"available\", \"available\", \"available\", \"available\", \"available\", \"available\", \"average\", \"average\", \"avis_preferred\", \"avoided\", \"avoiding\", \"avoiding\", \"awesome\", \"awesome\", \"awesome\", \"awesome\", \"back\", \"back\", \"back\", \"back\", \"back\", \"back\", \"back\", \"back\", \"bad\", \"bad\", \"bad\", \"bad\", \"bad\", \"bad\", \"bad\", \"bad\", \"bag\", \"bag\", \"bank\", \"bank\", \"basis\", \"bathroom\", \"bbb\", \"beautiful\", \"beer\", \"behavior\", \"behavior\", \"behind\", \"behind\", \"behind\", \"behind\", \"behind\", \"belong\", \"best\", \"best\", \"best\", \"best\", \"best\", \"best\", \"bf\", \"biggest\", \"biggest\", \"biggest\", \"bill\", \"bill\", \"bill\", \"bill\", \"billed\", \"billing\", \"bitch\", \"black\", \"black\", \"blaming\", \"blank\", \"blazing\", \"blew\", \"blow\", \"blown\", \"blue\", \"blvd\", \"blvd\", \"blvd\", \"boarding\", \"bonus\", \"booked\", \"booked\", \"booked\", \"booked\", \"booked\", \"booked\", \"booked\", \"bos\", \"bottled_water\", \"boyfriend\", \"boyfriend\", \"brake\", \"brake\", \"brake\", \"branch\", \"branch\", \"brand_new\", \"brand_new\", \"brand_new\", \"breeze\", \"breeze\", \"brian\", \"budget\", \"budget\", \"budget\", \"budget\", \"budget\", \"budget\", \"budget\", \"budget\", \"budget\", \"building\", \"building\", \"burn\", \"bus\", \"business_bureau\", \"business_practice\", \"cab\", \"cab\", \"cab\", \"cab\", \"call\", \"call\", \"call\", \"call\", \"call\", \"called\", \"called\", \"called\", \"called\", \"called\", \"calmly\", \"camera\", \"camera\", \"camera\", \"cancel\", \"cancel\", \"cancel\", \"canceling\", \"cancellation\", \"cancelled\", \"cancelled\", \"cancelled\", \"cancelled\", \"carefully\", \"carefully\", \"caring\", \"cash\", \"cash\", \"catching\", \"cdw\", \"center\", \"center\", \"center\", \"center\", \"center\", \"central\", \"centre\", \"centre\", \"chain\", \"challenger\", \"charge\", \"charge\", \"charge\", \"charge\", \"charge\", \"charge\", \"charged\", \"charged\", \"charged\", \"check\", \"check\", \"check\", \"check\", \"check\", \"check\", \"checked\", \"checked\", \"checked\", \"checked\", \"checked\", \"checked\", \"checked\", \"chevy\", \"chevy\", \"chevy_spark\", \"choice\", \"choice\", \"choice\", \"choice\", \"choice\", \"choice\", \"choice\", \"choice\", \"chris\", \"chrysler\", \"chrysler\", \"chrysler\", \"cigarette\", \"cigarette\", \"cigarette\", \"cigarette_smoke\", \"cigarette_smoke\", \"citibank\", \"clean\", \"clean\", \"clean\", \"clean\", \"clean\", \"cleanest\", \"cleaning\", \"cleaning\", \"cleaning\", \"clue\", \"coaster\", \"coffee\", \"compact\", \"compact\", \"compact\", \"compact\", \"compact\", \"company\", \"company\", \"company\", \"company\", \"company\", \"company\", \"comparable\", \"competitive\", \"complex\", \"computer_system\", \"concierge\", \"consolidated_facility\", \"consumer\", \"contact\", \"contact\", \"contract\", \"contract\", \"contract\", \"contract\", \"contract\", \"coolant\", \"corolla\", \"corolla\", \"corporate_office\", \"cost\", \"cost\", \"cost\", \"cost\", \"cost\", \"cost\", \"could\", \"could\", \"could\", \"could\", \"could\", \"could\", \"could\", \"could\", \"count\", \"counter\", \"counter\", \"counter\", \"counter\", \"counter\", \"counter\", \"counter\", \"counter\", \"counter\", \"coupon\", \"courteous\", \"courteous\", \"coverage\", \"coverage\", \"coverage\", \"crack\", \"crappy\", \"crappy\", \"create\", \"credit\", \"credit\", \"credit\", \"credit_card\", \"credit_card\", \"credit_card\", \"credited\", \"crew\", \"crew\", \"cruise_control\", \"crumb\", \"crystal\", \"csr\", \"curb\", \"customer\", \"customer\", \"customer\", \"customer\", \"customer\", \"customer\", \"customer\", \"cuz\", \"dad\", \"dam\", \"damage\", \"damage\", \"damage\", \"dark\", \"dark\", \"day\", \"day\", \"day\", \"day\", \"day\", \"day\", \"day\", \"day\", \"de\", \"dealership\", \"dear\", \"death\", \"debit_card\", \"debit_card\", \"deceptive\", \"declined\", \"declined\", \"declined\", \"declined\", \"definitely\", \"definitely\", \"definitely\", \"definitely\", \"definitely\", \"degree_heat\", \"degree_weather\", \"delivered\", \"delivered\", \"delivered\", \"dent\", \"dent\", \"dented\", \"deposit\", \"deposit\", \"deposit\", \"describe\", \"didnt\", \"didnt\", \"didnt\", \"didnt\", \"didnt\", \"didnt\", \"didnt\", \"die\", \"difficult\", \"difficult\", \"difficult\", \"difficult\", \"ding\", \"direct\", \"direct\", \"direct\", \"dirty\", \"dirty\", \"dirty\", \"dirty\", \"dirty\", \"dirty\", \"dirty\", \"disappeared\", \"disappeared\", \"disclosed\", \"discount\", \"discount\", \"discount\", \"discount\", \"discount\", \"discount\", \"discount\", \"discount\", \"disorganized\", \"dispute\", \"disrespectful\", \"dodge_charger\", \"dog\", \"dollar\", \"dollar\", \"dollar\", \"dollar\", \"dollar\", \"dont\", \"dont\", \"dont\", \"dont\", \"dont\", \"dont\", \"dot\", \"driver\", \"driver\", \"driver\", \"driver\", \"driver\", \"driver\", \"driving\", \"driving\", \"driving\", \"driving\", \"driving\", \"driving\", \"driving\", \"drop\", \"drop\", \"drop\", \"drop\", \"drop\", \"drove\", \"drove\", \"drove\", \"drove\", \"drove\", \"due\", \"due\", \"due\", \"due\", \"due\", \"due\", \"due\", \"due\", \"due\", \"due\", \"dumb\", \"dump\", \"easy\", \"easy\", \"efficient\", \"efficient\", \"efficiently\", \"elite\", \"email\", \"email\", \"email\", \"email\", \"emailed\", \"embarrassing\", \"emerald\", \"employee\", \"employee\", \"employee\", \"employee\", \"employee\", \"employee\", \"employee\", \"employee\", \"employee\", \"encounter\", \"endless\", \"engage\", \"enjoyed\", \"enterprise\", \"enterprise\", \"enterprise\", \"enterprise\", \"enterprise\", \"enterprise\", \"enterprise\", \"enterprise\", \"environment\", \"escalator\", \"essentially\", \"establishment\", \"establishment\", \"establishment\", \"estimated\", \"even\", \"even\", \"even\", \"even\", \"even\", \"even\", \"even\", \"ever\", \"ever\", \"ever\", \"ever\", \"ever\", \"ever\", \"ever\", \"everybody\", \"excellent\", \"exceptional\", \"exclusively\", \"executive\", \"expedite\", \"experience\", \"experience\", \"experience\", \"experience\", \"experience\", \"experience\", \"experience\", \"experience\", \"experience\", \"express\", \"express_member\", \"extend\", \"exterior\", \"exterior\", \"exterior\", \"extra\", \"extra\", \"extra\", \"extra\", \"extra\", \"extra\", \"extreme\", \"extreme\", \"facility\", \"facility\", \"facility\", \"facility\", \"facility\", \"fair\", \"fair\", \"fair\", \"false\", \"false\", \"fantastic\", \"fare\", \"fast\", \"fast\", \"fast\", \"fast\", \"faster\", \"faster\", \"faster\", \"fat\", \"fee\", \"fee\", \"fee\", \"fee\", \"fee\", \"feedback\", \"feedback\", \"feeling\", \"feeling\", \"feeling\", \"ferrari\", \"ferrari\", \"file\", \"file\", \"file\", \"filthy\", \"filthy\", \"finally\", \"finally\", \"finally\", \"finally\", \"finally\", \"finally\", \"financial\", \"firefly\", \"firefly\", \"firm\", \"first\", \"first\", \"first\", \"first\", \"first\", \"first\", \"first\", \"fit\", \"fit\", \"fit\", \"fit\", \"flag\", \"flat\", \"flat\", \"flawless\", \"floor\", \"floor_mat\", \"fluid\", \"flying\", \"fool\", \"ford_focus\", \"found\", \"found\", \"found\", \"found\", \"found\", \"found\", \"found\", \"fox\", \"frankly\", \"fraud\", \"free\", \"free\", \"free\", \"free\", \"free\", \"free\", \"free\", \"friendly\", \"friendly\", \"friendly\", \"friendly\", \"front\", \"front\", \"front\", \"front\", \"front\", \"front\", \"ft\", \"fucked\", \"full\", \"full\", \"full\", \"full\", \"full\", \"full\", \"full_size\", \"full_size\", \"full_size\", \"full_size\", \"furthermore\", \"fyi\", \"gallon\", \"gambling\", \"gambling\", \"gambling\", \"garage\", \"garage\", \"garage\", \"garage\", \"garage\", \"garage\", \"garage\", \"garbage\", \"gas\", \"gas\", \"gas\", \"gas\", \"gas\", \"gas\", \"gauge\", \"gave\", \"gave\", \"gave\", \"gave\", \"gave\", \"gave\", \"gear\", \"get\", \"get\", \"get\", \"get\", \"get\", \"get\", \"get\", \"get\", \"ghetto\", \"gillespie\", \"girlfriend\", \"give\", \"give\", \"give\", \"give\", \"give\", \"give\", \"give\", \"given\", \"given\", \"given\", \"given\", \"given\", \"given\", \"given\", \"given\", \"glitch\", \"gm\", \"go\", \"go\", \"go\", \"go\", \"go\", \"go\", \"go\", \"go\", \"going\", \"going\", \"going\", \"going\", \"going\", \"going\", \"going\", \"going\", \"gold\", \"gold_member\", \"good\", \"good\", \"good\", \"good\", \"good\", \"good\", \"good\", \"got\", \"got\", \"got\", \"got\", \"got\", \"got\", \"got\", \"government\", \"grand\", \"grand\", \"grateful\", \"great\", \"great\", \"great\", \"great\", \"great\", \"great\", \"guilt\", \"guy\", \"guy\", \"guy\", \"guy\", \"guy\", \"guy\", \"guy\", \"half\", \"half\", \"half\", \"half\", \"half\", \"hanging\", \"happens\", \"happens\", \"hard\", \"hard\", \"hard\", \"hard\", \"hard\", \"helpful\", \"helpful\", \"helpful\", \"helpful\", \"helpful\", \"henderson\", \"hertz\", \"hertz\", \"hertz\", \"hertz\", \"hertz\", \"hertz\", \"hertz\", \"hertz\", \"hertz\", \"hesitate\", \"hesitation\", \"hey\", \"hide\", \"highly_recommend\", \"highly_recommended\", \"hill\", \"hint\", \"hit_miss\", \"honda\", \"honeymoon\", \"honolulu\", \"honor\", \"honor\", \"honor\", \"hood\", \"hop\", \"hopped\", \"horrendous\", \"horrendous\", \"horrible\", \"horrible\", \"horrible\", \"horrible\", \"horribly\", \"horror_story\", \"host\", \"hot\", \"hot\", \"hot\", \"hot\", \"hot\", \"hot_wire\", \"hour\", \"hour\", \"hour\", \"hour\", \"hour\", \"hour\", \"houston\", \"http_www\", \"http_www\", \"hub\", \"hung\", \"hung\", \"ignore\", \"ignore\", \"im\", \"im\", \"im\", \"im\", \"im\", \"im\", \"im\", \"im\", \"im\", \"improve\", \"inconsistent\", \"increased\", \"incredible\", \"inefficient\", \"initial\", \"initialing\", \"inquiry\", \"insanely\", \"inside\", \"inside\", \"inside\", \"inside\", \"inside\", \"insurance\", \"insurance\", \"insurance\", \"insurance\", \"insurance\", \"intentionally\", \"interior\", \"interior\", \"interior\", \"intermediate\", \"intermediate\", \"intermediate\", \"intermediate\", \"interrupting\", \"invoice\", \"ipad\", \"itinerary\", \"ive\", \"ive\", \"ive\", \"ive\", \"ive\", \"ive\", \"jack\", \"james\", \"jason\", \"jason\", \"jeep_cherokee\", \"jeff\", \"jessica\", \"jessica\", \"joining\", \"journey\", \"july_th\", \"jump\", \"junk\", \"justify\", \"ken\", \"kept_repeating\", \"key\", \"key\", \"key\", \"key\", \"key\", \"key\", \"keyless\", \"kia_rio\", \"kia_soul\", \"kicking\", \"kill\", \"kindly\", \"kindly\", \"kiosk\", \"kiosk\", \"kiosk\", \"kiosk\", \"kiosk\", \"kiosk\", \"know\", \"know\", \"know\", \"know\", \"know\", \"know\", \"know\", \"knowledgeable\", \"la\", \"la\", \"la\", \"la\", \"la\", \"la\", \"la\", \"la\", \"la\", \"la\", \"law\", \"lax\", \"least\", \"least\", \"least\", \"least\", \"least\", \"least\", \"least\", \"least\", \"leather\", \"lesson\", \"lesson\", \"lesson\", \"let\", \"let\", \"let\", \"let\", \"let\", \"let\", \"let\", \"letting\", \"liable\", \"like\", \"like\", \"like\", \"like\", \"like\", \"like\", \"like\", \"like\", \"line\", \"line\", \"line\", \"line\", \"line\", \"lined\", \"lit\", \"loaded\", \"local\", \"local\", \"local\", \"local\", \"located\", \"located\", \"located\", \"location\", \"location\", \"location\", \"location\", \"location\", \"location\", \"location\", \"location\", \"long\", \"long\", \"long\", \"long\", \"long\", \"long\", \"look\", \"look\", \"look\", \"look\", \"look\", \"look\", \"look\", \"los_angeles\", \"los_angeles\", \"lot\", \"lot\", \"lot\", \"lot\", \"lot\", \"lot\", \"lot\", \"lot\", \"lowest\", \"lowest\", \"lowest\", \"loyal\", \"luggage\", \"luggage\", \"luggage\", \"luggage\", \"luxury\", \"luxury\", \"lv\", \"lv\", \"lv\", \"lv\", \"lv\", \"machine\", \"machine\", \"machine\", \"main\", \"main\", \"main\", \"maintain\", \"make\", \"make\", \"make\", \"make\", \"make\", \"make\", \"make\", \"make\", \"management\", \"management\", \"management\", \"management\", \"management\", \"manager\", \"manager\", \"manager\", \"manager\", \"manager\", \"manager\", \"manager\", \"mandatory\", \"manger\", \"manger\", \"manner\", \"maria\", \"mark\", \"mark\", \"mark\", \"mastercard\", \"mastercard\", \"max\", \"maybe\", \"maybe\", \"maybe\", \"maybe\", \"maybe\", \"maybe\", \"mccarran\", \"mccarran\", \"mccarran\", \"mccarran\", \"mccarran_rentacar\", \"mccarren\", \"mccarren\", \"mccarren\", \"mechanic\", \"member\", \"member\", \"member\", \"member\", \"memorial\", \"message\", \"mid_size\", \"mid_size\", \"midsize\", \"midsize\", \"midsize\", \"mike\", \"mile\", \"mile\", \"mile\", \"mile\", \"mile\", \"mile\", \"mile\", \"min\", \"min\", \"min\", \"min\", \"min\", \"min\", \"min\", \"minivan\", \"minivan\", \"minivan\", \"minus\", \"minus\", \"minute\", \"minute\", \"minute\", \"minute\", \"minute\", \"minute\", \"minute\", \"mitsubishi\", \"mom\", \"mom\", \"mountain\", \"moving\", \"moving\", \"moving\", \"moving\", \"mph\", \"mysteriously\", \"nail\", \"name\", \"name\", \"name\", \"name\", \"name\", \"name\", \"name\", \"name\", \"name\", \"nasty\", \"national\", \"national\", \"national\", \"need\", \"need\", \"need\", \"need\", \"need\", \"need\", \"need\", \"needle\", \"nerve\", \"never\", \"never\", \"never\", \"never\", \"never\", \"never\", \"never\", \"never\", \"nice\", \"nice\", \"nice\", \"nice\", \"nice\", \"nice\", \"nice\", \"nissan\", \"nissan_sentra\", \"nonsense\", \"number\", \"number\", \"number\", \"number\", \"number\", \"number\", \"number\", \"number\", \"obnoxious\", \"october\", \"october\", \"offsite\", \"oh_yeah\", \"oil_change\", \"ok\", \"ok\", \"ok\", \"ok\", \"ok\", \"ok\", \"one\", \"one\", \"one\", \"one\", \"one\", \"one\", \"one\", \"one\", \"operating\", \"operator\", \"optional\", \"organized\", \"outstanding\", \"overly\", \"pace\", \"package\", \"pain\", \"pain\", \"pain_butt\", \"painful\", \"pam\", \"party\", \"pathetic\", \"pay\", \"pay\", \"pay\", \"pay\", \"pay\", \"pay\", \"payless\", \"payless\", \"payless\", \"payless\", \"payless\", \"pebble\", \"pen\", \"people\", \"people\", \"people\", \"people\", \"people\", \"people\", \"people\", \"perk\", \"personable\", \"phone\", \"phone\", \"phone\", \"phone\", \"phone\", \"phone\", \"pick\", \"pick\", \"pick\", \"pick\", \"pick\", \"pick\", \"pick\", \"pick\", \"pick\", \"picked\", \"picked\", \"picked\", \"picked\", \"picked\", \"picking_dropping\", \"pickup_dropoff\", \"place\", \"place\", \"place\", \"place\", \"place\", \"place\", \"placed\", \"plague\", \"plague\", \"planet\", \"pleasantly_surprised\", \"pleased\", \"pleased\", \"pleased\", \"pm\", \"pm\", \"pm\", \"pm\", \"pm\", \"po\", \"pointing\", \"popular\", \"portable\", \"porter\", \"portion\", \"pre_paid\", \"precious\", \"preexisting_damage\", \"prefer\", \"prefer\", \"premium\", \"premium\", \"prepare\", \"pressured\", \"price\", \"price\", \"price\", \"price\", \"price\", \"price\", \"price\", \"primary\", \"pro\", \"pro\", \"process\", \"process\", \"process\", \"process\", \"process\", \"process\", \"professional\", \"professional\", \"professional\", \"professional\", \"profile\", \"profit\", \"properly\", \"provider\", \"puke\", \"pure\", \"que\", \"quick\", \"quick\", \"quick\", \"quicker\", \"quote\", \"quote\", \"quoted\", \"quoted\", \"quoted\", \"quoted\", \"rac\", \"rate\", \"rate\", \"rate\", \"rate\", \"rate\", \"rate\", \"rate\", \"rated\", \"rav\", \"really\", \"really\", \"really\", \"really\", \"really\", \"really\", \"really\", \"rear\", \"reasonable\", \"reasonable\", \"recall\", \"recall\", \"receipt\", \"receipt\", \"receipt\", \"recognize\", \"recommended\", \"red_rock\", \"red_rock\", \"red_rock\", \"red_rock\", \"refund\", \"refund\", \"refunded\", \"refunded\", \"regard\", \"regarding\", \"registration\", \"regret\", \"regret\", \"regret\", \"release\", \"relief\", \"remembered\", \"remote\", \"remote\", \"remotely\", \"remove\", \"rent\", \"rent\", \"rent\", \"rent\", \"rent\", \"rent\", \"rent\", \"rent\", \"rent\", \"rented\", \"rented\", \"rented\", \"rented\", \"rented\", \"rented\", \"rented\", \"rented\", \"rented\", \"rented\", \"renter_beware\", \"renting\", \"renting\", \"renting\", \"renting\", \"renting\", \"renting\", \"renting\", \"renting\", \"repeated\", \"repeatedly\", \"replacement\", \"replacement\", \"replacement\", \"replacement\", \"replacement\", \"reply\", \"reported\", \"representing\", \"requirement\", \"requires\", \"reservation\", \"reservation\", \"reservation\", \"reservation\", \"reservation\", \"reservation\", \"reservation\", \"reservation\", \"reservation\", \"reserve\", \"reserve\", \"reserve\", \"reserve\", \"reserve\", \"reserve\", \"reserved\", \"reserved\", \"reserved\", \"reserved\", \"reserved\", \"reserved\", \"reserved\", \"reserved\", \"reserved\", \"resident\", \"resolve_issue\", \"resolve_issue\", \"restroom\", \"resulted\", \"return\", \"return\", \"return\", \"return\", \"return\", \"return\", \"returned\", \"returned\", \"returned\", \"returned\", \"returned\", \"returned\", \"review\", \"review\", \"review\", \"review\", \"review\", \"review\", \"review\", \"review\", \"ride\", \"ride\", \"ride\", \"ride\", \"ridiculously\", \"riding\", \"right\", \"right\", \"right\", \"right\", \"right\", \"right\", \"right\", \"roadside_assistance\", \"roadside_assistance\", \"roadside_assistance\", \"robert\", \"rode\", \"rode\", \"rode\", \"roller\", \"rude\", \"rude\", \"rude\", \"rude\", \"rudeness\", \"safe\", \"safe\", \"said\", \"said\", \"said\", \"said\", \"said\", \"san_francisco\", \"sat\", \"saw\", \"saw\", \"saw\", \"saw\", \"saw\", \"say\", \"say\", \"say\", \"say\", \"say\", \"say\", \"say\", \"scam_artist\", \"scare_buying\", \"scum\", \"seat\", \"seat\", \"seat\", \"seat\", \"seattle\", \"security_deposit\", \"sedan\", \"sedan\", \"sedan\", \"see\", \"see\", \"see\", \"see\", \"see\", \"see\", \"see\", \"select\", \"select\", \"selection\", \"selection\", \"september\", \"served\", \"service\", \"service\", \"service\", \"service\", \"service\", \"service\", \"service\", \"service\", \"servicing\", \"seven\", \"shabby\", \"shaking\", \"shoot\", \"shorter\", \"shuttle\", \"side\", \"side\", \"side\", \"side\", \"sigh\", \"similar\", \"similar\", \"similar\", \"similar\", \"similar\", \"similar\", \"sincere\", \"single\", \"single\", \"single\", \"single\", \"single\", \"site\", \"site\", \"site\", \"site\", \"site\", \"sixt\", \"sized\", \"sized\", \"sketchy\", \"slip\", \"slot_machine\", \"slow\", \"slow\", \"slower\", \"slowest\", \"smaller\", \"smaller\", \"smaller\", \"smell\", \"smell\", \"smell\", \"smelled\", \"smelled\", \"smoke\", \"smoked\", \"smoking\", \"smoking\", \"smooth\", \"smooth\", \"smooth\", \"sneak\", \"snotty\", \"soda\", \"something\", \"something\", \"something\", \"something\", \"something\", \"son\", \"soooo\", \"soul\", \"sound\", \"sound\", \"sound\", \"speedy\", \"staff\", \"staff\", \"staff\", \"staff\", \"staff\", \"staff\", \"staff\", \"staffed\", \"staffer\", \"stain\", \"stained\", \"stained\", \"stall\", \"stall\", \"stall\", \"stand\", \"stand\", \"stand\", \"stand\", \"stand\", \"standing\", \"standing\", \"standing\", \"standing\", \"standing\", \"star\", \"star\", \"star\", \"star\", \"star\", \"star\", \"star\", \"statement\", \"status\", \"status\", \"stealing\", \"steer_clear\", \"stellar\", \"stink\", \"stink\", \"stink\", \"stinky\", \"stolen\", \"stood\", \"stood\", \"strip\", \"strip\", \"strip\", \"strip\", \"strongly_recommend\", \"struggling\", \"style\", \"suburban\", \"suffer\", \"summer\", \"super\", \"super\", \"super\", \"super\", \"super\", \"supplemental\", \"supply\", \"support\", \"support\", \"support\", \"support\", \"sure\", \"sure\", \"sure\", \"sure\", \"sure\", \"sure\", \"sure\", \"suv\", \"suv\", \"suv\", \"suv\", \"suv\", \"suv\", \"tahoe\", \"take\", \"take\", \"take\", \"take\", \"take\", \"take\", \"take\", \"tall\", \"tank\", \"tank\", \"tax\", \"tax\", \"tax\", \"taxi\", \"taxi\", \"taxi\", \"team\", \"team\", \"tell\", \"tell\", \"tell\", \"tell\", \"tell\", \"temp\", \"temperature\", \"temporary\", \"term_condition\", \"terminal\", \"terrible\", \"terrible\", \"terrible\", \"terrible\", \"terrible\", \"terrible\", \"terrific\", \"terry\", \"thank\", \"thank\", \"thank\", \"thank\", \"thank\", \"thank_goodness\", \"thank_goodness\", \"thanks\", \"thanks\", \"thanks\", \"thanks\", \"thanks\", \"thanks\", \"thats\", \"thats\", \"thats\", \"thats\", \"thats\", \"thats\", \"thing\", \"thing\", \"thing\", \"thing\", \"thing\", \"thing\", \"thing\", \"thing\", \"think\", \"think\", \"think\", \"think\", \"think\", \"think\", \"tho\", \"tho\", \"thrifty\", \"thrifty\", \"ticket\", \"ticket\", \"till\", \"time\", \"time\", \"time\", \"time\", \"time\", \"time\", \"time\", \"timely_manner\", \"tiny\", \"tire\", \"tire\", \"told\", \"told\", \"told\", \"told\", \"told\", \"tone\", \"took\", \"took\", \"took\", \"took\", \"took\", \"took\", \"took\", \"top_notch\", \"total\", \"total\", \"total\", \"total\", \"total\", \"total\", \"tournament\", \"toyota\", \"toyota\", \"toyota_corolla\", \"toyota_runner\", \"transfer\", \"transferred\", \"trip\", \"trip\", \"trip\", \"trip\", \"trip\", \"trip\", \"trip\", \"truck\", \"truck\", \"trunk\", \"trunk\", \"trusted\", \"tv\", \"two\", \"two\", \"two\", \"two\", \"two\", \"two\", \"two\", \"two\", \"two\", \"two\", \"typical\", \"ugh\", \"understaffed\", \"understaffed\", \"unexpected\", \"unfortunate\", \"unhappy\", \"unlimited_mile\", \"unlimited_mile\", \"unprofessional\", \"unprofessional\", \"unprofessional\", \"unprofessional\", \"unreal\", \"upgrade\", \"upgrade\", \"upgrade\", \"upgrade\", \"upgrade\", \"upgrade\", \"upgrade\", \"upstairs\", \"upstairs\", \"usa\", \"usb\", \"usd\", \"utility_bill\", \"utilize\", \"utilize\", \"van\", \"van\", \"van\", \"van\", \"vega\", \"vega\", \"vega\", \"vega\", \"vega\", \"vega\", \"vega\", \"vega\", \"vega\", \"vega\", \"vehicle\", \"vehicle\", \"vehicle\", \"vehicle\", \"vehicle\", \"vehicle\", \"vehicle\", \"vehicle\", \"vehicle\", \"vendor\", \"vendor\", \"vendor\", \"versa\", \"versus\", \"visa\", \"voicemail\", \"vomit\", \"voucher\", \"wait\", \"wait\", \"wait\", \"wait\", \"wait\", \"wait\", \"waited\", \"waited\", \"waited\", \"waited\", \"waited\", \"waiting\", \"waiting\", \"waiting\", \"waiting\", \"waiting\", \"waiving\", \"walk\", \"walk\", \"walk\", \"walk\", \"walk\", \"walk\", \"wallet\", \"want\", \"want\", \"want\", \"want\", \"want\", \"want\", \"wash\", \"wash\", \"wash\", \"wash\", \"washed\", \"washed\", \"washed\", \"washed\", \"washer_fluid\", \"watched\", \"water\", \"water\", \"water\", \"way\", \"way\", \"way\", \"way\", \"way\", \"way\", \"way\", \"wednesday\", \"welcomed\", \"well\", \"well\", \"well\", \"well\", \"well\", \"well\", \"well\", \"well_maintained\", \"went\", \"went\", \"went\", \"went\", \"went\", \"went\", \"went\", \"went\", \"went\", \"west\", \"whatsoever\", \"whatsoever\", \"whatsoever\", \"whenever\", \"window\", \"window\", \"window\", \"wondered\", \"wonderful\", \"wonderful\", \"working\", \"working\", \"working\", \"working\", \"working\", \"working\", \"worst\", \"worst\", \"worst\", \"worst\", \"worth_saving\", \"wound\", \"yaris\", \"yeah\", \"yeah\", \"year\", \"year\", \"year\", \"year\", \"year\", \"year\", \"year\", \"yelled\", \"yelled\", \"yelling\", \"yelp\", \"yelp\", \"yelp\", \"yelp\", \"yelp\", \"yelp\", \"yep\", \"youd\", \"youve\", \"zion_national\"]}, \"R\": 30, \"lambda.step\": 0.01, \"plot.opts\": {\"xlab\": \"PC1\", \"ylab\": \"PC2\"}, \"topic.order\": [8, 9, 7, 5, 10, 4, 6, 12, 15, 3, 14, 2, 13, 1, 11]};\n",
       "\n",
       "function LDAvis_load_lib(url, callback){\n",
       "  var s = document.createElement('script');\n",
       "  s.src = url;\n",
       "  s.async = true;\n",
       "  s.onreadystatechange = s.onload = callback;\n",
       "  s.onerror = function(){console.warn(\"failed to load library \" + url);};\n",
       "  document.getElementsByTagName(\"head\")[0].appendChild(s);\n",
       "}\n",
       "\n",
       "if(typeof(LDAvis) !== \"undefined\"){\n",
       "   // already loaded: just create the visualization\n",
       "   !function(LDAvis){\n",
       "       new LDAvis(\"#\" + \"ldavis_el1511403074911995683561196321\", ldavis_el1511403074911995683561196321_data);\n",
       "   }(LDAvis);\n",
       "}else if(typeof define === \"function\" && define.amd){\n",
       "   // require.js is available: use it to load d3/LDAvis\n",
       "   require.config({paths: {d3: \"https://d3js.org/d3.v5\"}});\n",
       "   require([\"d3\"], function(d3){\n",
       "      window.d3 = d3;\n",
       "      LDAvis_load_lib(\"https://cdn.jsdelivr.net/gh/bmabey/pyLDAvis@3.3.1/pyLDAvis/js/ldavis.v3.0.0.js\", function(){\n",
       "        new LDAvis(\"#\" + \"ldavis_el1511403074911995683561196321\", ldavis_el1511403074911995683561196321_data);\n",
       "      });\n",
       "    });\n",
       "}else{\n",
       "    // require.js not available: dynamically load d3 & LDAvis\n",
       "    LDAvis_load_lib(\"https://d3js.org/d3.v5.js\", function(){\n",
       "         LDAvis_load_lib(\"https://cdn.jsdelivr.net/gh/bmabey/pyLDAvis@3.3.1/pyLDAvis/js/ldavis.v3.0.0.js\", function(){\n",
       "                 new LDAvis(\"#\" + \"ldavis_el1511403074911995683561196321\", ldavis_el1511403074911995683561196321_data);\n",
       "            })\n",
       "         });\n",
       "}\n",
       "</script>"
      ],
      "text/plain": [
       "PreparedData(topic_coordinates=              x         y  topics  cluster       Freq\n",
       "topic                                                \n",
       "7      0.238826 -0.051348       1        1  23.717668\n",
       "8      0.245453 -0.006084       2        1  21.687574\n",
       "6      0.262469 -0.020935       3        1  12.868837\n",
       "4      0.229925  0.026189       4        1  10.664893\n",
       "9      0.258221 -0.004423       5        1  10.358108\n",
       "3      0.212907 -0.048136       6        1   8.294264\n",
       "5      0.184393 -0.034802       7        1   6.499240\n",
       "11    -0.072133  0.204764       8        1   1.728991\n",
       "14    -0.130631  0.294396       9        1   1.065784\n",
       "2     -0.216459 -0.110893      10        1   0.788043\n",
       "13    -0.217359 -0.048519      11        1   0.701797\n",
       "1     -0.246384 -0.058174      12        1   0.541493\n",
       "12    -0.238123 -0.052723      13        1   0.444638\n",
       "0     -0.254295 -0.043167      14        1   0.355472\n",
       "10    -0.256809 -0.046145      15        1   0.283197, topic_info=            Term         Freq        Total Category  logprob  loglift\n",
       "466       dollar  1820.000000  1820.000000  Default  30.0000  30.0000\n",
       "241         line  3903.000000  3903.000000  Default  29.0000  29.0000\n",
       "4879         fox  1187.000000  1187.000000  Default  28.0000  28.0000\n",
       "296      shuttle  2475.000000  2475.000000  Default  27.0000  27.0000\n",
       "562      vehicle  1916.000000  1916.000000  Default  26.0000  26.0000\n",
       "...          ...          ...          ...      ...      ...      ...\n",
       "2471    hot_wire     2.734726     3.649862  Topic15  -6.2402   5.5781\n",
       "4270      kindly    15.274113    26.679303  Topic15  -4.5201   5.3091\n",
       "924      utilize     4.367528     7.229815  Topic15  -5.7720   5.3628\n",
       "2986  mastercard     6.007919    12.956527  Topic15  -5.4531   5.0983\n",
       "2322        file     4.838983    55.836683  Topic15  -5.6695   3.4211\n",
       "\n",
       "[921 rows x 6 columns], token_table=      Topic      Freq            Term\n",
       "term                                 \n",
       "4772      8  0.964893         ability\n",
       "2685     10  0.988566  absolute_worst\n",
       "3678     12  0.914366         abusive\n",
       "898       2  0.889237         account\n",
       "898       6  0.031533         account\n",
       "...     ...       ...             ...\n",
       "1681     12  0.041169            yelp\n",
       "4047     14  0.903119             yep\n",
       "2857      1  0.966963            youd\n",
       "2308      1  0.987357           youve\n",
       "4105      8  0.963480   zion_national\n",
       "\n",
       "[2105 rows x 3 columns], R=30, lambda_step=0.01, plot_opts={'xlab': 'PC1', 'ylab': 'PC2'}, topic_order=[8, 9, 7, 5, 10, 4, 6, 12, 15, 3, 14, 2, 13, 1, 11])"
      ]
     },
     "execution_count": 137,
     "metadata": {},
     "output_type": "execute_result"
    }
   ],
   "source": [
    "vis = gensimvis.prepare(lda_model,corpus, id2word)\n",
    "vis"
   ]
  },
  {
   "cell_type": "markdown",
   "id": "c2227928",
   "metadata": {},
   "source": [
    "**Compute perplexity and coherence score**"
   ]
  },
  {
   "cell_type": "code",
   "execution_count": 138,
   "id": "b427744f",
   "metadata": {},
   "outputs": [
    {
     "name": "stdout",
     "output_type": "stream",
     "text": [
      "\n",
      "Perplexity:  -8.08926989248882\n",
      "\n",
      "Coherence Score:  0.4654545336032163\n"
     ]
    }
   ],
   "source": [
    "# Compute Perplexity\n",
    "print('\\nPerplexity: ', lda_model.log_perplexity(corpus))  # a measure of how good the model is. lower the better.\n",
    "\n",
    "# Compute Coherence Score\n",
    "coherence_model_lda = CoherenceModel(model=lda_model, texts=data_words, dictionary=id2word, coherence='c_v')\n",
    "coherence_lda = coherence_model_lda.get_coherence()\n",
    "print('\\nCoherence Score: ', coherence_lda)"
   ]
  },
  {
   "cell_type": "markdown",
   "id": "755bee03",
   "metadata": {},
   "source": [
    "**Finding the dominant topic in each sentence**"
   ]
  },
  {
   "cell_type": "code",
   "execution_count": 139,
   "id": "2f7cac93",
   "metadata": {},
   "outputs": [
    {
     "data": {
      "text/html": [
       "<div>\n",
       "<style scoped>\n",
       "    .dataframe tbody tr th:only-of-type {\n",
       "        vertical-align: middle;\n",
       "    }\n",
       "\n",
       "    .dataframe tbody tr th {\n",
       "        vertical-align: top;\n",
       "    }\n",
       "\n",
       "    .dataframe thead th {\n",
       "        text-align: right;\n",
       "    }\n",
       "</style>\n",
       "<table border=\"1\" class=\"dataframe\">\n",
       "  <thead>\n",
       "    <tr style=\"text-align: right;\">\n",
       "      <th></th>\n",
       "      <th>Document_No</th>\n",
       "      <th>Dominant_Topic</th>\n",
       "      <th>Topic_Perc_Contrib</th>\n",
       "      <th>Keywords</th>\n",
       "      <th>Text</th>\n",
       "    </tr>\n",
       "  </thead>\n",
       "  <tbody>\n",
       "    <tr>\n",
       "      <th>0</th>\n",
       "      <td>0</td>\n",
       "      <td>7.0</td>\n",
       "      <td>0.6897</td>\n",
       "      <td>get, like, time, dont, one, didnt, insurance, ...</td>\n",
       "      <td>[review, 189, 2016, we, arrived, at, hertz, at...</td>\n",
       "    </tr>\n",
       "    <tr>\n",
       "      <th>1</th>\n",
       "      <td>1</td>\n",
       "      <td>9.0</td>\n",
       "      <td>0.4415</td>\n",
       "      <td>place, rent, dont, reservation, service, get, ...</td>\n",
       "      <td>[run, run, run, this, is, a, sham, up, one, si...</td>\n",
       "    </tr>\n",
       "    <tr>\n",
       "      <th>2</th>\n",
       "      <td>2</td>\n",
       "      <td>8.0</td>\n",
       "      <td>0.5619</td>\n",
       "      <td>insurance, day, charge, told, company, said, c...</td>\n",
       "      <td>[i, will, never, rented, from, them, my, frien...</td>\n",
       "    </tr>\n",
       "    <tr>\n",
       "      <th>3</th>\n",
       "      <td>3</td>\n",
       "      <td>7.0</td>\n",
       "      <td>0.3142</td>\n",
       "      <td>get, like, time, dont, one, didnt, insurance, ...</td>\n",
       "      <td>[my, wife, and, i, flew, out, to, vega, for, t...</td>\n",
       "    </tr>\n",
       "    <tr>\n",
       "      <th>4</th>\n",
       "      <td>4</td>\n",
       "      <td>4.0</td>\n",
       "      <td>0.6340</td>\n",
       "      <td>great, service, experience, vega, rent, time, ...</td>\n",
       "      <td>[check, in, and, check, out, wa, quick, and, e...</td>\n",
       "    </tr>\n",
       "    <tr>\n",
       "      <th>5</th>\n",
       "      <td>5</td>\n",
       "      <td>6.0</td>\n",
       "      <td>0.2818</td>\n",
       "      <td>line, hour, wait, people, get, minute, time, c...</td>\n",
       "      <td>[made, my, online, reservation, with, hertz, a...</td>\n",
       "    </tr>\n",
       "    <tr>\n",
       "      <th>6</th>\n",
       "      <td>6</td>\n",
       "      <td>3.0</td>\n",
       "      <td>0.3249</td>\n",
       "      <td>shuttle, airport, get, take, center, minute, b...</td>\n",
       "      <td>[wow, location, is, horrible, scary, dungeon, ...</td>\n",
       "    </tr>\n",
       "    <tr>\n",
       "      <th>7</th>\n",
       "      <td>7</td>\n",
       "      <td>3.0</td>\n",
       "      <td>0.4892</td>\n",
       "      <td>shuttle, airport, get, take, center, minute, b...</td>\n",
       "      <td>[a, very, streamlined, process, from, baggage,...</td>\n",
       "    </tr>\n",
       "    <tr>\n",
       "      <th>8</th>\n",
       "      <td>8</td>\n",
       "      <td>4.0</td>\n",
       "      <td>0.3951</td>\n",
       "      <td>great, service, experience, vega, rent, time, ...</td>\n",
       "      <td>[im, honestly, shocked, this, location, doe, n...</td>\n",
       "    </tr>\n",
       "    <tr>\n",
       "      <th>9</th>\n",
       "      <td>9</td>\n",
       "      <td>3.0</td>\n",
       "      <td>0.9003</td>\n",
       "      <td>shuttle, airport, get, take, center, minute, b...</td>\n",
       "      <td>[this, place, wa, awesome, it, like, a, little...</td>\n",
       "    </tr>\n",
       "  </tbody>\n",
       "</table>\n",
       "</div>"
      ],
      "text/plain": [
       "   Document_No  Dominant_Topic  Topic_Perc_Contrib  \\\n",
       "0            0             7.0              0.6897   \n",
       "1            1             9.0              0.4415   \n",
       "2            2             8.0              0.5619   \n",
       "3            3             7.0              0.3142   \n",
       "4            4             4.0              0.6340   \n",
       "5            5             6.0              0.2818   \n",
       "6            6             3.0              0.3249   \n",
       "7            7             3.0              0.4892   \n",
       "8            8             4.0              0.3951   \n",
       "9            9             3.0              0.9003   \n",
       "\n",
       "                                            Keywords  \\\n",
       "0  get, like, time, dont, one, didnt, insurance, ...   \n",
       "1  place, rent, dont, reservation, service, get, ...   \n",
       "2  insurance, day, charge, told, company, said, c...   \n",
       "3  get, like, time, dont, one, didnt, insurance, ...   \n",
       "4  great, service, experience, vega, rent, time, ...   \n",
       "5  line, hour, wait, people, get, minute, time, c...   \n",
       "6  shuttle, airport, get, take, center, minute, b...   \n",
       "7  shuttle, airport, get, take, center, minute, b...   \n",
       "8  great, service, experience, vega, rent, time, ...   \n",
       "9  shuttle, airport, get, take, center, minute, b...   \n",
       "\n",
       "                                                Text  \n",
       "0  [review, 189, 2016, we, arrived, at, hertz, at...  \n",
       "1  [run, run, run, this, is, a, sham, up, one, si...  \n",
       "2  [i, will, never, rented, from, them, my, frien...  \n",
       "3  [my, wife, and, i, flew, out, to, vega, for, t...  \n",
       "4  [check, in, and, check, out, wa, quick, and, e...  \n",
       "5  [made, my, online, reservation, with, hertz, a...  \n",
       "6  [wow, location, is, horrible, scary, dungeon, ...  \n",
       "7  [a, very, streamlined, process, from, baggage,...  \n",
       "8  [im, honestly, shocked, this, location, doe, n...  \n",
       "9  [this, place, wa, awesome, it, like, a, little...  "
      ]
     },
     "execution_count": 139,
     "metadata": {},
     "output_type": "execute_result"
    }
   ],
   "source": [
    "def format_topics_sentences(ldamodel=None, corpus=corpus, texts=data):\n",
    "    # Init output\n",
    "    sent_topics_df = pd.DataFrame()\n",
    "\n",
    "    # Get main topic in each document\n",
    "    for i, row_list in enumerate(ldamodel[corpus]):\n",
    "        row = row_list[0] if ldamodel.per_word_topics else row_list            \n",
    "        # print(row)\n",
    "        row = sorted(row, key=lambda x: (x[1]), reverse=True)\n",
    "        # Get the Dominant topic, Perc Contribution and Keywords for each document\n",
    "        for j, (topic_num, prop_topic) in enumerate(row):\n",
    "            if j == 0:  # => dominant topic\n",
    "                wp = ldamodel.show_topic(topic_num)\n",
    "                topic_keywords = \", \".join([word for word, prop in wp])\n",
    "                sent_topics_df = sent_topics_df.append(pd.Series([int(topic_num), round(prop_topic,4), topic_keywords]), ignore_index=True)\n",
    "            else:\n",
    "                break\n",
    "    sent_topics_df.columns = ['Dominant_Topic', 'Perc_Contribution', 'Topic_Keywords']\n",
    "\n",
    "    # Add original text to the end of the output\n",
    "    contents = pd.Series(texts)\n",
    "    sent_topics_df = pd.concat([sent_topics_df, contents], axis=1)\n",
    "    return(sent_topics_df)\n",
    "\n",
    "\n",
    "df_topic_sents_keywords = format_topics_sentences(ldamodel=lda_model, corpus=corpus, texts=data)\n",
    "\n",
    "# Format\n",
    "df_dominant_topic = df_topic_sents_keywords.reset_index()\n",
    "df_dominant_topic.columns = ['Document_No', 'Dominant_Topic', 'Topic_Perc_Contrib', 'Keywords', 'Text']\n",
    "df_dominant_topic.head(10)"
   ]
  },
  {
   "cell_type": "code",
   "execution_count": 140,
   "id": "fe1a8e31",
   "metadata": {},
   "outputs": [],
   "source": [
    "plt.rcParams[\"figure.figsize\"] = (12,6)"
   ]
  },
  {
   "cell_type": "code",
   "execution_count": 141,
   "id": "f2b99d29",
   "metadata": {},
   "outputs": [
    {
     "data": {
      "text/plain": [
       "Text(0.5, 1.0, 'Count Dominant Topic Across Document')"
      ]
     },
     "execution_count": 141,
     "metadata": {},
     "output_type": "execute_result"
    },
    {
     "data": {
      "image/png": "[encoded data removed]",
      "text/plain": [
       "<Figure size 864x432 with 1 Axes>"
      ]
     },
     "metadata": {
      "needs_background": "light"
     },
     "output_type": "display_data"
    }
   ],
   "source": [
    "fig = df_dominant_topic.groupby('Dominant_Topic')['Dominant_Topic'].agg(['count']).sort_values(\"count\", ascending = False).plot(kind = 'bar', legend = False)\n",
    "plt.xlabel(\"Dominant Topic\")\n",
    "plt.title(\"Count Dominant Topic Across Document\")"
   ]
  },
  {
   "cell_type": "markdown",
   "id": "b595a1f6",
   "metadata": {},
   "source": [
    "**Find the most representative document for each topic**"
   ]
  },
  {
   "cell_type": "code",
   "execution_count": 167,
   "id": "485aab9a",
   "metadata": {},
   "outputs": [
    {
     "data": {
      "text/html": [
       "<div>\n",
       "<style scoped>\n",
       "    .dataframe tbody tr th:only-of-type {\n",
       "        vertical-align: middle;\n",
       "    }\n",
       "\n",
       "    .dataframe tbody tr th {\n",
       "        vertical-align: top;\n",
       "    }\n",
       "\n",
       "    .dataframe thead th {\n",
       "        text-align: right;\n",
       "    }\n",
       "</style>\n",
       "<table border=\"1\" class=\"dataframe\">\n",
       "  <thead>\n",
       "    <tr style=\"text-align: right;\">\n",
       "      <th></th>\n",
       "      <th>Topic_Num</th>\n",
       "      <th>Topic_Perc_Contrib</th>\n",
       "      <th>Keywords</th>\n",
       "      <th>Text</th>\n",
       "    </tr>\n",
       "  </thead>\n",
       "  <tbody>\n",
       "    <tr>\n",
       "      <th>0</th>\n",
       "      <td>1.0</td>\n",
       "      <td>0.9887</td>\n",
       "      <td>fox, garbage, watched, fair, cuz, apply, needl...</td>\n",
       "      <td>[apos, fazer, muita, pesquisa, e, mesmo, lendo...</td>\n",
       "    </tr>\n",
       "    <tr>\n",
       "      <th>1</th>\n",
       "      <td>2.0</td>\n",
       "      <td>0.8948</td>\n",
       "      <td>dirty, smell, filthy, smelled, inside, smoke, ...</td>\n",
       "      <td>[da, car, rental, center, ist, vom, mccarran, ...</td>\n",
       "    </tr>\n",
       "    <tr>\n",
       "      <th>2</th>\n",
       "      <td>3.0</td>\n",
       "      <td>0.9867</td>\n",
       "      <td>shuttle, airport, get, take, center, minute, b...</td>\n",
       "      <td>[it, wa, my, first, time, to, rent, a, car, in...</td>\n",
       "    </tr>\n",
       "    <tr>\n",
       "      <th>3</th>\n",
       "      <td>4.0</td>\n",
       "      <td>0.9689</td>\n",
       "      <td>great, service, experience, vega, rent, time, ...</td>\n",
       "      <td>[this, wa, a, great, place, to, rent, a, car, ...</td>\n",
       "    </tr>\n",
       "    <tr>\n",
       "      <th>4</th>\n",
       "      <td>5.0</td>\n",
       "      <td>0.8026</td>\n",
       "      <td>got, back, went, said, gas, upgrade, told, did...</td>\n",
       "      <td>[very, nice, car, very, clean, window, clean, ...</td>\n",
       "    </tr>\n",
       "    <tr>\n",
       "      <th>5</th>\n",
       "      <td>6.0</td>\n",
       "      <td>0.9816</td>\n",
       "      <td>line, hour, wait, people, get, minute, time, c...</td>\n",
       "      <td>[i, will, never, rent, from, advantage, again,...</td>\n",
       "    </tr>\n",
       "    <tr>\n",
       "      <th>6</th>\n",
       "      <td>7.0</td>\n",
       "      <td>0.9852</td>\n",
       "      <td>get, like, time, dont, one, didnt, insurance, ...</td>\n",
       "      <td>[this, is, is, response, to, peter, m, who, wa...</td>\n",
       "    </tr>\n",
       "    <tr>\n",
       "      <th>7</th>\n",
       "      <td>8.0</td>\n",
       "      <td>0.9900</td>\n",
       "      <td>insurance, day, charge, told, company, said, c...</td>\n",
       "      <td>[i, booked, a, rental, car, using, orbitz, the...</td>\n",
       "    </tr>\n",
       "    <tr>\n",
       "      <th>8</th>\n",
       "      <td>9.0</td>\n",
       "      <td>0.9717</td>\n",
       "      <td>place, rent, dont, reservation, service, get, ...</td>\n",
       "      <td>[i, wish, i, could, give, them, zero, star, wo...</td>\n",
       "    </tr>\n",
       "    <tr>\n",
       "      <th>9</th>\n",
       "      <td>11.0</td>\n",
       "      <td>0.8833</td>\n",
       "      <td>vehicle, hertz, national, member, location, av...</td>\n",
       "      <td>[how, is, it, possible, that, you, can, be, a,...</td>\n",
       "    </tr>\n",
       "    <tr>\n",
       "      <th>10</th>\n",
       "      <td>12.0</td>\n",
       "      <td>0.4648</td>\n",
       "      <td>wednesday, pain, sat, ugh, coffee, lowest, fas...</td>\n",
       "      <td>[wa, contacted, by, the, branch, manager, and,...</td>\n",
       "    </tr>\n",
       "    <tr>\n",
       "      <th>11</th>\n",
       "      <td>13.0</td>\n",
       "      <td>0.2876</td>\n",
       "      <td>sixt, tire, flat, ghetto, inefficient, air, st...</td>\n",
       "      <td>[worst, car, rental, place, they, advertise, l...</td>\n",
       "    </tr>\n",
       "    <tr>\n",
       "      <th>12</th>\n",
       "      <td>14.0</td>\n",
       "      <td>0.4005</td>\n",
       "      <td>dollar, express, thrifty, firefly, hertz, expr...</td>\n",
       "      <td>[run, dont, walk, from, thrifty, rental, car, ...</td>\n",
       "    </tr>\n",
       "  </tbody>\n",
       "</table>\n",
       "</div>"
      ],
      "text/plain": [
       "    Topic_Num  Topic_Perc_Contrib  \\\n",
       "0         1.0              0.9887   \n",
       "1         2.0              0.8948   \n",
       "2         3.0              0.9867   \n",
       "3         4.0              0.9689   \n",
       "4         5.0              0.8026   \n",
       "5         6.0              0.9816   \n",
       "6         7.0              0.9852   \n",
       "7         8.0              0.9900   \n",
       "8         9.0              0.9717   \n",
       "9        11.0              0.8833   \n",
       "10       12.0              0.4648   \n",
       "11       13.0              0.2876   \n",
       "12       14.0              0.4005   \n",
       "\n",
       "                                             Keywords  \\\n",
       "0   fox, garbage, watched, fair, cuz, apply, needl...   \n",
       "1   dirty, smell, filthy, smelled, inside, smoke, ...   \n",
       "2   shuttle, airport, get, take, center, minute, b...   \n",
       "3   great, service, experience, vega, rent, time, ...   \n",
       "4   got, back, went, said, gas, upgrade, told, did...   \n",
       "5   line, hour, wait, people, get, minute, time, c...   \n",
       "6   get, like, time, dont, one, didnt, insurance, ...   \n",
       "7   insurance, day, charge, told, company, said, c...   \n",
       "8   place, rent, dont, reservation, service, get, ...   \n",
       "9   vehicle, hertz, national, member, location, av...   \n",
       "10  wednesday, pain, sat, ugh, coffee, lowest, fas...   \n",
       "11  sixt, tire, flat, ghetto, inefficient, air, st...   \n",
       "12  dollar, express, thrifty, firefly, hertz, expr...   \n",
       "\n",
       "                                                 Text  \n",
       "0   [apos, fazer, muita, pesquisa, e, mesmo, lendo...  \n",
       "1   [da, car, rental, center, ist, vom, mccarran, ...  \n",
       "2   [it, wa, my, first, time, to, rent, a, car, in...  \n",
       "3   [this, wa, a, great, place, to, rent, a, car, ...  \n",
       "4   [very, nice, car, very, clean, window, clean, ...  \n",
       "5   [i, will, never, rent, from, advantage, again,...  \n",
       "6   [this, is, is, response, to, peter, m, who, wa...  \n",
       "7   [i, booked, a, rental, car, using, orbitz, the...  \n",
       "8   [i, wish, i, could, give, them, zero, star, wo...  \n",
       "9   [how, is, it, possible, that, you, can, be, a,...  \n",
       "10  [wa, contacted, by, the, branch, manager, and,...  \n",
       "11  [worst, car, rental, place, they, advertise, l...  \n",
       "12  [run, dont, walk, from, thrifty, rental, car, ...  "
      ]
     },
     "execution_count": 167,
     "metadata": {},
     "output_type": "execute_result"
    }
   ],
   "source": [
    "# Group top 5 sentences under each topic\n",
    "df_lda_sent_topics_sorted = pd.DataFrame()\n",
    "\n",
    "sent_topics_outdf_grpd = df_topic_sents_keywords.groupby('Dominant_Topic')\n",
    "\n",
    "for i, grp in sent_topics_outdf_grpd:\n",
    "    df_lda_sent_topics_sorted = pd.concat([df_lda_sent_topics_sorted, \n",
    "                                             grp.sort_values(['Perc_Contribution'], ascending=[0]).head(1)], \n",
    "                                            axis=0)\n",
    "    \n",
    "\n",
    "df_lda_sent_topics_sorted.reset_index(drop=True, inplace=True)\n",
    "\n",
    "df_lda_sent_topics_sorted.columns = ['Topic_Num', \"Topic_Perc_Contrib\", \"Keywords\", \"Text\"]\n",
    "\n",
    "df_lda_sent_topics_sorted"
   ]
  },
  {
   "cell_type": "code",
   "execution_count": null,
   "id": "32e5131e",
   "metadata": {},
   "outputs": [],
   "source": []
  }
 ],
 "metadata": {
  "kernelspec": {
   "display_name": "Python 3",
   "language": "python",
   "name": "python3"
  },
  "language_info": {
   "codemirror_mode": {
    "name": "ipython",
    "version": 3
   },
   "file_extension": ".py",
   "mimetype": "text/x-python",
   "name": "python",
   "nbconvert_exporter": "python",
   "pygments_lexer": "ipython3",
   "version": "3.8.5"
  }
 },
 "nbformat": 4,
 "nbformat_minor": 5
}
